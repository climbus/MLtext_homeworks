{
 "cells": [
  {
   "cell_type": "markdown",
   "metadata": {},
   "source": [
    "# Homework week  3"
   ]
  },
  {
   "cell_type": "code",
   "execution_count": 1,
   "metadata": {
    "collapsed": true
   },
   "outputs": [],
   "source": [
    "import re"
   ]
  },
  {
   "cell_type": "markdown",
   "metadata": {},
   "source": [
    "## Task 1"
   ]
  },
  {
   "cell_type": "code",
   "execution_count": 2,
   "metadata": {
    "collapsed": false
   },
   "outputs": [],
   "source": [
    "with open(\"./reputation.txt\", \"r\") as f:\n",
    "    lines = f.readlines()"
   ]
  },
  {
   "cell_type": "code",
   "execution_count": 3,
   "metadata": {
    "collapsed": false
   },
   "outputs": [
    {
     "data": {
      "text/plain": [
       "77"
      ]
     },
     "execution_count": 3,
     "metadata": {},
     "output_type": "execute_result"
    }
   ],
   "source": [
    "len(lines)"
   ]
  },
  {
   "cell_type": "code",
   "execution_count": 4,
   "metadata": {
    "collapsed": true
   },
   "outputs": [],
   "source": [
    "compiled = re.compile(r\"--\\s(.+?)\\srep\\s(.+?)\\s+=\\s(\\d+)\")"
   ]
  },
  {
   "cell_type": "code",
   "execution_count": 5,
   "metadata": {
    "collapsed": false
   },
   "outputs": [
    {
     "data": {
      "text/plain": [
       "('2012-08-30', '+5', '6')"
      ]
     },
     "execution_count": 5,
     "metadata": {},
     "output_type": "execute_result"
    }
   ],
   "source": [
    "compiled.search('-- 2012-08-30 rep +5    = 6         \\n').groups()"
   ]
  },
  {
   "cell_type": "code",
   "execution_count": 6,
   "metadata": {
    "collapsed": false
   },
   "outputs": [],
   "source": [
    "data = []\n",
    "for l in lines:\n",
    "    res = compiled.search(l)\n",
    "    if res:\n",
    "        data.append(res.groups())"
   ]
  },
  {
   "cell_type": "code",
   "execution_count": 8,
   "metadata": {
    "collapsed": false
   },
   "outputs": [
    {
     "data": {
      "text/plain": [
       "[('2012-08-30', '+5', '6'),\n",
       " ('2012-12-11', '+10', '16'),\n",
       " ('2013-03-20', '+10', '26'),\n",
       " ('2013-12-05', '0', '26'),\n",
       " ('2014-01-25', '0', '26'),\n",
       " ('2014-03-19', '+2', '28'),\n",
       " ('2014-05-11', '+2', '30'),\n",
       " ('2014-05-12', '+12', '42'),\n",
       " ('2014-06-12', '+10', '52'),\n",
       " ('2014-06-26', '+10', '62'),\n",
       " ('2014-07-05', '0', '62'),\n",
       " ('2014-09-02', '0', '62'),\n",
       " ('2014-09-03', '+10', '72'),\n",
       " ('2014-10-28', '0', '72'),\n",
       " ('2014-11-14', '+10', '82'),\n",
       " ('2014-11-18', '+2', '84'),\n",
       " ('2014-12-08', '+2', '86'),\n",
       " ('2014-12-09', '+10', '96'),\n",
       " ('2014-12-12', '+2', '98'),\n",
       " ('2014-12-24', '+10', '108'),\n",
       " ('2015-02-03', '0', '108'),\n",
       " ('2015-02-20', '+10', '118'),\n",
       " ('2015-03-28', '+10', '128'),\n",
       " ('2015-04-26', '+10', '138'),\n",
       " ('2015-05-05', '+10', '148'),\n",
       " ('2015-05-26', '+10', '158'),\n",
       " ('2015-05-27', '+20', '178'),\n",
       " ('2015-06-09', '0', '178'),\n",
       " ('2015-07-03', '+10', '188'),\n",
       " ('2015-07-06', '0', '188'),\n",
       " ('2015-07-22', '+110', '298'),\n",
       " ('2015-08-21', '+10', '308'),\n",
       " ('2015-09-07', '+10', '318'),\n",
       " ('2015-10-14', '-1', '317')]"
      ]
     },
     "execution_count": 8,
     "metadata": {},
     "output_type": "execute_result"
    }
   ],
   "source": [
    "data"
   ]
  },
  {
   "cell_type": "markdown",
   "metadata": {},
   "source": [
    "## Task 1 bonus"
   ]
  },
  {
   "cell_type": "code",
   "execution_count": 9,
   "metadata": {
    "collapsed": true
   },
   "outputs": [],
   "source": [
    "import pandas as pd"
   ]
  },
  {
   "cell_type": "code",
   "execution_count": 10,
   "metadata": {
    "collapsed": true
   },
   "outputs": [],
   "source": [
    "df = pd.DataFrame(data, columns=[\"date\", \"reputation_change\", \"reputation\"])"
   ]
  },
  {
   "cell_type": "code",
   "execution_count": 11,
   "metadata": {
    "collapsed": false
   },
   "outputs": [
    {
     "data": {
      "text/html": [
       "<div>\n",
       "<table border=\"1\" class=\"dataframe\">\n",
       "  <thead>\n",
       "    <tr style=\"text-align: right;\">\n",
       "      <th></th>\n",
       "      <th>date</th>\n",
       "      <th>reputation_change</th>\n",
       "      <th>reputation</th>\n",
       "    </tr>\n",
       "  </thead>\n",
       "  <tbody>\n",
       "    <tr>\n",
       "      <th>0</th>\n",
       "      <td>2012-08-30</td>\n",
       "      <td>+5</td>\n",
       "      <td>6</td>\n",
       "    </tr>\n",
       "    <tr>\n",
       "      <th>1</th>\n",
       "      <td>2012-12-11</td>\n",
       "      <td>+10</td>\n",
       "      <td>16</td>\n",
       "    </tr>\n",
       "    <tr>\n",
       "      <th>2</th>\n",
       "      <td>2013-03-20</td>\n",
       "      <td>+10</td>\n",
       "      <td>26</td>\n",
       "    </tr>\n",
       "    <tr>\n",
       "      <th>3</th>\n",
       "      <td>2013-12-05</td>\n",
       "      <td>0</td>\n",
       "      <td>26</td>\n",
       "    </tr>\n",
       "    <tr>\n",
       "      <th>4</th>\n",
       "      <td>2014-01-25</td>\n",
       "      <td>0</td>\n",
       "      <td>26</td>\n",
       "    </tr>\n",
       "  </tbody>\n",
       "</table>\n",
       "</div>"
      ],
      "text/plain": [
       "         date reputation_change reputation\n",
       "0  2012-08-30                +5          6\n",
       "1  2012-12-11               +10         16\n",
       "2  2013-03-20               +10         26\n",
       "3  2013-12-05                 0         26\n",
       "4  2014-01-25                 0         26"
      ]
     },
     "execution_count": 11,
     "metadata": {},
     "output_type": "execute_result"
    }
   ],
   "source": [
    "df.head()"
   ]
  },
  {
   "cell_type": "code",
   "execution_count": 12,
   "metadata": {
    "collapsed": true
   },
   "outputs": [],
   "source": [
    "df[\"reputation_change\"] = df[\"reputation_change\"].astype(int)"
   ]
  },
  {
   "cell_type": "code",
   "execution_count": 13,
   "metadata": {
    "collapsed": true
   },
   "outputs": [],
   "source": [
    "df[\"reputation\"] = df[\"reputation\"].astype(int)"
   ]
  },
  {
   "cell_type": "code",
   "execution_count": 14,
   "metadata": {
    "collapsed": false
   },
   "outputs": [
    {
     "data": {
      "text/html": [
       "<div>\n",
       "<table border=\"1\" class=\"dataframe\">\n",
       "  <thead>\n",
       "    <tr style=\"text-align: right;\">\n",
       "      <th></th>\n",
       "      <th>date</th>\n",
       "      <th>reputation_change</th>\n",
       "      <th>reputation</th>\n",
       "    </tr>\n",
       "  </thead>\n",
       "  <tbody>\n",
       "    <tr>\n",
       "      <th>29</th>\n",
       "      <td>2015-07-06</td>\n",
       "      <td>0</td>\n",
       "      <td>188</td>\n",
       "    </tr>\n",
       "    <tr>\n",
       "      <th>30</th>\n",
       "      <td>2015-07-22</td>\n",
       "      <td>110</td>\n",
       "      <td>298</td>\n",
       "    </tr>\n",
       "    <tr>\n",
       "      <th>31</th>\n",
       "      <td>2015-08-21</td>\n",
       "      <td>10</td>\n",
       "      <td>308</td>\n",
       "    </tr>\n",
       "    <tr>\n",
       "      <th>32</th>\n",
       "      <td>2015-09-07</td>\n",
       "      <td>10</td>\n",
       "      <td>318</td>\n",
       "    </tr>\n",
       "    <tr>\n",
       "      <th>33</th>\n",
       "      <td>2015-10-14</td>\n",
       "      <td>-1</td>\n",
       "      <td>317</td>\n",
       "    </tr>\n",
       "  </tbody>\n",
       "</table>\n",
       "</div>"
      ],
      "text/plain": [
       "          date  reputation_change  reputation\n",
       "29  2015-07-06                  0         188\n",
       "30  2015-07-22                110         298\n",
       "31  2015-08-21                 10         308\n",
       "32  2015-09-07                 10         318\n",
       "33  2015-10-14                 -1         317"
      ]
     },
     "execution_count": 14,
     "metadata": {},
     "output_type": "execute_result"
    }
   ],
   "source": [
    "df.tail()"
   ]
  },
  {
   "cell_type": "markdown",
   "metadata": {},
   "source": [
    "## Task 2"
   ]
  },
  {
   "cell_type": "code",
   "execution_count": 15,
   "metadata": {
    "collapsed": true
   },
   "outputs": [],
   "source": [
    "url = \"https://raw.githubusercontent.com/planetsig/ufo-reports/master/csv-data/ufo-scrubbed-geocoded-time-standardized.csv\""
   ]
  },
  {
   "cell_type": "code",
   "execution_count": 16,
   "metadata": {
    "collapsed": false
   },
   "outputs": [],
   "source": [
    "data = pd.read_csv(url, header=None, nrows=100)"
   ]
  },
  {
   "cell_type": "code",
   "execution_count": 17,
   "metadata": {
    "collapsed": false
   },
   "outputs": [],
   "source": [
    "values = list(data[6])"
   ]
  },
  {
   "cell_type": "code",
   "execution_count": 18,
   "metadata": {
    "collapsed": true
   },
   "outputs": [],
   "source": [
    "value_re = re.compile(r\"([\\d\\.\\/]+).*?([a-zA-Z]+)\")"
   ]
  },
  {
   "cell_type": "code",
   "execution_count": 19,
   "metadata": {
    "collapsed": true
   },
   "outputs": [],
   "source": [
    "less_re = re.compile(r\"\\<\\s?(\\d+)\")"
   ]
  },
  {
   "cell_type": "code",
   "execution_count": 20,
   "metadata": {
    "collapsed": true
   },
   "outputs": [],
   "source": [
    "div_re = re.compile(r\"(\\d+)\\/(\\d+)\")"
   ]
  },
  {
   "cell_type": "code",
   "execution_count": 21,
   "metadata": {
    "collapsed": true
   },
   "outputs": [],
   "source": [
    "div_re_sub = re.compile(r\"\\d+\\/\\d+\")"
   ]
  },
  {
   "cell_type": "code",
   "execution_count": 22,
   "metadata": {
    "collapsed": false
   },
   "outputs": [],
   "source": [
    "def match(txt):\n",
    "    txt = txt.replace(\"one\", \"1\")\n",
    "    # change less than to half number\n",
    "    res = less_re.search(txt)\n",
    "    if res:\n",
    "        nr = float(res.group(1)) / 2\n",
    "        txt = less_re.sub(str(nr), txt)\n",
    "    \n",
    "    # vulgar fractions to decimal fractions\n",
    "    res = div_re.search(txt)\n",
    "    if res:\n",
    "        txt = div_re_sub.sub(str(int(res.group(1))  / int(res.group(2))), txt)\n",
    "        \n",
    "    # remove some words\n",
    "    txt = re.sub(\"\\s(to|or more)\\s\", \" \", txt)\n",
    "    txt = txt.replace(\"several\", \"5\").replace(\"couple\", \"2\")\n",
    "    \n",
    "    # main re\n",
    "    res = value_re.search(txt)\n",
    "    if res:\n",
    "        groups = res.groups()\n",
    "        \n",
    "        # normalize units\n",
    "        unit = re.sub(\"(minutes|mins|minute)\", \"min\", groups[1])\n",
    "        unit = re.sub(\"(seconds|secs)\", \"sec\", unit)\n",
    "        unit = re.sub(\"(hrs|hours|hour)\", \"hr\", unit)\n",
    "        groups = (groups[0], re.sub(\"(minutes|mins)\", \"min\", unit))\n",
    "        return groups\n",
    "    else:\n",
    "        return txt"
   ]
  },
  {
   "cell_type": "code",
   "execution_count": 23,
   "metadata": {
    "collapsed": false
   },
   "outputs": [],
   "source": [
    "result = []\n",
    "for val in values:\n",
    "    res = match(val)\n",
    "    result.append((val, res[0], res[1]))"
   ]
  },
  {
   "cell_type": "code",
   "execution_count": 24,
   "metadata": {
    "collapsed": false
   },
   "outputs": [
    {
     "data": {
      "text/plain": [
       "[('45 minutes', '45', 'min'),\n",
       " ('1-2 hrs', '1', 'hr'),\n",
       " ('20 seconds', '20', 'sec'),\n",
       " ('1/2 hour', '0.5', 'hr'),\n",
       " ('15 minutes', '15', 'min'),\n",
       " ('5 minutes', '5', 'min'),\n",
       " ('about 3 mins', '3', 'min'),\n",
       " ('20 minutes', '20', 'min'),\n",
       " ('3  minutes', '3', 'min'),\n",
       " ('several minutes', '5', 'min'),\n",
       " ('5 min.', '5', 'min'),\n",
       " ('3 minutes', '3', 'min'),\n",
       " ('30 min.', '30', 'min'),\n",
       " ('3 minutes', '3', 'min'),\n",
       " ('30 seconds', '30', 'sec'),\n",
       " ('20minutes', '20', 'min'),\n",
       " ('2 minutes', '2', 'min'),\n",
       " ('20-30 min', '20', 'min'),\n",
       " ('20 sec.', '20', 'sec'),\n",
       " ('45 minutes', '45', 'min'),\n",
       " ('20 minutes', '20', 'min'),\n",
       " ('one hour?', '1', 'hr'),\n",
       " ('5-6 minutes', '5', 'min'),\n",
       " ('1 minute', '1', 'min'),\n",
       " ('3 seconds', '3', 'sec'),\n",
       " ('30 seconds', '30', 'sec'),\n",
       " ('approx: 30 seconds', '30', 'sec'),\n",
       " ('5min', '5', 'min'),\n",
       " ('15 minutes', '15', 'min'),\n",
       " ('4.5 or more min.', '4.5', 'min'),\n",
       " ('3 minutes', '3', 'min'),\n",
       " ('30mins.', '30', 'min'),\n",
       " ('3 min', '3', 'min'),\n",
       " ('5 minutes', '5', 'min'),\n",
       " ('3 to 5 min', '3', 'min'),\n",
       " ('2min', '2', 'min'),\n",
       " ('1 minute', '1', 'min'),\n",
       " ('couple minutes', '2', 'min'),\n",
       " ('15-20 seconds', '15', 'sec'),\n",
       " ('10min', '10', 'min'),\n",
       " ('3 minutes', '3', 'min'),\n",
       " ('10 minutes', '10', 'min'),\n",
       " ('few minutes', 'f', 'e'),\n",
       " ('1 minute', '1', 'min'),\n",
       " ('2 sec.', '2', 'sec'),\n",
       " ('approx 5 min', '5', 'min'),\n",
       " ('1 minute', '1', 'min'),\n",
       " ('3min', '3', 'min'),\n",
       " ('2 minutes', '2', 'min'),\n",
       " ('30 minutes', '30', 'min'),\n",
       " ('10 minutes', '10', 'min'),\n",
       " ('1 hour(?)', '1', 'hr'),\n",
       " ('10 seconds', '10', 'sec'),\n",
       " ('1min. 39s', '1', 'min'),\n",
       " ('30 seconds', '30', 'sec'),\n",
       " ('20 minutes', '20', 'min'),\n",
       " ('8 seconds', '8', 'sec'),\n",
       " ('less than 1 min', '1', 'min'),\n",
       " ('1 hour', '1', 'hr'),\n",
       " ('2 minutes', '2', 'min'),\n",
       " ('5 seconds', '5', 'sec'),\n",
       " ('~1 hour', '1', 'hr'),\n",
       " ('2 min.', '2', 'min'),\n",
       " ('1 minute', '1', 'min'),\n",
       " ('3sec', '3', 'sec'),\n",
       " ('5 min', '5', 'min'),\n",
       " ('5 min', '5', 'min'),\n",
       " ('1 minute', '1', 'min'),\n",
       " ('4 hours', '4', 'hr'),\n",
       " ('30 seconds', '30', 'sec'),\n",
       " ('<5 minutes', '2.5', 'min'),\n",
       " ('1-hour', '1', 'hr'),\n",
       " ('5 minutes', '5', 'min'),\n",
       " ('10 to 15 sec', '10', 'sec'),\n",
       " ('30 +/- min', '30', 'min'),\n",
       " ('10 minutes', '10', 'min'),\n",
       " ('45min.', '45', 'min'),\n",
       " ('< 1 min', '0.5', 'min'),\n",
       " ('10 minutes', '10', 'min'),\n",
       " ('2 seconds', '2', 'sec'),\n",
       " ('2 hours', '2', 'hr'),\n",
       " ('15 seconds', '15', 'sec'),\n",
       " ('1 hour', '1', 'hr'),\n",
       " ('5-10 min.', '5', 'min'),\n",
       " ('10 seconds', '10', 'sec'),\n",
       " ('1 hour', '1', 'hr'),\n",
       " ('45 secs', '45', 'sec'),\n",
       " ('60-90 sec', '60', 'sec'),\n",
       " ('3 hours', '3', 'hr'),\n",
       " ('5 min', '5', 'min'),\n",
       " ('several minutes', '5', 'min'),\n",
       " ('4 minutes', '4', 'min'),\n",
       " ('45 minutes', '45', 'min'),\n",
       " ('3 minutes', '3', 'min'),\n",
       " ('10 seconds', '10', 'sec'),\n",
       " ('30seconds', '30', 'sec'),\n",
       " ('45 seconds', '45', 'sec'),\n",
       " ('15 seconds', '15', 'sec'),\n",
       " ('30 min.', '30', 'min'),\n",
       " ('4-5 seconds', '4', 'sec')]"
      ]
     },
     "execution_count": 24,
     "metadata": {},
     "output_type": "execute_result"
    }
   ],
   "source": [
    "result"
   ]
  },
  {
   "cell_type": "markdown",
   "metadata": {},
   "source": [
    "## Task 2 bonus"
   ]
  },
  {
   "cell_type": "code",
   "execution_count": 25,
   "metadata": {
    "collapsed": false
   },
   "outputs": [],
   "source": [
    "data2 = pd.read_csv(url, header=None, nrows=100, skiprows=100)"
   ]
  },
  {
   "cell_type": "code",
   "execution_count": 26,
   "metadata": {
    "collapsed": true
   },
   "outputs": [],
   "source": [
    "values = list(data2[6])"
   ]
  },
  {
   "cell_type": "code",
   "execution_count": 27,
   "metadata": {
    "collapsed": true
   },
   "outputs": [],
   "source": [
    "result = []\n",
    "for val in values:\n",
    "    res = match(val)\n",
    "    result.append((val, res[0], res[1]))"
   ]
  },
  {
   "cell_type": "code",
   "execution_count": 28,
   "metadata": {
    "collapsed": false
   },
   "outputs": [
    {
     "data": {
      "text/plain": [
       "[('10 sec', '10', 'sec'),\n",
       " ('1min', '1', 'min'),\n",
       " ('4 min.s', '4', 'min'),\n",
       " ('3 minutes', '3', 'min'),\n",
       " ('+5 minutes', '5', 'min'),\n",
       " ('2/min.', '2/', 'min'),\n",
       " ('3-5 minutes', '3', 'min'),\n",
       " ('15 min. apprx', '15', 'min'),\n",
       " ('less then a minute', 'l', 'e'),\n",
       " ('30 seconds', '30', 'sec'),\n",
       " ('00:43', '0', '0'),\n",
       " ('about5seconds', '5', 'sec'),\n",
       " ('10 mins', '10', 'min'),\n",
       " ('90 seconds', '90', 'sec'),\n",
       " ('2 minutes approx', '2', 'min'),\n",
       " ('30 minutes', '30', 'min'),\n",
       " ('2min', '2', 'min'),\n",
       " ('2 minute', '2', 'min'),\n",
       " ('5 min', '5', 'min'),\n",
       " ('30 minutes', '30', 'min'),\n",
       " ('10 minutes', '10', 'min'),\n",
       " ('12-15 seconds', '12', 'sec'),\n",
       " ('over 5 hours', '5', 'hr'),\n",
       " ('1 1/2 hr.', '1', 'hr'),\n",
       " ('3 minutes', '3', 'min'),\n",
       " ('45minutes', '45', 'min'),\n",
       " ('30min', '30', 'min'),\n",
       " ('2 - 3 minutes', '2', 'min'),\n",
       " ('45 min', '45', 'min'),\n",
       " ('20minutes', '20', 'min'),\n",
       " ('5 seconds', '5', 'sec'),\n",
       " ('15 seconds', '15', 'sec'),\n",
       " ('5:00', '5', ':'),\n",
       " ('10 sec', '10', 'sec'),\n",
       " ('3 minutes', '3', 'min'),\n",
       " ('1 hour', '1', 'hr'),\n",
       " ('4min', '4', 'min'),\n",
       " ('20 min', '20', 'min'),\n",
       " ('15 min', '15', 'min'),\n",
       " ('1/2 hour', '0.5', 'hr'),\n",
       " ('a few hours', 'a', ' '),\n",
       " ('1 min', '1', 'min'),\n",
       " ('45-50 mins', '45', 'min'),\n",
       " ('one + minutes', '1', 'min'),\n",
       " ('30 seconds', '30', 'sec'),\n",
       " ('30 minutes', '30', 'min'),\n",
       " ('10 seconds', '10', 'sec'),\n",
       " ('5 minutes', '5', 'min'),\n",
       " ('5/6 minutes', '0.8333333333333334', 'min'),\n",
       " ('4 minutes', '4', 'min'),\n",
       " ('60 min', '60', 'min'),\n",
       " ('20 min', '20', 'min'),\n",
       " ('10 minutes', '10', 'min'),\n",
       " ('5 min.', '5', 'min'),\n",
       " ('one hour', '1', 'hr'),\n",
       " ('10 minutes', '10', 'min'),\n",
       " ('<10 sec.', '5.0', 'sec'),\n",
       " ('10 minutes', '10', 'min'),\n",
       " ('8-10 minutes', '8', 'min'),\n",
       " ('a few seconds', 'a', ' '),\n",
       " ('6 mins', '6', 'min'),\n",
       " ('1-2 mins', '1', 'min'),\n",
       " ('2 minutes', '2', 'min'),\n",
       " ('5 min', '5', 'min'),\n",
       " ('5 minutes', '5', 'min'),\n",
       " ('4 hours', '4', 'hr'),\n",
       " ('1 hour', '1', 'hr'),\n",
       " ('45 minutes+', '45', 'min'),\n",
       " ('30 seconds', '30', 'sec'),\n",
       " ('10 min.', '10', 'min'),\n",
       " ('3 hours', '3', 'hr'),\n",
       " ('1 to 1 1/2 minutes', '1', 'min'),\n",
       " ('3 seconds', '3', 'sec'),\n",
       " ('appx. 1 minute', '.', 'min'),\n",
       " ('approx 3 mins', '3', 'min'),\n",
       " ('1 hour', '1', 'hr'),\n",
       " ('30 seconds', '30', 'sec'),\n",
       " ('2 mins', '2', 'min'),\n",
       " ('35 seconds', '35', 'sec'),\n",
       " ('10 minutes', '10', 'min'),\n",
       " ('10 minutes', '10', 'min'),\n",
       " ('1:00:00', '1', ':'),\n",
       " ('4 seconds', '4', 'sec'),\n",
       " ('15 seconds', '15', 'sec'),\n",
       " ('10 min', '10', 'min'),\n",
       " ('2 min. approx', '2', 'min'),\n",
       " ('5 min', '5', 'min'),\n",
       " ('4 min', '4', 'min'),\n",
       " ('10 mins', '10', 'min'),\n",
       " ('10 minutes+', '10', 'min'),\n",
       " ('45 seconds', '45', 'sec'),\n",
       " ('1 minute', '1', 'min'),\n",
       " ('15 minutes', '15', 'min'),\n",
       " ('10 minutes', '10', 'min'),\n",
       " ('10 seconds', '10', 'sec'),\n",
       " ('2 minutes', '2', 'min'),\n",
       " ('1 minute', '1', 'min'),\n",
       " ('3 minutes', '3', 'min'),\n",
       " ('5 minutes', '5', 'min'),\n",
       " ('15 minutes', '15', 'min')]"
      ]
     },
     "execution_count": 28,
     "metadata": {},
     "output_type": "execute_result"
    }
   ],
   "source": [
    "result"
   ]
  },
  {
   "cell_type": "markdown",
   "metadata": {},
   "source": [
    "**Few errors**"
   ]
  },
  {
   "cell_type": "code",
   "execution_count": 29,
   "metadata": {
    "collapsed": true
   },
   "outputs": [],
   "source": [
    "import numpy as np"
   ]
  },
  {
   "cell_type": "code",
   "execution_count": 30,
   "metadata": {
    "collapsed": false
   },
   "outputs": [],
   "source": [
    "def compute_range(val):\n",
    "    res = re.search(r\"(\\d+)-(\\d+)\", val)\n",
    "    if res:\n",
    "        return re.sub(r\"\\d+-\\d+\", str(np.mean([float(res.group(1)), float(res.group(2))])), val)\n",
    "    return val"
   ]
  },
  {
   "cell_type": "code",
   "execution_count": 31,
   "metadata": {
    "collapsed": false
   },
   "outputs": [],
   "source": [
    "values = list(data[6])\n",
    "\n",
    "result = []\n",
    "for val in values:\n",
    "    res = match(compute_range(val))\n",
    "    result.append((val, res[0], res[1]))"
   ]
  },
  {
   "cell_type": "code",
   "execution_count": 32,
   "metadata": {
    "collapsed": false
   },
   "outputs": [
    {
     "data": {
      "text/plain": [
       "[('45 minutes', '45', 'min'),\n",
       " ('1-2 hrs', '1.5', 'hr'),\n",
       " ('20 seconds', '20', 'sec'),\n",
       " ('1/2 hour', '0.5', 'hr'),\n",
       " ('15 minutes', '15', 'min'),\n",
       " ('5 minutes', '5', 'min'),\n",
       " ('about 3 mins', '3', 'min'),\n",
       " ('20 minutes', '20', 'min'),\n",
       " ('3  minutes', '3', 'min'),\n",
       " ('several minutes', '5', 'min'),\n",
       " ('5 min.', '5', 'min'),\n",
       " ('3 minutes', '3', 'min'),\n",
       " ('30 min.', '30', 'min'),\n",
       " ('3 minutes', '3', 'min'),\n",
       " ('30 seconds', '30', 'sec'),\n",
       " ('20minutes', '20', 'min'),\n",
       " ('2 minutes', '2', 'min'),\n",
       " ('20-30 min', '25.0', 'min'),\n",
       " ('20 sec.', '20', 'sec'),\n",
       " ('45 minutes', '45', 'min'),\n",
       " ('20 minutes', '20', 'min'),\n",
       " ('one hour?', '1', 'hr'),\n",
       " ('5-6 minutes', '5.5', 'min'),\n",
       " ('1 minute', '1', 'min'),\n",
       " ('3 seconds', '3', 'sec'),\n",
       " ('30 seconds', '30', 'sec'),\n",
       " ('approx: 30 seconds', '30', 'sec'),\n",
       " ('5min', '5', 'min'),\n",
       " ('15 minutes', '15', 'min'),\n",
       " ('4.5 or more min.', '4.5', 'min'),\n",
       " ('3 minutes', '3', 'min'),\n",
       " ('30mins.', '30', 'min'),\n",
       " ('3 min', '3', 'min'),\n",
       " ('5 minutes', '5', 'min'),\n",
       " ('3 to 5 min', '3', 'min'),\n",
       " ('2min', '2', 'min'),\n",
       " ('1 minute', '1', 'min'),\n",
       " ('couple minutes', '2', 'min'),\n",
       " ('15-20 seconds', '17.5', 'sec'),\n",
       " ('10min', '10', 'min'),\n",
       " ('3 minutes', '3', 'min'),\n",
       " ('10 minutes', '10', 'min'),\n",
       " ('few minutes', 'f', 'e'),\n",
       " ('1 minute', '1', 'min'),\n",
       " ('2 sec.', '2', 'sec'),\n",
       " ('approx 5 min', '5', 'min'),\n",
       " ('1 minute', '1', 'min'),\n",
       " ('3min', '3', 'min'),\n",
       " ('2 minutes', '2', 'min'),\n",
       " ('30 minutes', '30', 'min'),\n",
       " ('10 minutes', '10', 'min'),\n",
       " ('1 hour(?)', '1', 'hr'),\n",
       " ('10 seconds', '10', 'sec'),\n",
       " ('1min. 39s', '1', 'min'),\n",
       " ('30 seconds', '30', 'sec'),\n",
       " ('20 minutes', '20', 'min'),\n",
       " ('8 seconds', '8', 'sec'),\n",
       " ('less than 1 min', '1', 'min'),\n",
       " ('1 hour', '1', 'hr'),\n",
       " ('2 minutes', '2', 'min'),\n",
       " ('5 seconds', '5', 'sec'),\n",
       " ('~1 hour', '1', 'hr'),\n",
       " ('2 min.', '2', 'min'),\n",
       " ('1 minute', '1', 'min'),\n",
       " ('3sec', '3', 'sec'),\n",
       " ('5 min', '5', 'min'),\n",
       " ('5 min', '5', 'min'),\n",
       " ('1 minute', '1', 'min'),\n",
       " ('4 hours', '4', 'hr'),\n",
       " ('30 seconds', '30', 'sec'),\n",
       " ('<5 minutes', '2.5', 'min'),\n",
       " ('1-hour', '1', 'hr'),\n",
       " ('5 minutes', '5', 'min'),\n",
       " ('10 to 15 sec', '10', 'sec'),\n",
       " ('30 +/- min', '30', 'min'),\n",
       " ('10 minutes', '10', 'min'),\n",
       " ('45min.', '45', 'min'),\n",
       " ('< 1 min', '0.5', 'min'),\n",
       " ('10 minutes', '10', 'min'),\n",
       " ('2 seconds', '2', 'sec'),\n",
       " ('2 hours', '2', 'hr'),\n",
       " ('15 seconds', '15', 'sec'),\n",
       " ('1 hour', '1', 'hr'),\n",
       " ('5-10 min.', '7.5', 'min'),\n",
       " ('10 seconds', '10', 'sec'),\n",
       " ('1 hour', '1', 'hr'),\n",
       " ('45 secs', '45', 'sec'),\n",
       " ('60-90 sec', '75.0', 'sec'),\n",
       " ('3 hours', '3', 'hr'),\n",
       " ('5 min', '5', 'min'),\n",
       " ('several minutes', '5', 'min'),\n",
       " ('4 minutes', '4', 'min'),\n",
       " ('45 minutes', '45', 'min'),\n",
       " ('3 minutes', '3', 'min'),\n",
       " ('10 seconds', '10', 'sec'),\n",
       " ('30seconds', '30', 'sec'),\n",
       " ('45 seconds', '45', 'sec'),\n",
       " ('15 seconds', '15', 'sec'),\n",
       " ('30 min.', '30', 'min'),\n",
       " ('4-5 seconds', '4.5', 'sec')]"
      ]
     },
     "execution_count": 32,
     "metadata": {},
     "output_type": "execute_result"
    }
   ],
   "source": [
    "result"
   ]
  }
 ],
 "metadata": {
  "kernelspec": {
   "display_name": "Python 3",
   "language": "python",
   "name": "python3"
  },
  "language_info": {
   "codemirror_mode": {
    "name": "ipython",
    "version": 3
   },
   "file_extension": ".py",
   "mimetype": "text/x-python",
   "name": "python",
   "nbconvert_exporter": "python",
   "pygments_lexer": "ipython3",
   "version": "3.4.3"
  }
 },
 "nbformat": 4,
 "nbformat_minor": 0
}
