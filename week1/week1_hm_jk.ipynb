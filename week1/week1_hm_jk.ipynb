{
 "cells": [
  {
   "cell_type": "markdown",
   "metadata": {},
   "source": [
    "# Home work week 1 Jarosław Kulesza"
   ]
  },
  {
   "cell_type": "markdown",
   "metadata": {},
   "source": [
    "## Imports"
   ]
  },
  {
   "cell_type": "code",
   "execution_count": 1,
   "metadata": {
    "collapsed": true
   },
   "outputs": [],
   "source": [
    "from __future__ import print_function"
   ]
  },
  {
   "cell_type": "code",
   "execution_count": 2,
   "metadata": {
    "collapsed": false
   },
   "outputs": [],
   "source": [
    "import json\n",
    "\n",
    "import pandas as pd\n",
    "\n",
    "from sklearn.cross_validation import train_test_split\n",
    "from sklearn.feature_extraction.text import CountVectorizer\n",
    "from sklearn.naive_bayes import MultinomialNB\n",
    "from sklearn import metrics"
   ]
  },
  {
   "cell_type": "markdown",
   "metadata": {},
   "source": [
    "## Task 1"
   ]
  },
  {
   "cell_type": "code",
   "execution_count": 3,
   "metadata": {
    "collapsed": false
   },
   "outputs": [],
   "source": [
    "data_frame_csv = pd.read_csv(\"./yelp.csv\")[[\"stars\", \"text\"]]\n",
    "\n"
   ]
  },
  {
   "cell_type": "code",
   "execution_count": 8,
   "metadata": {
    "collapsed": false
   },
   "outputs": [],
   "source": [
    "from io import StringIO\n",
    "\n",
    "data_json = []\n",
    "with open('./yelp.json') as data_file:\n",
    "    for line in data_file.readlines():\n",
    "        obj = json.load(StringIO(line))\n",
    "        data_json.append((obj['stars'], obj['text']))\n",
    "        \n",
    "data_frame_json = pd.DataFrame(data_json, columns=[\"stars\", \"text\"])"
   ]
  },
  {
   "cell_type": "code",
   "execution_count": 9,
   "metadata": {
    "collapsed": false
   },
   "outputs": [
    {
     "name": "stdout",
     "output_type": "stream",
     "text": [
      "(10000, 2)\n",
      "(10000, 2)\n"
     ]
    }
   ],
   "source": [
    "print(data_frame_csv.shape)\n",
    "print(data_frame_json.shape)"
   ]
  },
  {
   "cell_type": "code",
   "execution_count": 10,
   "metadata": {
    "collapsed": true
   },
   "outputs": [],
   "source": [
    "#data = data_frame_csv\n",
    "\n",
    "# optional\n",
    "data = data_frame_json"
   ]
  },
  {
   "cell_type": "markdown",
   "metadata": {},
   "source": [
    "## Task 2"
   ]
  },
  {
   "cell_type": "code",
   "execution_count": 11,
   "metadata": {
    "collapsed": false
   },
   "outputs": [],
   "source": [
    "filtered_data = data[(data.stars==1)|(data.stars==5)]"
   ]
  },
  {
   "cell_type": "code",
   "execution_count": 12,
   "metadata": {
    "collapsed": false
   },
   "outputs": [
    {
     "data": {
      "text/html": [
       "<div>\n",
       "<table border=\"1\" class=\"dataframe\">\n",
       "  <thead>\n",
       "    <tr style=\"text-align: right;\">\n",
       "      <th></th>\n",
       "      <th>stars</th>\n",
       "      <th>text</th>\n",
       "    </tr>\n",
       "  </thead>\n",
       "  <tbody>\n",
       "    <tr>\n",
       "      <th>0</th>\n",
       "      <td>5</td>\n",
       "      <td>My wife took me here on my birthday for breakf...</td>\n",
       "    </tr>\n",
       "    <tr>\n",
       "      <th>1</th>\n",
       "      <td>5</td>\n",
       "      <td>I have no idea why some people give bad review...</td>\n",
       "    </tr>\n",
       "    <tr>\n",
       "      <th>3</th>\n",
       "      <td>5</td>\n",
       "      <td>Rosie, Dakota, and I LOVE Chaparral Dog Park!!...</td>\n",
       "    </tr>\n",
       "    <tr>\n",
       "      <th>4</th>\n",
       "      <td>5</td>\n",
       "      <td>General Manager Scott Petello is a good egg!!!...</td>\n",
       "    </tr>\n",
       "    <tr>\n",
       "      <th>6</th>\n",
       "      <td>5</td>\n",
       "      <td>Drop what you're doing and drive here. After I...</td>\n",
       "    </tr>\n",
       "  </tbody>\n",
       "</table>\n",
       "</div>"
      ],
      "text/plain": [
       "   stars                                               text\n",
       "0      5  My wife took me here on my birthday for breakf...\n",
       "1      5  I have no idea why some people give bad review...\n",
       "3      5  Rosie, Dakota, and I LOVE Chaparral Dog Park!!...\n",
       "4      5  General Manager Scott Petello is a good egg!!!...\n",
       "6      5  Drop what you're doing and drive here. After I..."
      ]
     },
     "execution_count": 12,
     "metadata": {},
     "output_type": "execute_result"
    }
   ],
   "source": [
    "filtered_data.head()"
   ]
  },
  {
   "cell_type": "markdown",
   "metadata": {},
   "source": [
    "## Task 3"
   ]
  },
  {
   "cell_type": "code",
   "execution_count": 13,
   "metadata": {
    "collapsed": true
   },
   "outputs": [],
   "source": [
    "X = filtered_data.text"
   ]
  },
  {
   "cell_type": "code",
   "execution_count": 14,
   "metadata": {
    "collapsed": true
   },
   "outputs": [],
   "source": [
    "y = filtered_data.stars"
   ]
  },
  {
   "cell_type": "code",
   "execution_count": 15,
   "metadata": {
    "collapsed": false
   },
   "outputs": [
    {
     "data": {
      "text/plain": [
       "(4086,)"
      ]
     },
     "execution_count": 15,
     "metadata": {},
     "output_type": "execute_result"
    }
   ],
   "source": [
    "X.shape\n"
   ]
  },
  {
   "cell_type": "code",
   "execution_count": 16,
   "metadata": {
    "collapsed": false
   },
   "outputs": [
    {
     "data": {
      "text/plain": [
       "(4086,)"
      ]
     },
     "execution_count": 16,
     "metadata": {},
     "output_type": "execute_result"
    }
   ],
   "source": [
    "y.shape"
   ]
  },
  {
   "cell_type": "code",
   "execution_count": 17,
   "metadata": {
    "collapsed": false
   },
   "outputs": [
    {
     "name": "stdout",
     "output_type": "stream",
     "text": [
      "(3064,)\n",
      "(1022,)\n"
     ]
    }
   ],
   "source": [
    "X_train, X_test, y_train, y_test = train_test_split(X, y, random_state=1)\n",
    "print(X_train.shape)\n",
    "print(X_test.shape)"
   ]
  },
  {
   "cell_type": "markdown",
   "metadata": {},
   "source": [
    "## Task 4"
   ]
  },
  {
   "cell_type": "code",
   "execution_count": 18,
   "metadata": {
    "collapsed": false
   },
   "outputs": [],
   "source": [
    "vect = CountVectorizer()\n",
    "X_train_dtm = vect.fit_transform(X_train)\n",
    "X_test_dtm = vect.transform(X_test)"
   ]
  },
  {
   "cell_type": "markdown",
   "metadata": {},
   "source": [
    "## Task 5"
   ]
  },
  {
   "cell_type": "code",
   "execution_count": 19,
   "metadata": {
    "collapsed": false
   },
   "outputs": [
    {
     "data": {
      "text/plain": [
       "MultinomialNB(alpha=1.0, class_prior=None, fit_prior=True)"
      ]
     },
     "execution_count": 19,
     "metadata": {},
     "output_type": "execute_result"
    }
   ],
   "source": [
    "nb = MultinomialNB()\n",
    "nb.fit(X_train_dtm, y_train)"
   ]
  },
  {
   "cell_type": "code",
   "execution_count": 20,
   "metadata": {
    "collapsed": true
   },
   "outputs": [],
   "source": [
    "y_pred_class = nb.predict(X_test_dtm)"
   ]
  },
  {
   "cell_type": "code",
   "execution_count": 21,
   "metadata": {
    "collapsed": false
   },
   "outputs": [
    {
     "data": {
      "text/plain": [
       "0.91878669275929548"
      ]
     },
     "execution_count": 21,
     "metadata": {},
     "output_type": "execute_result"
    }
   ],
   "source": [
    "metrics.accuracy_score(y_test, y_pred_class)\n"
   ]
  },
  {
   "cell_type": "code",
   "execution_count": 22,
   "metadata": {
    "collapsed": false
   },
   "outputs": [
    {
     "data": {
      "text/plain": [
       "array([[126,  58],\n",
       "       [ 25, 813]])"
      ]
     },
     "execution_count": 22,
     "metadata": {},
     "output_type": "execute_result"
    }
   ],
   "source": [
    "metrics.confusion_matrix(y_test, y_pred_class)"
   ]
  },
  {
   "cell_type": "markdown",
   "metadata": {},
   "source": [
    "## Task 6"
   ]
  },
  {
   "cell_type": "code",
   "execution_count": 23,
   "metadata": {
    "collapsed": false
   },
   "outputs": [
    {
     "data": {
      "text/plain": [
       "5    0.819961\n",
       "dtype: float64"
      ]
     },
     "execution_count": 23,
     "metadata": {},
     "output_type": "execute_result"
    }
   ],
   "source": [
    "y_test.value_counts().head(1) / len(y_test)"
   ]
  },
  {
   "cell_type": "markdown",
   "metadata": {},
   "source": [
    "## Task 7"
   ]
  },
  {
   "cell_type": "code",
   "execution_count": 24,
   "metadata": {
    "collapsed": false
   },
   "outputs": [
    {
     "data": {
      "text/plain": [
       "array([[ 26.,   4.,   1., ...,   0.,   0.,   0.],\n",
       "       [ 39.,   5.,   0., ...,   1.,   1.,   1.]])"
      ]
     },
     "execution_count": 24,
     "metadata": {},
     "output_type": "execute_result"
    }
   ],
   "source": [
    "nb.feature_count_"
   ]
  },
  {
   "cell_type": "code",
   "execution_count": 25,
   "metadata": {
    "collapsed": true
   },
   "outputs": [],
   "source": [
    "X_train_tokens = vect.get_feature_names()"
   ]
  },
  {
   "cell_type": "code",
   "execution_count": 26,
   "metadata": {
    "collapsed": true
   },
   "outputs": [],
   "source": [
    "token_counts = pd.DataFrame({'token':X_train_tokens, 'one':nb.feature_count_[0, :], 'five':nb.feature_count_[1, :]})"
   ]
  },
  {
   "cell_type": "code",
   "execution_count": 27,
   "metadata": {
    "collapsed": true
   },
   "outputs": [],
   "source": [
    "token_counts['one'] = token_counts.one + 1\n",
    "token_counts['five'] = token_counts.five + 1"
   ]
  },
  {
   "cell_type": "code",
   "execution_count": 28,
   "metadata": {
    "collapsed": true
   },
   "outputs": [],
   "source": [
    "token_counts['one_ratio'] = token_counts.one / token_counts.five\n",
    "token_counts['five_ratio'] = token_counts.five / token_counts.one"
   ]
  },
  {
   "cell_type": "code",
   "execution_count": 29,
   "metadata": {
    "collapsed": false
   },
   "outputs": [
    {
     "data": {
      "text/html": [
       "<div>\n",
       "<table border=\"1\" class=\"dataframe\">\n",
       "  <thead>\n",
       "    <tr style=\"text-align: right;\">\n",
       "      <th></th>\n",
       "      <th>five</th>\n",
       "      <th>one</th>\n",
       "      <th>token</th>\n",
       "      <th>one_ratio</th>\n",
       "      <th>five_ratio</th>\n",
       "    </tr>\n",
       "  </thead>\n",
       "  <tbody>\n",
       "    <tr>\n",
       "      <th>14110</th>\n",
       "      <td>1</td>\n",
       "      <td>17</td>\n",
       "      <td>staffperson</td>\n",
       "      <td>17</td>\n",
       "      <td>0.058824</td>\n",
       "    </tr>\n",
       "    <tr>\n",
       "      <th>12172</th>\n",
       "      <td>1</td>\n",
       "      <td>14</td>\n",
       "      <td>refused</td>\n",
       "      <td>14</td>\n",
       "      <td>0.071429</td>\n",
       "    </tr>\n",
       "    <tr>\n",
       "      <th>4538</th>\n",
       "      <td>2</td>\n",
       "      <td>24</td>\n",
       "      <td>disgusting</td>\n",
       "      <td>12</td>\n",
       "      <td>0.083333</td>\n",
       "    </tr>\n",
       "    <tr>\n",
       "      <th>5780</th>\n",
       "      <td>1</td>\n",
       "      <td>11</td>\n",
       "      <td>filthy</td>\n",
       "      <td>11</td>\n",
       "      <td>0.090909</td>\n",
       "    </tr>\n",
       "    <tr>\n",
       "      <th>15649</th>\n",
       "      <td>1</td>\n",
       "      <td>9</td>\n",
       "      <td>unacceptable</td>\n",
       "      <td>9</td>\n",
       "      <td>0.111111</td>\n",
       "    </tr>\n",
       "  </tbody>\n",
       "</table>\n",
       "</div>"
      ],
      "text/plain": [
       "       five  one         token  one_ratio  five_ratio\n",
       "14110     1   17   staffperson         17    0.058824\n",
       "12172     1   14       refused         14    0.071429\n",
       "4538      2   24    disgusting         12    0.083333\n",
       "5780      1   11        filthy         11    0.090909\n",
       "15649     1    9  unacceptable          9    0.111111"
      ]
     },
     "execution_count": 29,
     "metadata": {},
     "output_type": "execute_result"
    }
   ],
   "source": [
    "# most predictive tokens of 1 star\n",
    "token_counts.sort('one_ratio', ascending=False).head()"
   ]
  },
  {
   "cell_type": "code",
   "execution_count": 30,
   "metadata": {
    "collapsed": false
   },
   "outputs": [
    {
     "data": {
      "text/html": [
       "<div>\n",
       "<table border=\"1\" class=\"dataframe\">\n",
       "  <thead>\n",
       "    <tr style=\"text-align: right;\">\n",
       "      <th></th>\n",
       "      <th>five</th>\n",
       "      <th>one</th>\n",
       "      <th>token</th>\n",
       "      <th>one_ratio</th>\n",
       "      <th>five_ratio</th>\n",
       "    </tr>\n",
       "  </thead>\n",
       "  <tbody>\n",
       "    <tr>\n",
       "      <th>5596</th>\n",
       "      <td>193</td>\n",
       "      <td>2</td>\n",
       "      <td>fantastic</td>\n",
       "      <td>0.010363</td>\n",
       "      <td>96.500000</td>\n",
       "    </tr>\n",
       "    <tr>\n",
       "      <th>10949</th>\n",
       "      <td>245</td>\n",
       "      <td>3</td>\n",
       "      <td>perfect</td>\n",
       "      <td>0.012245</td>\n",
       "      <td>81.666667</td>\n",
       "    </tr>\n",
       "    <tr>\n",
       "      <th>16751</th>\n",
       "      <td>62</td>\n",
       "      <td>1</td>\n",
       "      <td>yum</td>\n",
       "      <td>0.016129</td>\n",
       "      <td>62.000000</td>\n",
       "    </tr>\n",
       "    <tr>\n",
       "      <th>5643</th>\n",
       "      <td>345</td>\n",
       "      <td>7</td>\n",
       "      <td>favorite</td>\n",
       "      <td>0.020290</td>\n",
       "      <td>49.285714</td>\n",
       "    </tr>\n",
       "    <tr>\n",
       "      <th>10527</th>\n",
       "      <td>49</td>\n",
       "      <td>1</td>\n",
       "      <td>outstanding</td>\n",
       "      <td>0.020408</td>\n",
       "      <td>49.000000</td>\n",
       "    </tr>\n",
       "  </tbody>\n",
       "</table>\n",
       "</div>"
      ],
      "text/plain": [
       "       five  one        token  one_ratio  five_ratio\n",
       "5596    193    2    fantastic   0.010363   96.500000\n",
       "10949   245    3      perfect   0.012245   81.666667\n",
       "16751    62    1          yum   0.016129   62.000000\n",
       "5643    345    7     favorite   0.020290   49.285714\n",
       "10527    49    1  outstanding   0.020408   49.000000"
      ]
     },
     "execution_count": 30,
     "metadata": {},
     "output_type": "execute_result"
    }
   ],
   "source": [
    "# most predictive tokens of 5 star\n",
    "token_counts.sort('five_ratio', ascending=False).head()"
   ]
  },
  {
   "cell_type": "markdown",
   "metadata": {},
   "source": [
    "## Task 8"
   ]
  },
  {
   "cell_type": "code",
   "execution_count": 31,
   "metadata": {
    "collapsed": false
   },
   "outputs": [
    {
     "name": "stdout",
     "output_type": "stream",
     "text": [
      "This has to be the worst restaurant in terms of hygiene. Two of my friends had food -poisoning after having dinner here. The food is just unhealthy with tons of oil floating on the top of curries, and I am not sure if any health/hygiene code is followed here. \n",
      "The service is poor and the information on its website is incorrect, the owner does not allow dine-in after 9 or 10 even though it says that the restaurant is open till 11. \n",
      "\n",
      "One night I saw the owner cleaning the place without gloves and she was nice enough to give us a to-go parcel without cleaning her hands (great example to the servers!). I had a peek inside the kitchen when the door was ajar, and it definitely looked dirty.\n",
      "\n",
      "I have been a lot of hole-in-the-wall places around this restaurant, including Haji Baba, the Vietnamese place and others, but neither any of my friends nor I have fallen sick coz of the food. If you need a spicy-food fix, i strongly recommend you do not try this place, lest you want a visit to the doctor the very next day.\n",
      "--------------\n",
      "If you like the stuck up Scottsdale vibe this is a good place for you. The food isn't impressive. Nice outdoor seating.\n",
      "--------------\n",
      "I'm sorry to be what seems to be the lone one star review.  Either I got there on the worst day in their history, or everyone drank the Koolaid, or I just have different expectations and taste buds.\n",
      "It seems like a great idea.  It's a build your own burger joint, $7.00 gets you a cooked to order burger with one cheese, up to 4 toppings, and 2 sauces with fries or onion rings-or some other choices.  They also claim that the beef is local, hormone free, etcetera....\n",
      "\n",
      "I chose a rare burger with American, grilled onions, sauteed mushrooms. tomato and lettuce, with mayo and mustard on a potato bun.  I added bacon for a dollar.\n",
      "\n",
      "First, let me point out that if you are in a hurry, DON'T GO HERE TO EAT.  I waited exactly 39 minutes for my food. This would not be a big deal if:\n",
      "1.  I had been warned before they ran my credit card--what if I only had 30 minutes for lunch??\n",
      "2. They had places to sit but it's tiny and full.\n",
      "3.  They had magazines, a jukebox, ANYTHING to entertain you for 39 minutes.  You can't even get your drink early to sip on that.\n",
      "\n",
      "At the 30 minute mark, I'm ready to eat cardboard with a little ketchup on it, so maybe they make you wait so everything tastes even better?\n",
      "Anyway, before my burger comes up, I notice that the lady behind the counter is saying that the orders overwhelmed the kitchen.  I look in the kitchen---they have ONE GUY TRYING TO DO ALL THIS??????   He'd better be getting a share of the profits!!!!!  Now I'm jsut feeling really bad for this guy back there.\n",
      "\n",
      "I finally get my burger!  YAY!!  I'm SO excited!  All those 4 and 5 star reviews!  I take a bite and....the patty shoots out the other side of the bun like it had been shot out of a cannon.\n",
      "WTH?  I look at the patty.  It's clean as a whistle. I mean there is no mayo or mustard or cheese smeared on the patty.  I turn it over and it slides out of my fingers back into the basket.  The other side is clean too.  The freakin' burger was so greasy, it slid all over the place!  Then a greasy glop of what must have  been the mushrooms and onions slid out.  Still not seeing any cheese, mayo, or mustard anywhere.  Just oil.  Tons and tons of oil.  I open the bun,  On one side is a heavily oiled slick of lettuce glued to the bun by (I am guessing) a slice of cheese.  The other side of the bun has some mayo and mustard residue--and more oil.  I'm grossed out, but hungry.  I take a bite.  It's not rare,  It's well done and oddly, tastes very faintly of liver.  BTW, remember the bacon I paid a dollar for?  Not there.  I'm really puzzled that instead of cheese. or beef, or SOMETHING, I just taste that faint livery taste. So I take another bite.There isn't even any salt or pepper, or anything on the burger patty.  This is perhaps, the worst grade of meat available for human consumption.  I take a third bite because that second bite brought back a memory of when I worked for a meat company here in town.  Now I recognize the flavor.  I'm not saying that what I ate that day at Two Hippies was old dairy cow, but that's EXACTLY what it tasted like.\n",
      "\n",
      "At this point, I turn to the fries.  The are shriveled and DARK and taste like they've been fried and then microwaved.\n",
      "\n",
      "I couldn't get out of there fast enough!  Forget my danged dollar!  just get me in the car!\n",
      "\n",
      "Exactly one hour and 20 minutes later, I had vicious diarrhea\n",
      "\n",
      "I haven't had that trouble even with eating junk food at the fair!\n",
      "\n",
      "No.  NO.  A thousand times NO!\n",
      "\n",
      "Red Robin is my next burger stop.  Period\n",
      "--------------\n",
      "Went last night to Whore Foods to get basics to make pizza with, most clutch to the process was a three pack of yeast. Low and behold, the dirty hippie kids they have working there again didn't put something in the bag.\n",
      "\n",
      "And this time it was the yeast.\n",
      "\n",
      "I love the food there, but the employees are nothing more than entitled hippie kids from Scottsdale who can't be bothered to do their goddamn jobs! I am so sick of this crap with this corporation. Maybe its a Phoenix thing, or maybe its the hiring and firing processes of Whore Foods, but I am done shopping at any Whore Foods. In a place like Phoenix, where you have alternatives such as Sprouts, you'd think Whore Foods would smarten up.\n",
      "\n",
      "Or when you try to ask someone who works here where something is, and they just walk by with their nose high in the air. I understand its important to show your fellow dirt merchants that you're a super star, but I don't work with you, I contribute to your salary and over inflated set of benefits for a grocery clerk, so do your goddamn job. Useless little girl in need of a shower and orthodontist. \n",
      "\n",
      "But alas, Whore Foods and its dirty hippie employees have alienated yet another person with a job and a degree into hating everything that place stands for.\n",
      "\n",
      "Oh yea, one other thing, take the concealed firearm prohibition off of your stores. It didn't stop Jared Loughner from doing something horrid, and all it does is alienate law abiding citizens from their Constitutional rights. I understand you think that only parts of the Constitution should apply, but honestly I think you need to pull your collective heads out of your ass and take a shower.\n",
      "\n",
      "Useless motherf*&#$@s!\n",
      "--------------\n",
      "I found Lisa G's while driving through phoenix with a friend. The exterior looked promising and we prepared ourselves for a treat. We were in for a a shock! We ordered the antipasto plate and while there were serious issues with it, it turned out to be the best thing we were served. I ordered the chicken rolatini (the special of the day) and it was just plain bad! The chicken was dry and under seasoned, the Rosemary potatoes were soggy  and the veggie medley  (squash, corn, green beans, etc.) was over cooked and the juices spilled over into the potatoes. It was one of the worst $17 meals that I have ever had! My friend ordered the veggie salad and it was one literal hot mess. Just horrible food! I see that others had the mini burgers and bowl of balls and found them to be tasty. I wish I had ordered those. As it is this is one place I would never revisit or recommend to a friend!\n",
      "--------------\n"
     ]
    }
   ],
   "source": [
    "for doc in X_test[y_test < y_pred_class][:5]:\n",
    "    print(doc)\n",
    "    print(\"--------------\")"
   ]
  },
  {
   "cell_type": "code",
   "execution_count": 32,
   "metadata": {
    "collapsed": false
   },
   "outputs": [
    {
     "name": "stdout",
     "output_type": "stream",
     "text": [
      "I now consider myself an Arizonian. If you drive a lot on the 101 or 51 like I do, you'll get your fair share of chips on your windshield. You'll also have to replace a windshield like I had to do just recently. Apparently, chips and cracking windshields  is common in Arizona. In fact, I seem to recall my insurance agent telling me that insurance companies must provide this coverage in Arizona.\n",
      "\n",
      "I had a chip repaired about a year ago near the very bottom of the windshield. Just recently a small, very fine crack started traveling north on the windshield from the repaired chip (a different vendor repaired the chip). I called these guys over to my house and they said it was too long to fix, so they replaced the whole windshield the next day.\n",
      "\n",
      "What great service, they come out to your residence or place of business to repair or replace your windshield.\n",
      "--------------\n",
      "This is by far my favourite department store, hands down. I have had nothing but perfect experiences in this store, without exception, no matter what department I'm in. The shoe SA's will bend over backwards to help you find a specific shoe, and the staff will even go so far as to send out hand-written thank you cards to your home address after you make a purchase - big or small. Tim & Anthony in the shoe salon are fabulous beyond words! \n",
      "\n",
      "I am not completely sure that I understand why people complain about the amount of merchandise on the floor or the lack of crowds in this store. Frankly, I would rather not be bombarded with merchandise and other people. One of the things I love the most about Barney's is not only the prompt attention of SA's, but the fact that they aren't rushing around trying to help 35 people at once. The SA's at Barney's are incredibly friendly and will stop to have an actual conversation, regardless or whether you are purchasing something or not. I have also never experienced a \"high pressure\" sale situation here.\n",
      "\n",
      "All in all, Barneys is pricey, and there is no getting around it. But, um, so is Neiman's and that place is a crock. Anywhere that ONLY accepts American Express or their charge card and then treats you like scum if you aren't carrying neither is no place that I want to spend my hard earned dollars. Yay Barneys!\n",
      "--------------\n",
      "Since I have ranted recently on poor customer service, and in the spirit of balance, here is a shining example of how easy it really is.\n",
      "\n",
      "Late last summer  I came home and was shocked to see two of my sunscreens looking quite vandalized. Upon further inspection, it appeared that while using a back mounted leaf blower, one of the landscape crew had brushed against them. The exhaust pipe must have ripped and burned the screen material as well. It was quite the nasty burned melted scar.\n",
      "\n",
      " After staring at it for several hours, I realized there was no virgin Mary, no Jesus, hell it just looked like burned grilled cheese without any deity or lesser apparitions whatsoever, regardless of the angle or my squint. So deciding there was no money to made on eBay, I set out to get them repaired.\n",
      "\n",
      "Did some online searching and decided to call AmeriZona. I explained the situation and was told they could repair them, but I would have to bring them in. These are some pretty large sun screens mind you and packing them into the convertible would have been a challenge.\n",
      "\n",
      "While pondering what to do the person helping me on the phone asked me if I could hold on. I could tell it was one of those thinking on your feet light bulb went off type can you hold requests.\n",
      "\n",
      "She came back on the phone, informed me that she had a crew that was working close by and that she would ask one of the crew to swing by and pick up the screens for repair. She could not promise when they would be repaired, but for that convenience alone I was on board. She had already quoted me the price to repair the screens, and it was very reasonable considering some other online comparisons.\n",
      "\n",
      "Someone showed up within a few hours to pick up the screens. He could not have been more accommodating, and it was obvious this guy had been working all day and was on his way home. \n",
      "\n",
      "A few days later, Mark  phoned me to tell me my screens were ready and to tell me he was going to drop them off on his way home! Needless to say Mark was also very pleasant to deal with. I believe he was at the time the sales manager. \n",
      "\n",
      "When he arrived, the screens looked great, matched the color of the others, even with the sun bleaching over several years. He even offered to put them in! \n",
      "\n",
      "This experience was way beyond any customer service expectations. No extra charges for any of the above and beyond the call of duty efforts. Outstanding, and quite refreshing.\n",
      "--------------\n",
      "This is a must try for any Mani Pedi fan. I use to drive to Scottsdale for all of my services until I found this spot. Get the pedi, no metal file pedi once - and you will NEVER go any where else. Have fun. I do..Customer service - top end. Thanks\n",
      "--------------\n",
      "I`ve had work done by this shop a few times thruoghout the past few years. My latest experience was when my sons car broke its timing belt and needed substantial repairs. Bob informed us that he could move the car out of the way in his lot to be safely stored until we decided whether we wanted to fix it or not. This is just one of the reasons why I`ll always bring my business to him.\n",
      "--------------\n"
     ]
    }
   ],
   "source": [
    "for doc in X_test[y_test > y_pred_class][:5]:\n",
    "    print(doc)\n",
    "    print(\"--------------\")"
   ]
  },
  {
   "cell_type": "code",
   "execution_count": 33,
   "metadata": {
    "collapsed": true
   },
   "outputs": [],
   "source": [
    "# I think in this exaples are many words with opposite meaning. So in posts with one star are many words like: like, very, fine, good.\n",
    "# In posts with five stars are many words with negative meaning: never, broke, vandalized.\n",
    "# And machine had problems with irony etc."
   ]
  },
  {
   "cell_type": "markdown",
   "metadata": {},
   "source": [
    "## Task 9"
   ]
  },
  {
   "cell_type": "code",
   "execution_count": 34,
   "metadata": {
    "collapsed": true
   },
   "outputs": [],
   "source": [
    "X_all = data.text\n",
    "y_all = data.stars"
   ]
  },
  {
   "cell_type": "code",
   "execution_count": 35,
   "metadata": {
    "collapsed": false
   },
   "outputs": [],
   "source": [
    "X_train_all, X_test_all, y_train_all, y_test_all = train_test_split(X_all, y_all, random_state=1)"
   ]
  },
  {
   "cell_type": "code",
   "execution_count": 36,
   "metadata": {
    "collapsed": true
   },
   "outputs": [],
   "source": [
    "vect_all = CountVectorizer()\n",
    "X_train_all_dtm = vect_all.fit_transform(X_train_all)\n",
    "X_test_all_dtm = vect_all.transform(X_test_all)"
   ]
  },
  {
   "cell_type": "code",
   "execution_count": 37,
   "metadata": {
    "collapsed": false
   },
   "outputs": [],
   "source": [
    "nb_all = MultinomialNB()\n",
    "nb_all.fit(X_train_all_dtm, y_train_all)\n",
    "y_pred_class_all = nb_all.predict(X_test_all_dtm)"
   ]
  },
  {
   "cell_type": "code",
   "execution_count": 38,
   "metadata": {
    "collapsed": false
   },
   "outputs": [
    {
     "data": {
      "text/plain": [
       "0.47120000000000001"
      ]
     },
     "execution_count": 38,
     "metadata": {},
     "output_type": "execute_result"
    }
   ],
   "source": [
    "metrics.accuracy_score(y_test_all, y_pred_class_all)"
   ]
  },
  {
   "cell_type": "code",
   "execution_count": 39,
   "metadata": {
    "collapsed": false
   },
   "outputs": [
    {
     "data": {
      "text/plain": [
       "4    0.3536\n",
       "dtype: float64"
      ]
     },
     "execution_count": 39,
     "metadata": {},
     "output_type": "execute_result"
    }
   ],
   "source": [
    "y_test_all.value_counts().head(1) / len(y_test_all)"
   ]
  },
  {
   "cell_type": "code",
   "execution_count": 40,
   "metadata": {
    "collapsed": false
   },
   "outputs": [
    {
     "data": {
      "text/plain": [
       "array([[ 55,  14,  24,  65,  27],\n",
       "       [ 28,  16,  41, 122,  27],\n",
       "       [  5,   7,  35, 281,  37],\n",
       "       [  7,   0,  16, 629, 232],\n",
       "       [  6,   4,   6, 373, 443]])"
      ]
     },
     "execution_count": 40,
     "metadata": {},
     "output_type": "execute_result"
    }
   ],
   "source": [
    "metrics.confusion_matrix(y_test_all, y_pred_class_all)"
   ]
  },
  {
   "cell_type": "markdown",
   "metadata": {},
   "source": [
    "Comment: NaiveBayes had problems with classification all star ratings (only 47% accuracy). System is very confused. This is visible in confusion matrix. Especialy right side of matrix."
   ]
  },
  {
   "cell_type": "code",
   "execution_count": 60,
   "metadata": {
    "collapsed": true
   },
   "outputs": [],
   "source": [
    "X_train_tokens = vect_all.get_feature_names()"
   ]
  },
  {
   "cell_type": "code",
   "execution_count": 106,
   "metadata": {
    "collapsed": true
   },
   "outputs": [],
   "source": [
    "\n",
    "def counter():\n",
    "    res = {'token':X_train_tokens}\n",
    "    for i, c in enumerate(nb_all.classes_):\n",
    "        res[str(c)] = np.delete(nb_all.feature_count_[i, :], i)\n",
    "        print(res[str(c)].shape)\n",
    "    return res"
   ]
  },
  {
   "cell_type": "code",
   "execution_count": 107,
   "metadata": {
    "collapsed": false
   },
   "outputs": [
    {
     "name": "stdout",
     "output_type": "stream",
     "text": [
      "(25796,)\n",
      "(25796,)\n",
      "(25796,)\n",
      "(25796,)\n",
      "(25796,)\n"
     ]
    },
    {
     "data": {
      "text/plain": [
       "{'1': array([ 5.,  0.,  1., ...,  0.,  0.,  0.]),\n",
       " '2': array([ 28.,   0.,   0., ...,   0.,   0.,   0.]),\n",
       " '3': array([ 30.,   2.,   0., ...,   0.,   0.,   0.]),\n",
       " '4': array([ 49.,   3.,   1., ...,   1.,   0.,   1.]),\n",
       " '5': array([ 33.,   7.,   0., ...,   0.,   1.,   0.]),\n",
       " 'token': ['00',\n",
       "  '000',\n",
       "  '007',\n",
       "  '00a',\n",
       "  '00am',\n",
       "  '00pm',\n",
       "  '01',\n",
       "  '02',\n",
       "  '04',\n",
       "  '05',\n",
       "  '06',\n",
       "  '07',\n",
       "  '08',\n",
       "  '09',\n",
       "  '0buxoc0crqjpvkezo3bqog',\n",
       "  '0l',\n",
       "  '0tzg',\n",
       "  '10',\n",
       "  '100',\n",
       "  '1000',\n",
       "  '1001',\n",
       "  '100lbs',\n",
       "  '100s',\n",
       "  '100th',\n",
       "  '101',\n",
       "  '102',\n",
       "  '102729',\n",
       "  '1030',\n",
       "  '104',\n",
       "  '105',\n",
       "  '1070',\n",
       "  '107f',\n",
       "  '108',\n",
       "  '109',\n",
       "  '10am',\n",
       "  '10ish',\n",
       "  '10k',\n",
       "  '10min',\n",
       "  '10mins',\n",
       "  '10minutes',\n",
       "  '10oz',\n",
       "  '10p',\n",
       "  '10pm',\n",
       "  '10th',\n",
       "  '10x',\n",
       "  '10yo',\n",
       "  '11',\n",
       "  '110',\n",
       "  '1100',\n",
       "  '111',\n",
       "  '112',\n",
       "  '113',\n",
       "  '1130',\n",
       "  '114',\n",
       "  '115',\n",
       "  '116',\n",
       "  '117',\n",
       "  '118',\n",
       "  '11a',\n",
       "  '11am',\n",
       "  '11p',\n",
       "  '11pm',\n",
       "  '11year',\n",
       "  '12',\n",
       "  '120',\n",
       "  '1200',\n",
       "  '12000',\n",
       "  '1202',\n",
       "  '123',\n",
       "  '124',\n",
       "  '128i',\n",
       "  '12a',\n",
       "  '12am',\n",
       "  '12k',\n",
       "  '12oz',\n",
       "  '12pm',\n",
       "  '12th',\n",
       "  '13',\n",
       "  '130',\n",
       "  '1300',\n",
       "  '13331',\n",
       "  '13th',\n",
       "  '13yr',\n",
       "  '14',\n",
       "  '140',\n",
       "  '147',\n",
       "  '149',\n",
       "  '15',\n",
       "  '150',\n",
       "  '1500',\n",
       "  '150mm',\n",
       "  '157',\n",
       "  '15am',\n",
       "  '15ft',\n",
       "  '15min',\n",
       "  '15mins',\n",
       "  '15pm',\n",
       "  '15th',\n",
       "  '16',\n",
       "  '160',\n",
       "  '1600',\n",
       "  '162',\n",
       "  '165',\n",
       "  '16oz',\n",
       "  '16th',\n",
       "  '16thh',\n",
       "  '17',\n",
       "  '175',\n",
       "  '17cents',\n",
       "  '17p',\n",
       "  '17th',\n",
       "  '18',\n",
       "  '180',\n",
       "  '1800',\n",
       "  '184',\n",
       "  '1892',\n",
       "  '1895',\n",
       "  '1899',\n",
       "  '18th',\n",
       "  '19',\n",
       "  '1900',\n",
       "  '1910',\n",
       "  '1913',\n",
       "  '1920',\n",
       "  '1920s',\n",
       "  '1926',\n",
       "  '1928',\n",
       "  '1929',\n",
       "  '1930s',\n",
       "  '1940',\n",
       "  '19485',\n",
       "  '1950',\n",
       "  '1950s',\n",
       "  '1952',\n",
       "  '1955',\n",
       "  '1956',\n",
       "  '1960',\n",
       "  '1961',\n",
       "  '1962',\n",
       "  '1965',\n",
       "  '1968',\n",
       "  '1969',\n",
       "  '1970',\n",
       "  '1970s',\n",
       "  '1973',\n",
       "  '1978',\n",
       "  '1980',\n",
       "  '1980s',\n",
       "  '1987',\n",
       "  '199',\n",
       "  '1990',\n",
       "  '1990s',\n",
       "  '1991',\n",
       "  '1992',\n",
       "  '1993',\n",
       "  '1994',\n",
       "  '1995',\n",
       "  '1996',\n",
       "  '1997',\n",
       "  '1998',\n",
       "  '1999',\n",
       "  '19chptx8ahwztpc5xiarfq',\n",
       "  '19th',\n",
       "  '1am',\n",
       "  '1b',\n",
       "  '1cent',\n",
       "  '1hour',\n",
       "  '1jzambgdea9yyvasa8rukq',\n",
       "  '1k',\n",
       "  '1min',\n",
       "  '1pm',\n",
       "  '1st',\n",
       "  '1star',\n",
       "  '20',\n",
       "  '200',\n",
       "  '2000',\n",
       "  '2001',\n",
       "  '2002',\n",
       "  '2003',\n",
       "  '2004',\n",
       "  '2005',\n",
       "  '2006',\n",
       "  '2007',\n",
       "  '2008',\n",
       "  '2009',\n",
       "  '200lb',\n",
       "  '200lbs',\n",
       "  '201',\n",
       "  '2010',\n",
       "  '2011',\n",
       "  '2012',\n",
       "  '2013',\n",
       "  '202',\n",
       "  '20mbs',\n",
       "  '20min',\n",
       "  '20oz',\n",
       "  '20pm',\n",
       "  '20s',\n",
       "  '20th',\n",
       "  '20x',\n",
       "  '21',\n",
       "  '21st',\n",
       "  '22',\n",
       "  '220',\n",
       "  '2240',\n",
       "  '22oz',\n",
       "  '23',\n",
       "  '23a',\n",
       "  '23rd',\n",
       "  '24',\n",
       "  '2400',\n",
       "  '24hours',\n",
       "  '24hr',\n",
       "  '24hrs',\n",
       "  '24st',\n",
       "  '24th',\n",
       "  '25',\n",
       "  '250',\n",
       "  '2500hd',\n",
       "  '25b',\n",
       "  '25th',\n",
       "  '26',\n",
       "  '2600',\n",
       "  '2608',\n",
       "  '2669',\n",
       "  '26oz',\n",
       "  '26th',\n",
       "  '27',\n",
       "  '270',\n",
       "  '272',\n",
       "  '275',\n",
       "  '27th',\n",
       "  '28',\n",
       "  '284',\n",
       "  '2852',\n",
       "  '29',\n",
       "  '2939',\n",
       "  '299',\n",
       "  '29th',\n",
       "  '2am',\n",
       "  '2k',\n",
       "  '2lb',\n",
       "  '2mbps',\n",
       "  '2nd',\n",
       "  '2pac',\n",
       "  '2pm',\n",
       "  '2rd',\n",
       "  '2wice',\n",
       "  '2x',\n",
       "  '2x4',\n",
       "  '2xu',\n",
       "  '30',\n",
       "  '300',\n",
       "  '3000',\n",
       "  '30a',\n",
       "  '30am',\n",
       "  '30ish',\n",
       "  '30k',\n",
       "  '30mins',\n",
       "  '30p',\n",
       "  '30pm',\n",
       "  '30s',\n",
       "  '30something',\n",
       "  '30th',\n",
       "  '30x',\n",
       "  '31',\n",
       "  '311',\n",
       "  '312',\n",
       "  '316',\n",
       "  '32',\n",
       "  '320',\n",
       "  '325',\n",
       "  '32nd',\n",
       "  '32oz',\n",
       "  '33',\n",
       "  '33lb',\n",
       "  '33rd',\n",
       "  '34',\n",
       "  '3400',\n",
       "  '341',\n",
       "  '35',\n",
       "  '350',\n",
       "  '3500',\n",
       "  '350ib',\n",
       "  '35c',\n",
       "  '35th',\n",
       "  '36',\n",
       "  '360',\n",
       "  '365',\n",
       "  '37',\n",
       "  '370',\n",
       "  '38',\n",
       "  '39',\n",
       "  '399',\n",
       "  '39th',\n",
       "  '3am',\n",
       "  '3d',\n",
       "  '3k',\n",
       "  '3lb',\n",
       "  '3lbs',\n",
       "  '3oz',\n",
       "  '3p',\n",
       "  '3pm',\n",
       "  '3rd',\n",
       "  '3s',\n",
       "  '3tacos',\n",
       "  '3x',\n",
       "  '40',\n",
       "  '400',\n",
       "  '4000',\n",
       "  '40ish',\n",
       "  '40k',\n",
       "  '40min',\n",
       "  '40pm',\n",
       "  '40s',\n",
       "  '40th',\n",
       "  '41',\n",
       "  '4113416766',\n",
       "  '42',\n",
       "  '420',\n",
       "  '43',\n",
       "  '43rd',\n",
       "  '44',\n",
       "  '4458',\n",
       "  '44oz',\n",
       "  '44th',\n",
       "  '45',\n",
       "  '450',\n",
       "  '45min',\n",
       "  '45pm',\n",
       "  '45sec',\n",
       "  '46',\n",
       "  '4655',\n",
       "  '47',\n",
       "  '470',\n",
       "  '475',\n",
       "  '48',\n",
       "  '480',\n",
       "  '48th',\n",
       "  '49',\n",
       "  '49ers',\n",
       "  '49th',\n",
       "  '4am',\n",
       "  '4b',\n",
       "  '4cxbhzxxtmexf9krjmfviq',\n",
       "  '4f',\n",
       "  '4ish',\n",
       "  '4k',\n",
       "  '4oz',\n",
       "  '4p',\n",
       "  '4peaks',\n",
       "  '4pm',\n",
       "  '4stars',\n",
       "  '4th',\n",
       "  '4ths',\n",
       "  '4x',\n",
       "  '50',\n",
       "  '500',\n",
       "  '500sq',\n",
       "  '50cents',\n",
       "  '50ft',\n",
       "  '50s',\n",
       "  '51',\n",
       "  '5130',\n",
       "  '51st',\n",
       "  '52',\n",
       "  '5231',\n",
       "  '53',\n",
       "  '53pm',\n",
       "  '54',\n",
       "  '547',\n",
       "  '55',\n",
       "  '56',\n",
       "  '57',\n",
       "  '57th',\n",
       "  '58',\n",
       "  '59',\n",
       "  '59th',\n",
       "  '5am',\n",
       "  '5gb',\n",
       "  '5ish',\n",
       "  '5k',\n",
       "  '5min',\n",
       "  '5nzmttmomgj_svixktm51q',\n",
       "  '5oz',\n",
       "  '5p',\n",
       "  '5pm',\n",
       "  '5s',\n",
       "  '5star',\n",
       "  '5stars',\n",
       "  '5th',\n",
       "  '5yo',\n",
       "  '60',\n",
       "  '600',\n",
       "  '6000',\n",
       "  '602',\n",
       "  '60f',\n",
       "  '60s',\n",
       "  '61',\n",
       "  '61st',\n",
       "  '62',\n",
       "  '623',\n",
       "  '63',\n",
       "  '630am',\n",
       "  '64',\n",
       "  '64oz',\n",
       "  '64th',\n",
       "  '65',\n",
       "  '66',\n",
       "  '6600',\n",
       "  '67',\n",
       "  '68',\n",
       "  '69',\n",
       "  '696',\n",
       "  '6am',\n",
       "  '6ivet3g9ew',\n",
       "  '6k',\n",
       "  '6oz',\n",
       "  '6p',\n",
       "  '6pm',\n",
       "  '6th',\n",
       "  '6ths',\n",
       "  '70',\n",
       "  '700',\n",
       "  '7000',\n",
       "  '70s',\n",
       "  '71',\n",
       "  '72',\n",
       "  '730',\n",
       "  '74',\n",
       "  '747',\n",
       "  '74th',\n",
       "  '75',\n",
       "  '750',\n",
       "  '755891987',\n",
       "  '757',\n",
       "  '75cents',\n",
       "  '767',\n",
       "  '777',\n",
       "  '7807',\n",
       "  '79',\n",
       "  '7a',\n",
       "  '7am',\n",
       "  '7ish',\n",
       "  '7p',\n",
       "  '7pm',\n",
       "  '7th',\n",
       "  '80',\n",
       "  '800',\n",
       "  '80f',\n",
       "  '80s',\n",
       "  '80th',\n",
       "  '81',\n",
       "  '83',\n",
       "  '832',\n",
       "  '8330',\n",
       "  '83rd',\n",
       "  '84',\n",
       "  '85',\n",
       "  '85340',\n",
       "  '86',\n",
       "  '87',\n",
       "  '88',\n",
       "  '89',\n",
       "  '8am',\n",
       "  '8inch',\n",
       "  '8ish',\n",
       "  '8oz',\n",
       "  '8pc',\n",
       "  '8pm',\n",
       "  '8ppl',\n",
       "  '8th',\n",
       "  '8v',\n",
       "  '8yo',\n",
       "  '90',\n",
       "  '9000',\n",
       "  '90min',\n",
       "  '90minute',\n",
       "  '90s',\n",
       "  '91',\n",
       "  '911',\n",
       "  '92',\n",
       "  '92nd',\n",
       "  '93',\n",
       "  '94',\n",
       "  '9495',\n",
       "  '95',\n",
       "  '96',\n",
       "  '97',\n",
       "  '977',\n",
       "  '98',\n",
       "  '99',\n",
       "  '99cent',\n",
       "  '99th',\n",
       "  '9am',\n",
       "  '9ers',\n",
       "  '9ga',\n",
       "  '9ish',\n",
       "  '9oz',\n",
       "  '9p',\n",
       "  '9pm',\n",
       "  '9th',\n",
       "  '9yo',\n",
       "  '_4xhxtuykqnyphmylm',\n",
       "  '______',\n",
       "  '_______',\n",
       "  '_______________',\n",
       "  '____berto',\n",
       "  '_accommodating',\n",
       "  '_affordable',\n",
       "  '_c',\n",
       "  '_gyib8ea4hdfylss17zc_g',\n",
       "  '_l7o1zhq9edno1lhv9b10g',\n",
       "  '_reasonable',\n",
       "  '_she',\n",
       "  '_third_',\n",
       "  '_us_',\n",
       "  '_very',\n",
       "  'a1',\n",
       "  'aa',\n",
       "  'aaa',\n",
       "  'aaaaaalright',\n",
       "  'aaammmazzing',\n",
       "  'aaand',\n",
       "  'aah',\n",
       "  'aand',\n",
       "  'aaron',\n",
       "  'aarp',\n",
       "  'ab',\n",
       "  'aback',\n",
       "  'abacus',\n",
       "  'abandon',\n",
       "  'abandoned',\n",
       "  'abba',\n",
       "  'abbaye',\n",
       "  'abbey',\n",
       "  'abbreviate',\n",
       "  'abbreviated',\n",
       "  'abbreviations',\n",
       "  'abby',\n",
       "  'abc',\n",
       "  'abdomen',\n",
       "  'abe',\n",
       "  'aberration',\n",
       "  'abhor',\n",
       "  'abides',\n",
       "  'abilities',\n",
       "  'ability',\n",
       "  'abita',\n",
       "  'able',\n",
       "  'abnormally',\n",
       "  'abode',\n",
       "  'abogado',\n",
       "  'abou',\n",
       "  'abound',\n",
       "  'about',\n",
       "  'above',\n",
       "  'abridged',\n",
       "  'abroad',\n",
       "  'abrupt',\n",
       "  'abruptly',\n",
       "  'abs',\n",
       "  'absence',\n",
       "  'absent',\n",
       "  'absinthe',\n",
       "  'absoloutely',\n",
       "  'absolut',\n",
       "  'absolute',\n",
       "  'absolutely',\n",
       "  'absolutley',\n",
       "  'absolutly',\n",
       "  'absorb',\n",
       "  'absorbed',\n",
       "  'absorption',\n",
       "  'abstain',\n",
       "  'abstained',\n",
       "  'abstract',\n",
       "  'absurd',\n",
       "  'absurdly',\n",
       "  'abt',\n",
       "  'abuelita',\n",
       "  'abuelo',\n",
       "  'abuelos',\n",
       "  'abundance',\n",
       "  'abundant',\n",
       "  'abundantly',\n",
       "  'abuse',\n",
       "  'abused',\n",
       "  'abusive',\n",
       "  'abysmal',\n",
       "  'ac',\n",
       "  'acacia',\n",
       "  'academy',\n",
       "  'acadia',\n",
       "  'acai',\n",
       "  'acapulco',\n",
       "  'accent',\n",
       "  'accented',\n",
       "  'accents',\n",
       "  'accept',\n",
       "  'acceptable',\n",
       "  'accepted',\n",
       "  'accepting',\n",
       "  'accepts',\n",
       "  'accesible',\n",
       "  'accesories',\n",
       "  'access',\n",
       "  'accessbile',\n",
       "  'accessed',\n",
       "  'accessibility',\n",
       "  'accessible',\n",
       "  'accessibly',\n",
       "  'accessories',\n",
       "  'accessorize',\n",
       "  'accessory',\n",
       "  'accident',\n",
       "  'accidental',\n",
       "  'accidentally',\n",
       "  'accidentily',\n",
       "  'accidently',\n",
       "  'accidents',\n",
       "  'acclaimed',\n",
       "  'acclimated',\n",
       "  'accolades',\n",
       "  'accommodate',\n",
       "  'accommodated',\n",
       "  'accommodates',\n",
       "  'accommodating',\n",
       "  'accommodation',\n",
       "  'accommodations',\n",
       "  'accomodate',\n",
       "  'accomodated',\n",
       "  'accomodates',\n",
       "  'accomodating',\n",
       "  'accomodation',\n",
       "  'accomodations',\n",
       "  'accompanied',\n",
       "  'accompanies',\n",
       "  'accompaniment',\n",
       "  'accompaniments',\n",
       "  'accompany',\n",
       "  'accompanying',\n",
       "  'accomplice',\n",
       "  'accomplished',\n",
       "  'accomplishment',\n",
       "  'accomplishments',\n",
       "  'according',\n",
       "  'accordingly',\n",
       "  'account',\n",
       "  'accountability',\n",
       "  'accountant',\n",
       "  'accounting',\n",
       "  'accounts',\n",
       "  'accoutrement',\n",
       "  'accoutrements',\n",
       "  'accredited',\n",
       "  'accross',\n",
       "  'accumulated',\n",
       "  'accuracy',\n",
       "  'accurate',\n",
       "  'accurately',\n",
       "  'accusation',\n",
       "  'accused',\n",
       "  'accustom',\n",
       "  'accustomed',\n",
       "  'ace',\n",
       "  'aces',\n",
       "  'acetone',\n",
       "  'ache',\n",
       "  'achieve',\n",
       "  'achieved',\n",
       "  'achievement',\n",
       "  'achieves',\n",
       "  'achieving',\n",
       "  'acid',\n",
       "  'acidic',\n",
       "  'acknowledge',\n",
       "  'acknowledged',\n",
       "  'acknowledgement',\n",
       "  'acknowledging',\n",
       "  'acknowledgment',\n",
       "  'ackward',\n",
       "  'acme',\n",
       "  'acne',\n",
       "  'acommodations',\n",
       "  'acoustic',\n",
       "  'acoustician',\n",
       "  'acoustics',\n",
       "  'acquaintance',\n",
       "  'acquaintence',\n",
       "  'acquire',\n",
       "  'acquired',\n",
       "  'acquisition',\n",
       "  'acres',\n",
       "  'acrid',\n",
       "  'acrimonious',\n",
       "  'across',\n",
       "  'acrylic',\n",
       "  'acrylics',\n",
       "  'act',\n",
       "  'actaully',\n",
       "  'acted',\n",
       "  'acting',\n",
       "  'action',\n",
       "  'actions',\n",
       "  'active',\n",
       "  'actively',\n",
       "  'activism',\n",
       "  'activities',\n",
       "  'activity',\n",
       "  'actor',\n",
       "  'actors',\n",
       "  'actress',\n",
       "  'acts',\n",
       "  'actual',\n",
       "  'actuality',\n",
       "  'actually',\n",
       "  'actuators',\n",
       "  'actully',\n",
       "  'acuity',\n",
       "  'acupuncturist',\n",
       "  'acxupuncturist',\n",
       "  'acy',\n",
       "  'ad',\n",
       "  'ada',\n",
       "  'adam',\n",
       "  'adams',\n",
       "  'adapted',\n",
       "  'adaptive',\n",
       "  'adaquate',\n",
       "  'adaquet',\n",
       "  'add',\n",
       "  'addage',\n",
       "  'addd',\n",
       "  'added',\n",
       "  'addict',\n",
       "  'addicted',\n",
       "  'addicting',\n",
       "  'addiction',\n",
       "  'addictions',\n",
       "  'addictive',\n",
       "  'addicts',\n",
       "  'addidas',\n",
       "  'adding',\n",
       "  'addition',\n",
       "  'additional',\n",
       "  'additionally',\n",
       "  'additions',\n",
       "  'additive',\n",
       "  'additives',\n",
       "  'address',\n",
       "  'addressed',\n",
       "  'addressing',\n",
       "  'adds',\n",
       "  'addtl',\n",
       "  'adelman',\n",
       "  'adequate',\n",
       "  'adequately',\n",
       "  'adhere',\n",
       "  'adhered',\n",
       "  'adherence',\n",
       "  'adhesive',\n",
       "  'adidas',\n",
       "  'adios',\n",
       "  'adjacent',\n",
       "  'adjective',\n",
       "  'adjectives',\n",
       "  'adjoining',\n",
       "  'adjunct',\n",
       "  'adjust',\n",
       "  'adjusted',\n",
       "  'adjustment',\n",
       "  'adjustments',\n",
       "  'administration',\n",
       "  'administrative',\n",
       "  'administrators',\n",
       "  'admirable',\n",
       "  'admire',\n",
       "  'admired',\n",
       "  'admiring',\n",
       "  'admission',\n",
       "  'admissions',\n",
       "  'admit',\n",
       "  'admits',\n",
       "  'admitted',\n",
       "  'admittedly',\n",
       "  'admitting',\n",
       "  'admonishment',\n",
       "  'ado',\n",
       "  'adobada',\n",
       "  'adobe',\n",
       "  'adobo',\n",
       "  'adolescence',\n",
       "  'adolescent',\n",
       "  'adopt',\n",
       "  'adopted',\n",
       "  'adopting',\n",
       "  'adoption',\n",
       "  'adorable',\n",
       "  'adorably',\n",
       "  'adorama',\n",
       "  'adoration',\n",
       "  'adore',\n",
       "  'adored',\n",
       "  'adores',\n",
       "  'adorn',\n",
       "  'adorned',\n",
       "  'adovada',\n",
       "  'adquate',\n",
       "  'adrenaline',\n",
       "  'adriana',\n",
       "  'adrianne',\n",
       "  'adriatica',\n",
       "  'ads',\n",
       "  'adult',\n",
       "  'adulthood',\n",
       "  'adults',\n",
       "  'adults_night_out',\n",
       "  'advance',\n",
       "  'advanced',\n",
       "  'advancing',\n",
       "  'advantage',\n",
       "  'advantages',\n",
       "  'advent',\n",
       "  'adventure',\n",
       "  'adventurer',\n",
       "  'adventures',\n",
       "  'adventuresome',\n",
       "  'adventurous',\n",
       "  'adventurousness',\n",
       "  'adverse',\n",
       "  'adversity',\n",
       "  'advertise',\n",
       "  'advertised',\n",
       "  'advertisement',\n",
       "  'advertises',\n",
       "  'advertising',\n",
       "  'advertisments',\n",
       "  'advertized',\n",
       "  'advice',\n",
       "  'advise',\n",
       "  'advised',\n",
       "  'adviser',\n",
       "  'advising',\n",
       "  'advisor',\n",
       "  'advocate',\n",
       "  'advocated',\n",
       "  'ae',\n",
       "  'aea',\n",
       "  'aeg',\n",
       "  'aegean',\n",
       "  'aerators',\n",
       "  'aerobic',\n",
       "  'aerobics',\n",
       "  'aeropostale',\n",
       "  'aeropress',\n",
       "  'aesthetic',\n",
       "  'aesthetically',\n",
       "  'aesthetician',\n",
       "  'aestheticians',\n",
       "  'aesthetics',\n",
       "  'afar',\n",
       "  'affair',\n",
       "  'affect',\n",
       "  'affected',\n",
       "  'affectionately',\n",
       "  'affects',\n",
       "  'afficianados',\n",
       "  'afficienandos',\n",
       "  'affiliate',\n",
       "  'affiliated',\n",
       "  'affirming',\n",
       "  'affix',\n",
       "  'affliction',\n",
       "  'affluent',\n",
       "  'affogato',\n",
       "  'afford',\n",
       "  'affordable',\n",
       "  'affordably',\n",
       "  'affords',\n",
       "  'affront',\n",
       "  'aficionado',\n",
       "  'aficionados',\n",
       "  'afloat',\n",
       "  'aforementioned',\n",
       "  'afoul',\n",
       "  'afraid',\n",
       "  'africa',\n",
       "  'african',\n",
       "  'afront',\n",
       "  'after',\n",
       "  'afterall',\n",
       "  'afterglow',\n",
       "  'afterhours',\n",
       "  'afternoon',\n",
       "  'afternoons',\n",
       "  'aftertaste',\n",
       "  'afterthought',\n",
       "  'afterward',\n",
       "  'afterwards',\n",
       "  'afterwords',\n",
       "  'aftr',\n",
       "  'again',\n",
       "  'against',\n",
       "  'agape',\n",
       "  'agave',\n",
       "  'agaves',\n",
       "  'age',\n",
       "  'aged',\n",
       "  'agedashi',\n",
       "  'agency',\n",
       "  'agenda',\n",
       "  'agent',\n",
       "  'agents',\n",
       "  'ages',\n",
       "  'aggravated',\n",
       "  'aggressive',\n",
       "  'aggressively',\n",
       "  'aging',\n",
       "  'ago',\n",
       "  'agonizing',\n",
       "  'agony',\n",
       "  'agree',\n",
       "  'agreeable',\n",
       "  'agreed',\n",
       "  'agreeing',\n",
       "  'agreement',\n",
       "  'agrees',\n",
       "  'agritopia',\n",
       "  'agua',\n",
       "  'aguachile',\n",
       "  'aguas',\n",
       "  'aguila',\n",
       "  'agwa',\n",
       "  'ah',\n",
       "  'ahab',\n",
       "  'ahahah',\n",
       "  'ahead',\n",
       "  'ahem',\n",
       "  'ahh',\n",
       "  'ahhh',\n",
       "  'ahhhh',\n",
       "  'ahhhhh',\n",
       "  'ahhhhhh',\n",
       "  'ahhhhs',\n",
       "  'ahi',\n",
       "  'ahold',\n",
       "  'ahwatukee',\n",
       "  'ai',\n",
       "  'aia',\n",
       "  'aid',\n",
       "  'aide',\n",
       "  'aiding',\n",
       "  'aiello',\n",
       "  'aight',\n",
       "  'aiight',\n",
       "  'ails',\n",
       "  'aim',\n",
       "  'aimed',\n",
       "  'aiming',\n",
       "  'aimlessly',\n",
       "  'aims',\n",
       "  'ain',\n",
       "  'aint',\n",
       "  'aioli',\n",
       "  'aiptasia',\n",
       "  'air',\n",
       "  'airbrush',\n",
       "  'airconditioned',\n",
       "  'aircraft',\n",
       "  'aired',\n",
       "  'airfare',\n",
       "  'airless',\n",
       "  'airline',\n",
       "  'airlines',\n",
       "  'airpark',\n",
       "  'airplane',\n",
       "  'airplanes',\n",
       "  'airport',\n",
       "  'airports',\n",
       "  'airwarys',\n",
       "  'airways',\n",
       "  'airy',\n",
       "  'aisde',\n",
       "  'aisle',\n",
       "  'aisles',\n",
       "  'aj',\n",
       "  'ajar',\n",
       "  'aji',\n",
       "  'ajillo',\n",
       "  'ajo',\n",
       "  'ajos',\n",
       "  'ajs',\n",
       "  'ajvar',\n",
       "  'aka',\n",
       "  'akai',\n",
       "  'aked',\n",
       "  'akin',\n",
       "  'akitas',\n",
       "  'aknowledge',\n",
       "  ...]}"
      ]
     },
     "execution_count": 107,
     "metadata": {},
     "output_type": "execute_result"
    }
   ],
   "source": [
    "counter()"
   ]
  },
  {
   "cell_type": "code",
   "execution_count": 103,
   "metadata": {
    "collapsed": false
   },
   "outputs": [
    {
     "ename": "ValueError",
     "evalue": "arrays must all be same length",
     "output_type": "error",
     "traceback": [
      "\u001b[1;31m---------------------------------------------------------------------------\u001b[0m",
      "\u001b[1;31mValueError\u001b[0m                                Traceback (most recent call last)",
      "\u001b[1;32m<ipython-input-103-c4981d706752>\u001b[0m in \u001b[0;36m<module>\u001b[1;34m()\u001b[0m\n\u001b[1;32m----> 1\u001b[1;33m \u001b[0mtoken_counts\u001b[0m \u001b[1;33m=\u001b[0m \u001b[0mpd\u001b[0m\u001b[1;33m.\u001b[0m\u001b[0mDataFrame\u001b[0m\u001b[1;33m(\u001b[0m\u001b[0mcounter\u001b[0m\u001b[1;33m(\u001b[0m\u001b[1;33m)\u001b[0m\u001b[1;33m)\u001b[0m\u001b[1;33m\u001b[0m\u001b[0m\n\u001b[0m",
      "\u001b[1;32m/home/climbus/anaconda3/lib/python3.4/site-packages/pandas/core/frame.py\u001b[0m in \u001b[0;36m__init__\u001b[1;34m(self, data, index, columns, dtype, copy)\u001b[0m\n\u001b[0;32m    212\u001b[0m                                  dtype=dtype, copy=copy)\n\u001b[0;32m    213\u001b[0m         \u001b[1;32melif\u001b[0m \u001b[0misinstance\u001b[0m\u001b[1;33m(\u001b[0m\u001b[0mdata\u001b[0m\u001b[1;33m,\u001b[0m \u001b[0mdict\u001b[0m\u001b[1;33m)\u001b[0m\u001b[1;33m:\u001b[0m\u001b[1;33m\u001b[0m\u001b[0m\n\u001b[1;32m--> 214\u001b[1;33m             \u001b[0mmgr\u001b[0m \u001b[1;33m=\u001b[0m \u001b[0mself\u001b[0m\u001b[1;33m.\u001b[0m\u001b[0m_init_dict\u001b[0m\u001b[1;33m(\u001b[0m\u001b[0mdata\u001b[0m\u001b[1;33m,\u001b[0m \u001b[0mindex\u001b[0m\u001b[1;33m,\u001b[0m \u001b[0mcolumns\u001b[0m\u001b[1;33m,\u001b[0m \u001b[0mdtype\u001b[0m\u001b[1;33m=\u001b[0m\u001b[0mdtype\u001b[0m\u001b[1;33m)\u001b[0m\u001b[1;33m\u001b[0m\u001b[0m\n\u001b[0m\u001b[0;32m    215\u001b[0m         \u001b[1;32melif\u001b[0m \u001b[0misinstance\u001b[0m\u001b[1;33m(\u001b[0m\u001b[0mdata\u001b[0m\u001b[1;33m,\u001b[0m \u001b[0mma\u001b[0m\u001b[1;33m.\u001b[0m\u001b[0mMaskedArray\u001b[0m\u001b[1;33m)\u001b[0m\u001b[1;33m:\u001b[0m\u001b[1;33m\u001b[0m\u001b[0m\n\u001b[0;32m    216\u001b[0m             \u001b[1;32mimport\u001b[0m \u001b[0mnumpy\u001b[0m\u001b[1;33m.\u001b[0m\u001b[0mma\u001b[0m\u001b[1;33m.\u001b[0m\u001b[0mmrecords\u001b[0m \u001b[1;32mas\u001b[0m \u001b[0mmrecords\u001b[0m\u001b[1;33m\u001b[0m\u001b[0m\n",
      "\u001b[1;32m/home/climbus/anaconda3/lib/python3.4/site-packages/pandas/core/frame.py\u001b[0m in \u001b[0;36m_init_dict\u001b[1;34m(self, data, index, columns, dtype)\u001b[0m\n\u001b[0;32m    339\u001b[0m \u001b[1;33m\u001b[0m\u001b[0m\n\u001b[0;32m    340\u001b[0m         return _arrays_to_mgr(arrays, data_names, index, columns,\n\u001b[1;32m--> 341\u001b[1;33m                               dtype=dtype)\n\u001b[0m\u001b[0;32m    342\u001b[0m \u001b[1;33m\u001b[0m\u001b[0m\n\u001b[0;32m    343\u001b[0m     def _init_ndarray(self, values, index, columns, dtype=None,\n",
      "\u001b[1;32m/home/climbus/anaconda3/lib/python3.4/site-packages/pandas/core/frame.py\u001b[0m in \u001b[0;36m_arrays_to_mgr\u001b[1;34m(arrays, arr_names, index, columns, dtype)\u001b[0m\n\u001b[0;32m   4796\u001b[0m     \u001b[1;31m# figure out the index, if necessary\u001b[0m\u001b[1;33m\u001b[0m\u001b[1;33m\u001b[0m\u001b[0m\n\u001b[0;32m   4797\u001b[0m     \u001b[1;32mif\u001b[0m \u001b[0mindex\u001b[0m \u001b[1;32mis\u001b[0m \u001b[1;32mNone\u001b[0m\u001b[1;33m:\u001b[0m\u001b[1;33m\u001b[0m\u001b[0m\n\u001b[1;32m-> 4798\u001b[1;33m         \u001b[0mindex\u001b[0m \u001b[1;33m=\u001b[0m \u001b[0mextract_index\u001b[0m\u001b[1;33m(\u001b[0m\u001b[0marrays\u001b[0m\u001b[1;33m)\u001b[0m\u001b[1;33m\u001b[0m\u001b[0m\n\u001b[0m\u001b[0;32m   4799\u001b[0m     \u001b[1;32melse\u001b[0m\u001b[1;33m:\u001b[0m\u001b[1;33m\u001b[0m\u001b[0m\n\u001b[0;32m   4800\u001b[0m         \u001b[0mindex\u001b[0m \u001b[1;33m=\u001b[0m \u001b[0m_ensure_index\u001b[0m\u001b[1;33m(\u001b[0m\u001b[0mindex\u001b[0m\u001b[1;33m)\u001b[0m\u001b[1;33m\u001b[0m\u001b[0m\n",
      "\u001b[1;32m/home/climbus/anaconda3/lib/python3.4/site-packages/pandas/core/frame.py\u001b[0m in \u001b[0;36mextract_index\u001b[1;34m(data)\u001b[0m\n\u001b[0;32m   4844\u001b[0m             \u001b[0mlengths\u001b[0m \u001b[1;33m=\u001b[0m \u001b[0mlist\u001b[0m\u001b[1;33m(\u001b[0m\u001b[0mset\u001b[0m\u001b[1;33m(\u001b[0m\u001b[0mraw_lengths\u001b[0m\u001b[1;33m)\u001b[0m\u001b[1;33m)\u001b[0m\u001b[1;33m\u001b[0m\u001b[0m\n\u001b[0;32m   4845\u001b[0m             \u001b[1;32mif\u001b[0m \u001b[0mlen\u001b[0m\u001b[1;33m(\u001b[0m\u001b[0mlengths\u001b[0m\u001b[1;33m)\u001b[0m \u001b[1;33m>\u001b[0m \u001b[1;36m1\u001b[0m\u001b[1;33m:\u001b[0m\u001b[1;33m\u001b[0m\u001b[0m\n\u001b[1;32m-> 4846\u001b[1;33m                 \u001b[1;32mraise\u001b[0m \u001b[0mValueError\u001b[0m\u001b[1;33m(\u001b[0m\u001b[1;34m'arrays must all be same length'\u001b[0m\u001b[1;33m)\u001b[0m\u001b[1;33m\u001b[0m\u001b[0m\n\u001b[0m\u001b[0;32m   4847\u001b[0m \u001b[1;33m\u001b[0m\u001b[0m\n\u001b[0;32m   4848\u001b[0m             \u001b[1;32mif\u001b[0m \u001b[0mhave_dicts\u001b[0m\u001b[1;33m:\u001b[0m\u001b[1;33m\u001b[0m\u001b[0m\n",
      "\u001b[1;31mValueError\u001b[0m: arrays must all be same length"
     ]
    }
   ],
   "source": [
    "token_counts = pd.DataFrame(counter())"
   ]
  },
  {
   "cell_type": "code",
   "execution_count": 94,
   "metadata": {
    "collapsed": false
   },
   "outputs": [
    {
     "data": {
      "text/html": [
       "<div>\n",
       "<table border=\"1\" class=\"dataframe\">\n",
       "  <thead>\n",
       "    <tr style=\"text-align: right;\">\n",
       "      <th></th>\n",
       "      <th>1</th>\n",
       "      <th>2</th>\n",
       "      <th>3</th>\n",
       "      <th>4</th>\n",
       "      <th>5</th>\n",
       "      <th>token</th>\n",
       "      <th>sum</th>\n",
       "    </tr>\n",
       "  </thead>\n",
       "  <tbody>\n",
       "    <tr>\n",
       "      <th>0</th>\n",
       "      <td>19</td>\n",
       "      <td>28</td>\n",
       "      <td>30</td>\n",
       "      <td>49</td>\n",
       "      <td>33</td>\n",
       "      <td>00</td>\n",
       "      <td>846849</td>\n",
       "    </tr>\n",
       "    <tr>\n",
       "      <th>1</th>\n",
       "      <td>5</td>\n",
       "      <td>2</td>\n",
       "      <td>2</td>\n",
       "      <td>3</td>\n",
       "      <td>7</td>\n",
       "      <td>000</td>\n",
       "      <td>846849</td>\n",
       "    </tr>\n",
       "    <tr>\n",
       "      <th>2</th>\n",
       "      <td>0</td>\n",
       "      <td>0</td>\n",
       "      <td>0</td>\n",
       "      <td>1</td>\n",
       "      <td>0</td>\n",
       "      <td>007</td>\n",
       "      <td>846849</td>\n",
       "    </tr>\n",
       "    <tr>\n",
       "      <th>3</th>\n",
       "      <td>1</td>\n",
       "      <td>0</td>\n",
       "      <td>0</td>\n",
       "      <td>0</td>\n",
       "      <td>0</td>\n",
       "      <td>00a</td>\n",
       "      <td>846849</td>\n",
       "    </tr>\n",
       "    <tr>\n",
       "      <th>4</th>\n",
       "      <td>3</td>\n",
       "      <td>0</td>\n",
       "      <td>0</td>\n",
       "      <td>2</td>\n",
       "      <td>2</td>\n",
       "      <td>00am</td>\n",
       "      <td>846849</td>\n",
       "    </tr>\n",
       "  </tbody>\n",
       "</table>\n",
       "</div>"
      ],
      "text/plain": [
       "    1   2   3   4   5 token     sum\n",
       "0  19  28  30  49  33    00  846849\n",
       "1   5   2   2   3   7   000  846849\n",
       "2   0   0   0   1   0   007  846849\n",
       "3   1   0   0   0   0   00a  846849\n",
       "4   3   0   0   2   2  00am  846849"
      ]
     },
     "execution_count": 94,
     "metadata": {},
     "output_type": "execute_result"
    }
   ],
   "source": [
    "token_counts.head()"
   ]
  },
  {
   "cell_type": "code",
   "execution_count": 96,
   "metadata": {
    "collapsed": false
   },
   "outputs": [
    {
     "ename": "SyntaxError",
     "evalue": "invalid syntax (<ipython-input-96-27a15a8eb8f0>, line 1)",
     "output_type": "error",
     "traceback": [
      "\u001b[1;36m  File \u001b[1;32m\"<ipython-input-96-27a15a8eb8f0>\"\u001b[1;36m, line \u001b[1;32m1\u001b[0m\n\u001b[1;33m    token_counts.0\u001b[0m\n\u001b[1;37m                 ^\u001b[0m\n\u001b[1;31mSyntaxError\u001b[0m\u001b[1;31m:\u001b[0m invalid syntax\n"
     ]
    }
   ],
   "source": [
    "token_counts.0"
   ]
  },
  {
   "cell_type": "code",
   "execution_count": 89,
   "metadata": {
    "collapsed": false
   },
   "outputs": [
    {
     "data": {
      "text/plain": [
       "array([[ 28.,   2.,   0., ...,   0.,   0.,   0.],\n",
       "       [ 30.,   2.,   0., ...,   0.,   0.,   0.],\n",
       "       [ 49.,   3.,   1., ...,   1.,   0.,   1.],\n",
       "       [ 33.,   7.,   0., ...,   0.,   1.,   0.]])"
      ]
     },
     "execution_count": 89,
     "metadata": {},
     "output_type": "execute_result"
    }
   ],
   "source": [
    "nb_all.feature_count_[1:]"
   ]
  },
  {
   "cell_type": "code",
   "execution_count": null,
   "metadata": {
    "collapsed": true
   },
   "outputs": [],
   "source": [
    "def compute_ratio(i, df):\n",
    "    df[i, ]"
   ]
  },
  {
   "cell_type": "code",
   "execution_count": 87,
   "metadata": {
    "collapsed": true
   },
   "outputs": [],
   "source": [
    "token_counts['sum'] = np.sum(nb_all.feature_count_[1:])"
   ]
  },
  {
   "cell_type": "code",
   "execution_count": 88,
   "metadata": {
    "collapsed": false
   },
   "outputs": [
    {
     "data": {
      "text/html": [
       "<div>\n",
       "<table border=\"1\" class=\"dataframe\">\n",
       "  <thead>\n",
       "    <tr style=\"text-align: right;\">\n",
       "      <th></th>\n",
       "      <th>1</th>\n",
       "      <th>2</th>\n",
       "      <th>3</th>\n",
       "      <th>4</th>\n",
       "      <th>5</th>\n",
       "      <th>token</th>\n",
       "      <th>sum</th>\n",
       "    </tr>\n",
       "  </thead>\n",
       "  <tbody>\n",
       "    <tr>\n",
       "      <th>0</th>\n",
       "      <td>19</td>\n",
       "      <td>28</td>\n",
       "      <td>30</td>\n",
       "      <td>49</td>\n",
       "      <td>33</td>\n",
       "      <td>00</td>\n",
       "      <td>846849</td>\n",
       "    </tr>\n",
       "    <tr>\n",
       "      <th>1</th>\n",
       "      <td>5</td>\n",
       "      <td>2</td>\n",
       "      <td>2</td>\n",
       "      <td>3</td>\n",
       "      <td>7</td>\n",
       "      <td>000</td>\n",
       "      <td>846849</td>\n",
       "    </tr>\n",
       "    <tr>\n",
       "      <th>2</th>\n",
       "      <td>0</td>\n",
       "      <td>0</td>\n",
       "      <td>0</td>\n",
       "      <td>1</td>\n",
       "      <td>0</td>\n",
       "      <td>007</td>\n",
       "      <td>846849</td>\n",
       "    </tr>\n",
       "    <tr>\n",
       "      <th>3</th>\n",
       "      <td>1</td>\n",
       "      <td>0</td>\n",
       "      <td>0</td>\n",
       "      <td>0</td>\n",
       "      <td>0</td>\n",
       "      <td>00a</td>\n",
       "      <td>846849</td>\n",
       "    </tr>\n",
       "    <tr>\n",
       "      <th>4</th>\n",
       "      <td>3</td>\n",
       "      <td>0</td>\n",
       "      <td>0</td>\n",
       "      <td>2</td>\n",
       "      <td>2</td>\n",
       "      <td>00am</td>\n",
       "      <td>846849</td>\n",
       "    </tr>\n",
       "  </tbody>\n",
       "</table>\n",
       "</div>"
      ],
      "text/plain": [
       "    1   2   3   4   5 token     sum\n",
       "0  19  28  30  49  33    00  846849\n",
       "1   5   2   2   3   7   000  846849\n",
       "2   0   0   0   1   0   007  846849\n",
       "3   1   0   0   0   0   00a  846849\n",
       "4   3   0   0   2   2  00am  846849"
      ]
     },
     "execution_count": 88,
     "metadata": {},
     "output_type": "execute_result"
    }
   ],
   "source": [
    "token_counts.head()"
   ]
  },
  {
   "cell_type": "code",
   "execution_count": 46,
   "metadata": {
    "collapsed": true
   },
   "outputs": [],
   "source": [
    "token_counts['one'] = token_counts.one + 1"
   ]
  },
  {
   "cell_type": "code",
   "execution_count": 63,
   "metadata": {
    "collapsed": false
   },
   "outputs": [
    {
     "data": {
      "text/plain": [
       "array([ 19.,   5.,   0., ...,   0.,   0.,   0.])"
      ]
     },
     "execution_count": 63,
     "metadata": {},
     "output_type": "execute_result"
    }
   ],
   "source": [
    "\n",
    "nb_all.feature_count_[0, :]"
   ]
  },
  {
   "cell_type": "code",
   "execution_count": 58,
   "metadata": {
    "collapsed": false
   },
   "outputs": [
    {
     "data": {
      "text/plain": [
       "(4, 25797)"
      ]
     },
     "execution_count": 58,
     "metadata": {},
     "output_type": "execute_result"
    }
   ],
   "source": [
    "nb_all.feature_count_[1:, :].shape"
   ]
  },
  {
   "cell_type": "code",
   "execution_count": 54,
   "metadata": {
    "collapsed": false
   },
   "outputs": [
    {
     "data": {
      "text/plain": [
       "846849.0"
      ]
     },
     "execution_count": 54,
     "metadata": {},
     "output_type": "execute_result"
    }
   ],
   "source": [
    "np.sum(nb_all.feature_count_[1:, :])"
   ]
  },
  {
   "cell_type": "code",
   "execution_count": 53,
   "metadata": {
    "collapsed": true
   },
   "outputs": [],
   "source": [
    "import numpy as np"
   ]
  },
  {
   "cell_type": "code",
   "execution_count": 55,
   "metadata": {
    "collapsed": true
   },
   "outputs": [],
   "source": [
    "token_counts['one'] = token_counts.one / np.sum(nb_all.feature_count_[1:, :])"
   ]
  },
  {
   "cell_type": "code",
   "execution_count": 64,
   "metadata": {
    "collapsed": false
   },
   "outputs": [
    {
     "data": {
      "text/html": [
       "<div>\n",
       "<table border=\"1\" class=\"dataframe\">\n",
       "  <thead>\n",
       "    <tr style=\"text-align: right;\">\n",
       "      <th></th>\n",
       "      <th>five</th>\n",
       "      <th>one</th>\n",
       "      <th>token</th>\n",
       "    </tr>\n",
       "  </thead>\n",
       "  <tbody>\n",
       "    <tr>\n",
       "      <th>23029</th>\n",
       "      <td>5735</td>\n",
       "      <td>4310</td>\n",
       "      <td>the</td>\n",
       "    </tr>\n",
       "    <tr>\n",
       "      <th>1262</th>\n",
       "      <td>3182</td>\n",
       "      <td>2685</td>\n",
       "      <td>and</td>\n",
       "    </tr>\n",
       "    <tr>\n",
       "      <th>23317</th>\n",
       "      <td>2721</td>\n",
       "      <td>2477</td>\n",
       "      <td>to</td>\n",
       "    </tr>\n",
       "    <tr>\n",
       "      <th>24893</th>\n",
       "      <td>1972</td>\n",
       "      <td>1517</td>\n",
       "      <td>was</td>\n",
       "    </tr>\n",
       "    <tr>\n",
       "      <th>12187</th>\n",
       "      <td>1751</td>\n",
       "      <td>1346</td>\n",
       "      <td>it</td>\n",
       "    </tr>\n",
       "  </tbody>\n",
       "</table>\n",
       "</div>"
      ],
      "text/plain": [
       "       five   one token\n",
       "23029  5735  4310   the\n",
       "1262   3182  2685   and\n",
       "23317  2721  2477    to\n",
       "24893  1972  1517   was\n",
       "12187  1751  1346    it"
      ]
     },
     "execution_count": 64,
     "metadata": {},
     "output_type": "execute_result"
    }
   ],
   "source": [
    "token_counts.sort(\"one\", ascending=False).head()"
   ]
  },
  {
   "cell_type": "code",
   "execution_count": null,
   "metadata": {
    "collapsed": true
   },
   "outputs": [],
   "source": []
  }
 ],
 "metadata": {
  "kernelspec": {
   "display_name": "Python 3",
   "language": "python",
   "name": "python3"
  },
  "language_info": {
   "codemirror_mode": {
    "name": "ipython",
    "version": 3
   },
   "file_extension": ".py",
   "mimetype": "text/x-python",
   "name": "python",
   "nbconvert_exporter": "python",
   "pygments_lexer": "ipython3",
   "version": "3.4.3"
  }
 },
 "nbformat": 4,
 "nbformat_minor": 0
}
