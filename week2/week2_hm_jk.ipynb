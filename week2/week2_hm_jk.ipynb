{
 "cells": [
  {
   "cell_type": "markdown",
   "metadata": {},
   "source": [
    "# Homework week  2"
   ]
  },
  {
   "cell_type": "code",
   "execution_count": 1,
   "metadata": {
    "collapsed": true
   },
   "outputs": [],
   "source": [
    "import pandas as pd\n",
    "\n",
    "import numpy as np\n",
    "\n",
    "from sklearn.cross_validation import train_test_split\n",
    "from sklearn.feature_extraction.text import CountVectorizer\n",
    "from sklearn.naive_bayes import MultinomialNB\n",
    "from sklearn.linear_model import LogisticRegression\n",
    "from sklearn.metrics import  roc_auc_score"
   ]
  },
  {
   "cell_type": "markdown",
   "metadata": {},
   "source": [
    "## Task 1"
   ]
  },
  {
   "cell_type": "code",
   "execution_count": 2,
   "metadata": {
    "collapsed": true
   },
   "outputs": [],
   "source": [
    "data = pd.read_csv('./mcdonalds.csv')"
   ]
  },
  {
   "cell_type": "code",
   "execution_count": 3,
   "metadata": {
    "collapsed": false
   },
   "outputs": [
    {
     "data": {
      "text/html": [
       "<div>\n",
       "<table border=\"1\" class=\"dataframe\">\n",
       "  <thead>\n",
       "    <tr style=\"text-align: right;\">\n",
       "      <th></th>\n",
       "      <th>_unit_id</th>\n",
       "      <th>_golden</th>\n",
       "      <th>_unit_state</th>\n",
       "      <th>_trusted_judgments</th>\n",
       "      <th>_last_judgment_at</th>\n",
       "      <th>policies_violated</th>\n",
       "      <th>policies_violated:confidence</th>\n",
       "      <th>city</th>\n",
       "      <th>policies_violated_gold</th>\n",
       "      <th>review</th>\n",
       "      <th>Unnamed: 10</th>\n",
       "    </tr>\n",
       "  </thead>\n",
       "  <tbody>\n",
       "    <tr>\n",
       "      <th>0</th>\n",
       "      <td>679455653</td>\n",
       "      <td>False</td>\n",
       "      <td>finalized</td>\n",
       "      <td>3</td>\n",
       "      <td>2/21/15 0:36</td>\n",
       "      <td>RudeService\\nOrderProblem\\nFilthy</td>\n",
       "      <td>1.0\\n0.6667\\n0.6667</td>\n",
       "      <td>Atlanta</td>\n",
       "      <td>NaN</td>\n",
       "      <td>I'm not a huge mcds lover, but I've been to be...</td>\n",
       "      <td>NaN</td>\n",
       "    </tr>\n",
       "    <tr>\n",
       "      <th>1</th>\n",
       "      <td>679455654</td>\n",
       "      <td>False</td>\n",
       "      <td>finalized</td>\n",
       "      <td>3</td>\n",
       "      <td>2/21/15 0:27</td>\n",
       "      <td>RudeService</td>\n",
       "      <td>1</td>\n",
       "      <td>Atlanta</td>\n",
       "      <td>NaN</td>\n",
       "      <td>Terrible customer service. ŒæI came in at 9:30...</td>\n",
       "      <td>NaN</td>\n",
       "    </tr>\n",
       "    <tr>\n",
       "      <th>2</th>\n",
       "      <td>679455655</td>\n",
       "      <td>False</td>\n",
       "      <td>finalized</td>\n",
       "      <td>3</td>\n",
       "      <td>2/21/15 0:26</td>\n",
       "      <td>SlowService\\nOrderProblem</td>\n",
       "      <td>1.0\\n1.0</td>\n",
       "      <td>Atlanta</td>\n",
       "      <td>NaN</td>\n",
       "      <td>First they \"lost\" my order, actually they gave...</td>\n",
       "      <td>NaN</td>\n",
       "    </tr>\n",
       "    <tr>\n",
       "      <th>3</th>\n",
       "      <td>679455656</td>\n",
       "      <td>False</td>\n",
       "      <td>finalized</td>\n",
       "      <td>3</td>\n",
       "      <td>2/21/15 0:27</td>\n",
       "      <td>na</td>\n",
       "      <td>0.6667</td>\n",
       "      <td>Atlanta</td>\n",
       "      <td>NaN</td>\n",
       "      <td>I see I'm not the only one giving 1 star. Only...</td>\n",
       "      <td>NaN</td>\n",
       "    </tr>\n",
       "    <tr>\n",
       "      <th>4</th>\n",
       "      <td>679455657</td>\n",
       "      <td>False</td>\n",
       "      <td>finalized</td>\n",
       "      <td>3</td>\n",
       "      <td>2/21/15 0:27</td>\n",
       "      <td>RudeService</td>\n",
       "      <td>1</td>\n",
       "      <td>Atlanta</td>\n",
       "      <td>NaN</td>\n",
       "      <td>Well, it's McDonald's, so you know what the fo...</td>\n",
       "      <td>NaN</td>\n",
       "    </tr>\n",
       "  </tbody>\n",
       "</table>\n",
       "</div>"
      ],
      "text/plain": [
       "    _unit_id _golden _unit_state  _trusted_judgments _last_judgment_at  \\\n",
       "0  679455653   False   finalized                   3      2/21/15 0:36   \n",
       "1  679455654   False   finalized                   3      2/21/15 0:27   \n",
       "2  679455655   False   finalized                   3      2/21/15 0:26   \n",
       "3  679455656   False   finalized                   3      2/21/15 0:27   \n",
       "4  679455657   False   finalized                   3      2/21/15 0:27   \n",
       "\n",
       "                   policies_violated policies_violated:confidence     city  \\\n",
       "0  RudeService\\nOrderProblem\\nFilthy          1.0\\n0.6667\\n0.6667  Atlanta   \n",
       "1                        RudeService                            1  Atlanta   \n",
       "2          SlowService\\nOrderProblem                     1.0\\n1.0  Atlanta   \n",
       "3                                 na                       0.6667  Atlanta   \n",
       "4                        RudeService                            1  Atlanta   \n",
       "\n",
       "   policies_violated_gold                                             review  \\\n",
       "0                     NaN  I'm not a huge mcds lover, but I've been to be...   \n",
       "1                     NaN  Terrible customer service. ŒæI came in at 9:30...   \n",
       "2                     NaN  First they \"lost\" my order, actually they gave...   \n",
       "3                     NaN  I see I'm not the only one giving 1 star. Only...   \n",
       "4                     NaN  Well, it's McDonald's, so you know what the fo...   \n",
       "\n",
       "   Unnamed: 10  \n",
       "0          NaN  \n",
       "1          NaN  \n",
       "2          NaN  \n",
       "3          NaN  \n",
       "4          NaN  "
      ]
     },
     "execution_count": 3,
     "metadata": {},
     "output_type": "execute_result"
    }
   ],
   "source": [
    "data.head()"
   ]
  },
  {
   "cell_type": "code",
   "execution_count": 4,
   "metadata": {
    "collapsed": false
   },
   "outputs": [
    {
     "data": {
      "text/plain": [
       "(1525, 11)"
      ]
     },
     "execution_count": 4,
     "metadata": {},
     "output_type": "execute_result"
    }
   ],
   "source": [
    "data.shape"
   ]
  },
  {
   "cell_type": "markdown",
   "metadata": {},
   "source": [
    "## Task 2"
   ]
  },
  {
   "cell_type": "code",
   "execution_count": 5,
   "metadata": {
    "collapsed": false
   },
   "outputs": [],
   "source": [
    "data_reduced = data[pd.notnull(data['policies_violated'])]"
   ]
  },
  {
   "cell_type": "code",
   "execution_count": 6,
   "metadata": {
    "collapsed": false
   },
   "outputs": [
    {
     "data": {
      "text/plain": [
       "(1471, 11)"
      ]
     },
     "execution_count": 6,
     "metadata": {},
     "output_type": "execute_result"
    }
   ],
   "source": [
    "data_reduced.shape"
   ]
  },
  {
   "cell_type": "code",
   "execution_count": 7,
   "metadata": {
    "collapsed": false
   },
   "outputs": [
    {
     "data": {
      "text/html": [
       "<div>\n",
       "<table border=\"1\" class=\"dataframe\">\n",
       "  <thead>\n",
       "    <tr style=\"text-align: right;\">\n",
       "      <th></th>\n",
       "      <th>_unit_id</th>\n",
       "      <th>_golden</th>\n",
       "      <th>_unit_state</th>\n",
       "      <th>_trusted_judgments</th>\n",
       "      <th>_last_judgment_at</th>\n",
       "      <th>policies_violated</th>\n",
       "      <th>policies_violated:confidence</th>\n",
       "      <th>city</th>\n",
       "      <th>policies_violated_gold</th>\n",
       "      <th>review</th>\n",
       "      <th>Unnamed: 10</th>\n",
       "    </tr>\n",
       "  </thead>\n",
       "  <tbody>\n",
       "    <tr>\n",
       "      <th>0</th>\n",
       "      <td>679455653</td>\n",
       "      <td>False</td>\n",
       "      <td>finalized</td>\n",
       "      <td>3</td>\n",
       "      <td>2/21/15 0:36</td>\n",
       "      <td>RudeService\\nOrderProblem\\nFilthy</td>\n",
       "      <td>1.0\\n0.6667\\n0.6667</td>\n",
       "      <td>Atlanta</td>\n",
       "      <td>NaN</td>\n",
       "      <td>I'm not a huge mcds lover, but I've been to be...</td>\n",
       "      <td>NaN</td>\n",
       "    </tr>\n",
       "    <tr>\n",
       "      <th>1</th>\n",
       "      <td>679455654</td>\n",
       "      <td>False</td>\n",
       "      <td>finalized</td>\n",
       "      <td>3</td>\n",
       "      <td>2/21/15 0:27</td>\n",
       "      <td>RudeService</td>\n",
       "      <td>1</td>\n",
       "      <td>Atlanta</td>\n",
       "      <td>NaN</td>\n",
       "      <td>Terrible customer service. ŒæI came in at 9:30...</td>\n",
       "      <td>NaN</td>\n",
       "    </tr>\n",
       "    <tr>\n",
       "      <th>2</th>\n",
       "      <td>679455655</td>\n",
       "      <td>False</td>\n",
       "      <td>finalized</td>\n",
       "      <td>3</td>\n",
       "      <td>2/21/15 0:26</td>\n",
       "      <td>SlowService\\nOrderProblem</td>\n",
       "      <td>1.0\\n1.0</td>\n",
       "      <td>Atlanta</td>\n",
       "      <td>NaN</td>\n",
       "      <td>First they \"lost\" my order, actually they gave...</td>\n",
       "      <td>NaN</td>\n",
       "    </tr>\n",
       "    <tr>\n",
       "      <th>3</th>\n",
       "      <td>679455656</td>\n",
       "      <td>False</td>\n",
       "      <td>finalized</td>\n",
       "      <td>3</td>\n",
       "      <td>2/21/15 0:27</td>\n",
       "      <td>na</td>\n",
       "      <td>0.6667</td>\n",
       "      <td>Atlanta</td>\n",
       "      <td>NaN</td>\n",
       "      <td>I see I'm not the only one giving 1 star. Only...</td>\n",
       "      <td>NaN</td>\n",
       "    </tr>\n",
       "    <tr>\n",
       "      <th>4</th>\n",
       "      <td>679455657</td>\n",
       "      <td>False</td>\n",
       "      <td>finalized</td>\n",
       "      <td>3</td>\n",
       "      <td>2/21/15 0:27</td>\n",
       "      <td>RudeService</td>\n",
       "      <td>1</td>\n",
       "      <td>Atlanta</td>\n",
       "      <td>NaN</td>\n",
       "      <td>Well, it's McDonald's, so you know what the fo...</td>\n",
       "      <td>NaN</td>\n",
       "    </tr>\n",
       "  </tbody>\n",
       "</table>\n",
       "</div>"
      ],
      "text/plain": [
       "    _unit_id _golden _unit_state  _trusted_judgments _last_judgment_at  \\\n",
       "0  679455653   False   finalized                   3      2/21/15 0:36   \n",
       "1  679455654   False   finalized                   3      2/21/15 0:27   \n",
       "2  679455655   False   finalized                   3      2/21/15 0:26   \n",
       "3  679455656   False   finalized                   3      2/21/15 0:27   \n",
       "4  679455657   False   finalized                   3      2/21/15 0:27   \n",
       "\n",
       "                   policies_violated policies_violated:confidence     city  \\\n",
       "0  RudeService\\nOrderProblem\\nFilthy          1.0\\n0.6667\\n0.6667  Atlanta   \n",
       "1                        RudeService                            1  Atlanta   \n",
       "2          SlowService\\nOrderProblem                     1.0\\n1.0  Atlanta   \n",
       "3                                 na                       0.6667  Atlanta   \n",
       "4                        RudeService                            1  Atlanta   \n",
       "\n",
       "   policies_violated_gold                                             review  \\\n",
       "0                     NaN  I'm not a huge mcds lover, but I've been to be...   \n",
       "1                     NaN  Terrible customer service. ŒæI came in at 9:30...   \n",
       "2                     NaN  First they \"lost\" my order, actually they gave...   \n",
       "3                     NaN  I see I'm not the only one giving 1 star. Only...   \n",
       "4                     NaN  Well, it's McDonald's, so you know what the fo...   \n",
       "\n",
       "   Unnamed: 10  \n",
       "0          NaN  \n",
       "1          NaN  \n",
       "2          NaN  \n",
       "3          NaN  \n",
       "4          NaN  "
      ]
     },
     "execution_count": 7,
     "metadata": {},
     "output_type": "execute_result"
    }
   ],
   "source": [
    "data_reduced.head()"
   ]
  },
  {
   "cell_type": "markdown",
   "metadata": {},
   "source": [
    "## Task 3"
   ]
  },
  {
   "cell_type": "code",
   "execution_count": 8,
   "metadata": {
    "collapsed": false
   },
   "outputs": [
    {
     "name": "stderr",
     "output_type": "stream",
     "text": [
      "/home/climbus/anaconda3/lib/python3.4/site-packages/ipykernel/__main__.py:1: SettingWithCopyWarning: \n",
      "A value is trying to be set on a copy of a slice from a DataFrame.\n",
      "Try using .loc[row_indexer,col_indexer] = value instead\n",
      "\n",
      "See the the caveats in the documentation: http://pandas.pydata.org/pandas-docs/stable/indexing.html#indexing-view-versus-copy\n",
      "  if __name__ == '__main__':\n"
     ]
    }
   ],
   "source": [
    "data_reduced[\"rude\"] = data_reduced[\"policies_violated\"].str.contains(\"RudeService\").apply(lambda i: int(i))"
   ]
  },
  {
   "cell_type": "code",
   "execution_count": 9,
   "metadata": {
    "collapsed": false
   },
   "outputs": [
    {
     "data": {
      "text/html": [
       "<div>\n",
       "<table border=\"1\" class=\"dataframe\">\n",
       "  <thead>\n",
       "    <tr style=\"text-align: right;\">\n",
       "      <th></th>\n",
       "      <th>_unit_id</th>\n",
       "      <th>_golden</th>\n",
       "      <th>_unit_state</th>\n",
       "      <th>_trusted_judgments</th>\n",
       "      <th>_last_judgment_at</th>\n",
       "      <th>policies_violated</th>\n",
       "      <th>policies_violated:confidence</th>\n",
       "      <th>city</th>\n",
       "      <th>policies_violated_gold</th>\n",
       "      <th>review</th>\n",
       "      <th>Unnamed: 10</th>\n",
       "      <th>rude</th>\n",
       "    </tr>\n",
       "  </thead>\n",
       "  <tbody>\n",
       "    <tr>\n",
       "      <th>0</th>\n",
       "      <td>679455653</td>\n",
       "      <td>False</td>\n",
       "      <td>finalized</td>\n",
       "      <td>3</td>\n",
       "      <td>2/21/15 0:36</td>\n",
       "      <td>RudeService\\nOrderProblem\\nFilthy</td>\n",
       "      <td>1.0\\n0.6667\\n0.6667</td>\n",
       "      <td>Atlanta</td>\n",
       "      <td>NaN</td>\n",
       "      <td>I'm not a huge mcds lover, but I've been to be...</td>\n",
       "      <td>NaN</td>\n",
       "      <td>1</td>\n",
       "    </tr>\n",
       "    <tr>\n",
       "      <th>1</th>\n",
       "      <td>679455654</td>\n",
       "      <td>False</td>\n",
       "      <td>finalized</td>\n",
       "      <td>3</td>\n",
       "      <td>2/21/15 0:27</td>\n",
       "      <td>RudeService</td>\n",
       "      <td>1</td>\n",
       "      <td>Atlanta</td>\n",
       "      <td>NaN</td>\n",
       "      <td>Terrible customer service. ŒæI came in at 9:30...</td>\n",
       "      <td>NaN</td>\n",
       "      <td>1</td>\n",
       "    </tr>\n",
       "    <tr>\n",
       "      <th>2</th>\n",
       "      <td>679455655</td>\n",
       "      <td>False</td>\n",
       "      <td>finalized</td>\n",
       "      <td>3</td>\n",
       "      <td>2/21/15 0:26</td>\n",
       "      <td>SlowService\\nOrderProblem</td>\n",
       "      <td>1.0\\n1.0</td>\n",
       "      <td>Atlanta</td>\n",
       "      <td>NaN</td>\n",
       "      <td>First they \"lost\" my order, actually they gave...</td>\n",
       "      <td>NaN</td>\n",
       "      <td>0</td>\n",
       "    </tr>\n",
       "    <tr>\n",
       "      <th>3</th>\n",
       "      <td>679455656</td>\n",
       "      <td>False</td>\n",
       "      <td>finalized</td>\n",
       "      <td>3</td>\n",
       "      <td>2/21/15 0:27</td>\n",
       "      <td>na</td>\n",
       "      <td>0.6667</td>\n",
       "      <td>Atlanta</td>\n",
       "      <td>NaN</td>\n",
       "      <td>I see I'm not the only one giving 1 star. Only...</td>\n",
       "      <td>NaN</td>\n",
       "      <td>0</td>\n",
       "    </tr>\n",
       "    <tr>\n",
       "      <th>4</th>\n",
       "      <td>679455657</td>\n",
       "      <td>False</td>\n",
       "      <td>finalized</td>\n",
       "      <td>3</td>\n",
       "      <td>2/21/15 0:27</td>\n",
       "      <td>RudeService</td>\n",
       "      <td>1</td>\n",
       "      <td>Atlanta</td>\n",
       "      <td>NaN</td>\n",
       "      <td>Well, it's McDonald's, so you know what the fo...</td>\n",
       "      <td>NaN</td>\n",
       "      <td>1</td>\n",
       "    </tr>\n",
       "  </tbody>\n",
       "</table>\n",
       "</div>"
      ],
      "text/plain": [
       "    _unit_id _golden _unit_state  _trusted_judgments _last_judgment_at  \\\n",
       "0  679455653   False   finalized                   3      2/21/15 0:36   \n",
       "1  679455654   False   finalized                   3      2/21/15 0:27   \n",
       "2  679455655   False   finalized                   3      2/21/15 0:26   \n",
       "3  679455656   False   finalized                   3      2/21/15 0:27   \n",
       "4  679455657   False   finalized                   3      2/21/15 0:27   \n",
       "\n",
       "                   policies_violated policies_violated:confidence     city  \\\n",
       "0  RudeService\\nOrderProblem\\nFilthy          1.0\\n0.6667\\n0.6667  Atlanta   \n",
       "1                        RudeService                            1  Atlanta   \n",
       "2          SlowService\\nOrderProblem                     1.0\\n1.0  Atlanta   \n",
       "3                                 na                       0.6667  Atlanta   \n",
       "4                        RudeService                            1  Atlanta   \n",
       "\n",
       "   policies_violated_gold                                             review  \\\n",
       "0                     NaN  I'm not a huge mcds lover, but I've been to be...   \n",
       "1                     NaN  Terrible customer service. ŒæI came in at 9:30...   \n",
       "2                     NaN  First they \"lost\" my order, actually they gave...   \n",
       "3                     NaN  I see I'm not the only one giving 1 star. Only...   \n",
       "4                     NaN  Well, it's McDonald's, so you know what the fo...   \n",
       "\n",
       "   Unnamed: 10  rude  \n",
       "0          NaN     1  \n",
       "1          NaN     1  \n",
       "2          NaN     0  \n",
       "3          NaN     0  \n",
       "4          NaN     1  "
      ]
     },
     "execution_count": 9,
     "metadata": {},
     "output_type": "execute_result"
    }
   ],
   "source": [
    "data_reduced.head()"
   ]
  },
  {
   "cell_type": "markdown",
   "metadata": {},
   "source": [
    "## Task 4"
   ]
  },
  {
   "cell_type": "code",
   "execution_count": 10,
   "metadata": {
    "collapsed": true
   },
   "outputs": [],
   "source": [
    "X = data_reduced['review']\n",
    "y = data_reduced['rude']"
   ]
  },
  {
   "cell_type": "code",
   "execution_count": 11,
   "metadata": {
    "collapsed": true
   },
   "outputs": [],
   "source": [
    "X_train, X_test, y_train, y_test = train_test_split(X, y, random_state=1)"
   ]
  },
  {
   "cell_type": "code",
   "execution_count": 12,
   "metadata": {
    "collapsed": true
   },
   "outputs": [],
   "source": [
    "cv = CountVectorizer()"
   ]
  },
  {
   "cell_type": "code",
   "execution_count": 13,
   "metadata": {
    "collapsed": true
   },
   "outputs": [],
   "source": [
    "X_train_dtm = cv.fit_transform(X_train)"
   ]
  },
  {
   "cell_type": "code",
   "execution_count": 14,
   "metadata": {
    "collapsed": false
   },
   "outputs": [],
   "source": [
    "X_test_dtm = cv.transform(X_test)"
   ]
  },
  {
   "cell_type": "code",
   "execution_count": 15,
   "metadata": {
    "collapsed": false
   },
   "outputs": [
    {
     "name": "stdout",
     "output_type": "stream",
     "text": [
      "7300\n"
     ]
    }
   ],
   "source": [
    "print(X_train_dtm.shape[1])"
   ]
  },
  {
   "cell_type": "markdown",
   "metadata": {},
   "source": [
    "## Task 5"
   ]
  },
  {
   "cell_type": "code",
   "execution_count": 16,
   "metadata": {
    "collapsed": true
   },
   "outputs": [],
   "source": [
    "nb = MultinomialNB()"
   ]
  },
  {
   "cell_type": "code",
   "execution_count": 17,
   "metadata": {
    "collapsed": false
   },
   "outputs": [
    {
     "data": {
      "text/plain": [
       "MultinomialNB(alpha=1.0, class_prior=None, fit_prior=True)"
      ]
     },
     "execution_count": 17,
     "metadata": {},
     "output_type": "execute_result"
    }
   ],
   "source": [
    "nb.fit(X_train_dtm, y_train)"
   ]
  },
  {
   "cell_type": "code",
   "execution_count": 18,
   "metadata": {
    "collapsed": false
   },
   "outputs": [],
   "source": [
    "pred_proba = nb.predict_proba(X_test_dtm)[:, 1]"
   ]
  },
  {
   "cell_type": "code",
   "execution_count": 19,
   "metadata": {
    "collapsed": false
   },
   "outputs": [
    {
     "data": {
      "text/plain": [
       "0.84196471149260832"
      ]
     },
     "execution_count": 19,
     "metadata": {},
     "output_type": "execute_result"
    }
   ],
   "source": [
    "roc_auc_score(y_test, pred_proba)"
   ]
  },
  {
   "cell_type": "code",
   "execution_count": 20,
   "metadata": {
    "collapsed": true
   },
   "outputs": [],
   "source": [
    "logreg = LogisticRegression()"
   ]
  },
  {
   "cell_type": "code",
   "execution_count": 21,
   "metadata": {
    "collapsed": false
   },
   "outputs": [
    {
     "data": {
      "text/plain": [
       "LogisticRegression(C=1.0, class_weight=None, dual=False, fit_intercept=True,\n",
       "          intercept_scaling=1, max_iter=100, multi_class='ovr',\n",
       "          penalty='l2', random_state=None, solver='liblinear', tol=0.0001,\n",
       "          verbose=0)"
      ]
     },
     "execution_count": 21,
     "metadata": {},
     "output_type": "execute_result"
    }
   ],
   "source": [
    "logreg.fit(X_train_dtm, y_train)"
   ]
  },
  {
   "cell_type": "code",
   "execution_count": 22,
   "metadata": {
    "collapsed": true
   },
   "outputs": [],
   "source": [
    "pred_proba_lr = logreg.predict_proba(X_test_dtm)[:, 1]"
   ]
  },
  {
   "cell_type": "code",
   "execution_count": 23,
   "metadata": {
    "collapsed": false
   },
   "outputs": [
    {
     "data": {
      "text/plain": [
       "0.8233985058019393"
      ]
     },
     "execution_count": 23,
     "metadata": {},
     "output_type": "execute_result"
    }
   ],
   "source": [
    "roc_auc_score(y_test, pred_proba_lr)"
   ]
  },
  {
   "cell_type": "markdown",
   "metadata": {},
   "source": [
    "NB is better"
   ]
  },
  {
   "cell_type": "markdown",
   "metadata": {},
   "source": [
    "## Task 6"
   ]
  },
  {
   "cell_type": "code",
   "execution_count": 24,
   "metadata": {
    "collapsed": false
   },
   "outputs": [],
   "source": [
    "def tokenize_test(vect):\n",
    "    \n",
    "    X_train_dtm = vect.fit_transform(X_train)\n",
    "    X_test_dtm = vect.transform(X_test)\n",
    "    \n",
    "    print(X_train_dtm.shape[1])\n",
    "    \n",
    "    nb = MultinomialNB()\n",
    "    nb.fit(X_train_dtm, y_train)\n",
    "\n",
    "    y_pred_proba = nb.predict_proba(X_test_dtm)[:,1]\n",
    "    \n",
    "    print(\"AUC: \", roc_auc_score(y_test, y_pred_proba))\n",
    "    "
   ]
  },
  {
   "cell_type": "code",
   "execution_count": 25,
   "metadata": {
    "collapsed": false
   },
   "outputs": [
    {
     "name": "stdout",
     "output_type": "stream",
     "text": [
      "57936\n",
      "AUC:  0.818375457002\n"
     ]
    }
   ],
   "source": [
    "tokenize_test(CountVectorizer(ngram_range=(1, 2)))"
   ]
  },
  {
   "cell_type": "code",
   "execution_count": 26,
   "metadata": {
    "collapsed": false
   },
   "outputs": [
    {
     "name": "stdout",
     "output_type": "stream",
     "text": [
      "57927\n",
      "AUC:  0.824876808139\n"
     ]
    }
   ],
   "source": [
    "tokenize_test(CountVectorizer(ngram_range=(1, 2), max_df=0.5))"
   ]
  },
  {
   "cell_type": "code",
   "execution_count": 27,
   "metadata": {
    "collapsed": false
   },
   "outputs": [
    {
     "name": "stdout",
     "output_type": "stream",
     "text": [
      "57934\n",
      "AUC:  0.820378318232\n"
     ]
    }
   ],
   "source": [
    "tokenize_test(CountVectorizer(ngram_range=(1, 2), max_df=0.8))"
   ]
  },
  {
   "cell_type": "code",
   "execution_count": 28,
   "metadata": {
    "collapsed": false
   },
   "outputs": [
    {
     "name": "stdout",
     "output_type": "stream",
     "text": [
      "7298\n",
      "AUC:  0.841996502941\n"
     ]
    }
   ],
   "source": [
    "tokenize_test(CountVectorizer(max_df=0.8))"
   ]
  },
  {
   "cell_type": "code",
   "execution_count": 29,
   "metadata": {
    "collapsed": false
   },
   "outputs": [
    {
     "name": "stdout",
     "output_type": "stream",
     "text": [
      "7291\n",
      "AUC:  0.844794150374\n"
     ]
    }
   ],
   "source": [
    "tokenize_test(CountVectorizer(max_df=0.5))"
   ]
  },
  {
   "cell_type": "code",
   "execution_count": 30,
   "metadata": {
    "collapsed": false
   },
   "outputs": [
    {
     "name": "stdout",
     "output_type": "stream",
     "text": [
      "3498\n",
      "AUC:  0.84419011286\n"
     ]
    }
   ],
   "source": [
    "tokenize_test(CountVectorizer(max_df=0.8, min_df=2))"
   ]
  },
  {
   "cell_type": "code",
   "execution_count": 31,
   "metadata": {
    "collapsed": false
   },
   "outputs": [
    {
     "name": "stdout",
     "output_type": "stream",
     "text": [
      "8742\n",
      "AUC:  0.840375139088\n"
     ]
    }
   ],
   "source": [
    "tokenize_test(CountVectorizer(lowercase=False))"
   ]
  },
  {
   "cell_type": "code",
   "execution_count": 32,
   "metadata": {
    "collapsed": false
   },
   "outputs": [
    {
     "name": "stdout",
     "output_type": "stream",
     "text": [
      "7127\n",
      "AUC:  0.849833094897\n"
     ]
    }
   ],
   "source": [
    "tokenize_test(CountVectorizer(token_pattern='(?u)\\\\b\\\\w\\\\w\\\\w+\\\\b'))"
   ]
  },
  {
   "cell_type": "code",
   "execution_count": 33,
   "metadata": {
    "collapsed": false
   },
   "outputs": [
    {
     "name": "stdout",
     "output_type": "stream",
     "text": [
      "7123\n",
      "AUC:  0.850230487999\n"
     ]
    }
   ],
   "source": [
    "tokenize_test(CountVectorizer(token_pattern='(?u)\\\\b\\\\w\\\\w\\\\w+\\\\b', max_df=0.5))"
   ]
  },
  {
   "cell_type": "markdown",
   "metadata": {},
   "source": [
    "**This is best"
   ]
  },
  {
   "cell_type": "markdown",
   "metadata": {},
   "source": [
    "## Task 7"
   ]
  },
  {
   "cell_type": "code",
   "execution_count": 34,
   "metadata": {
    "collapsed": false
   },
   "outputs": [
    {
     "name": "stderr",
     "output_type": "stream",
     "text": [
      "/home/climbus/anaconda3/lib/python3.4/site-packages/ipykernel/__main__.py:1: SettingWithCopyWarning: \n",
      "A value is trying to be set on a copy of a slice from a DataFrame.\n",
      "Try using .loc[row_indexer,col_indexer] = value instead\n",
      "\n",
      "See the the caveats in the documentation: http://pandas.pydata.org/pandas-docs/stable/indexing.html#indexing-view-versus-copy\n",
      "  if __name__ == '__main__':\n"
     ]
    }
   ],
   "source": [
    "data_reduced[\"review_city\"] = data_reduced[\"review\"].str.cat(data_reduced[\"city\"], sep=\" \", na_rep=\"na\")"
   ]
  },
  {
   "cell_type": "code",
   "execution_count": 35,
   "metadata": {
    "collapsed": false
   },
   "outputs": [],
   "source": [
    "X = data_reduced[\"review_city\"]\n",
    "y = data_reduced[\"rude\"]"
   ]
  },
  {
   "cell_type": "code",
   "execution_count": 36,
   "metadata": {
    "collapsed": true
   },
   "outputs": [],
   "source": [
    "X_train, X_test, y_train, y_test = train_test_split(X, y, random_state=1)"
   ]
  },
  {
   "cell_type": "code",
   "execution_count": 37,
   "metadata": {
    "collapsed": false
   },
   "outputs": [
    {
     "name": "stdout",
     "output_type": "stream",
     "text": [
      "7125\n",
      "AUC:  0.850389445239\n"
     ]
    }
   ],
   "source": [
    "tokenize_test(CountVectorizer(token_pattern='(?u)\\\\b\\\\w\\\\w\\\\w+\\\\b', max_df=0.5))"
   ]
  },
  {
   "cell_type": "code",
   "execution_count": 38,
   "metadata": {
    "collapsed": false
   },
   "outputs": [
    {
     "name": "stdout",
     "output_type": "stream",
     "text": [
      "7303\n",
      "AUC:  0.842568749007\n"
     ]
    }
   ],
   "source": [
    "tokenize_test(CountVectorizer())"
   ]
  },
  {
   "cell_type": "markdown",
   "metadata": {},
   "source": [
    "**I don't see any AUC significant change**"
   ]
  },
  {
   "cell_type": "markdown",
   "metadata": {},
   "source": [
    "## Task 8"
   ]
  },
  {
   "cell_type": "code",
   "execution_count": 39,
   "metadata": {
    "collapsed": false
   },
   "outputs": [
    {
     "name": "stderr",
     "output_type": "stream",
     "text": [
      "/home/climbus/anaconda3/lib/python3.4/site-packages/ipykernel/__main__.py:1: SettingWithCopyWarning: \n",
      "A value is trying to be set on a copy of a slice from a DataFrame.\n",
      "Try using .loc[row_indexer,col_indexer] = value instead\n",
      "\n",
      "See the the caveats in the documentation: http://pandas.pydata.org/pandas-docs/stable/indexing.html#indexing-view-versus-copy\n",
      "  if __name__ == '__main__':\n"
     ]
    }
   ],
   "source": [
    "data_reduced[\"confidence_list\"] = data_reduced[\"policies_violated:confidence\"].str.split(\"\\n\")"
   ]
  },
  {
   "cell_type": "code",
   "execution_count": 40,
   "metadata": {
    "collapsed": true
   },
   "outputs": [],
   "source": [
    "def calc_mean(vals):\n",
    "    print(vals)"
   ]
  },
  {
   "cell_type": "code",
   "execution_count": 41,
   "metadata": {
    "collapsed": false
   },
   "outputs": [
    {
     "name": "stderr",
     "output_type": "stream",
     "text": [
      "/home/climbus/anaconda3/lib/python3.4/site-packages/ipykernel/__main__.py:1: SettingWithCopyWarning: \n",
      "A value is trying to be set on a copy of a slice from a DataFrame.\n",
      "Try using .loc[row_indexer,col_indexer] = value instead\n",
      "\n",
      "See the the caveats in the documentation: http://pandas.pydata.org/pandas-docs/stable/indexing.html#indexing-view-versus-copy\n",
      "  if __name__ == '__main__':\n"
     ]
    }
   ],
   "source": [
    "data_reduced[\"confidence_mean\"] = data_reduced[\"confidence_list\"].apply(lambda vals: np.mean([float(val) for val in vals]))"
   ]
  },
  {
   "cell_type": "code",
   "execution_count": 42,
   "metadata": {
    "collapsed": true
   },
   "outputs": [],
   "source": [
    "data_with_confidence = data_reduced[data_reduced[\"confidence_mean\"] == 1]"
   ]
  },
  {
   "cell_type": "code",
   "execution_count": 43,
   "metadata": {
    "collapsed": false
   },
   "outputs": [
    {
     "data": {
      "text/plain": [
       "(785, 15)"
      ]
     },
     "execution_count": 43,
     "metadata": {},
     "output_type": "execute_result"
    }
   ],
   "source": [
    "data_with_confidence.shape"
   ]
  },
  {
   "cell_type": "code",
   "execution_count": 44,
   "metadata": {
    "collapsed": false
   },
   "outputs": [
    {
     "data": {
      "text/html": [
       "<div>\n",
       "<table border=\"1\" class=\"dataframe\">\n",
       "  <thead>\n",
       "    <tr style=\"text-align: right;\">\n",
       "      <th></th>\n",
       "      <th>_unit_id</th>\n",
       "      <th>_golden</th>\n",
       "      <th>_unit_state</th>\n",
       "      <th>_trusted_judgments</th>\n",
       "      <th>_last_judgment_at</th>\n",
       "      <th>policies_violated</th>\n",
       "      <th>policies_violated:confidence</th>\n",
       "      <th>city</th>\n",
       "      <th>policies_violated_gold</th>\n",
       "      <th>review</th>\n",
       "      <th>Unnamed: 10</th>\n",
       "      <th>rude</th>\n",
       "      <th>review_city</th>\n",
       "      <th>confidence_list</th>\n",
       "      <th>confidence_mean</th>\n",
       "    </tr>\n",
       "  </thead>\n",
       "  <tbody>\n",
       "    <tr>\n",
       "      <th>1</th>\n",
       "      <td>679455654</td>\n",
       "      <td>False</td>\n",
       "      <td>finalized</td>\n",
       "      <td>3</td>\n",
       "      <td>2/21/15 0:27</td>\n",
       "      <td>RudeService</td>\n",
       "      <td>1</td>\n",
       "      <td>Atlanta</td>\n",
       "      <td>NaN</td>\n",
       "      <td>Terrible customer service. ŒæI came in at 9:30...</td>\n",
       "      <td>NaN</td>\n",
       "      <td>1</td>\n",
       "      <td>Terrible customer service. ŒæI came in at 9:30...</td>\n",
       "      <td>[1]</td>\n",
       "      <td>1</td>\n",
       "    </tr>\n",
       "    <tr>\n",
       "      <th>2</th>\n",
       "      <td>679455655</td>\n",
       "      <td>False</td>\n",
       "      <td>finalized</td>\n",
       "      <td>3</td>\n",
       "      <td>2/21/15 0:26</td>\n",
       "      <td>SlowService\\nOrderProblem</td>\n",
       "      <td>1.0\\n1.0</td>\n",
       "      <td>Atlanta</td>\n",
       "      <td>NaN</td>\n",
       "      <td>First they \"lost\" my order, actually they gave...</td>\n",
       "      <td>NaN</td>\n",
       "      <td>0</td>\n",
       "      <td>First they \"lost\" my order, actually they gave...</td>\n",
       "      <td>[1.0, 1.0]</td>\n",
       "      <td>1</td>\n",
       "    </tr>\n",
       "    <tr>\n",
       "      <th>4</th>\n",
       "      <td>679455657</td>\n",
       "      <td>False</td>\n",
       "      <td>finalized</td>\n",
       "      <td>3</td>\n",
       "      <td>2/21/15 0:27</td>\n",
       "      <td>RudeService</td>\n",
       "      <td>1</td>\n",
       "      <td>Atlanta</td>\n",
       "      <td>NaN</td>\n",
       "      <td>Well, it's McDonald's, so you know what the fo...</td>\n",
       "      <td>NaN</td>\n",
       "      <td>1</td>\n",
       "      <td>Well, it's McDonald's, so you know what the fo...</td>\n",
       "      <td>[1]</td>\n",
       "      <td>1</td>\n",
       "    </tr>\n",
       "    <tr>\n",
       "      <th>9</th>\n",
       "      <td>679455662</td>\n",
       "      <td>False</td>\n",
       "      <td>finalized</td>\n",
       "      <td>3</td>\n",
       "      <td>2/21/15 0:12</td>\n",
       "      <td>na</td>\n",
       "      <td>1</td>\n",
       "      <td>Atlanta</td>\n",
       "      <td>NaN</td>\n",
       "      <td>This McDonald's has gotten much better. Usuall...</td>\n",
       "      <td>NaN</td>\n",
       "      <td>0</td>\n",
       "      <td>This McDonald's has gotten much better. Usuall...</td>\n",
       "      <td>[1]</td>\n",
       "      <td>1</td>\n",
       "    </tr>\n",
       "    <tr>\n",
       "      <th>10</th>\n",
       "      <td>679455663</td>\n",
       "      <td>False</td>\n",
       "      <td>finalized</td>\n",
       "      <td>3</td>\n",
       "      <td>2/21/15 0:38</td>\n",
       "      <td>SlowService</td>\n",
       "      <td>1</td>\n",
       "      <td>Atlanta</td>\n",
       "      <td>NaN</td>\n",
       "      <td>Let's start here only reason I came into McDon...</td>\n",
       "      <td>NaN</td>\n",
       "      <td>0</td>\n",
       "      <td>Let's start here only reason I came into McDon...</td>\n",
       "      <td>[1]</td>\n",
       "      <td>1</td>\n",
       "    </tr>\n",
       "    <tr>\n",
       "      <th>11</th>\n",
       "      <td>679455664</td>\n",
       "      <td>False</td>\n",
       "      <td>finalized</td>\n",
       "      <td>3</td>\n",
       "      <td>2/21/15 0:40</td>\n",
       "      <td>RudeService</td>\n",
       "      <td>1</td>\n",
       "      <td>Atlanta</td>\n",
       "      <td>NaN</td>\n",
       "      <td>Other businesses throughout Metro Atlanta open...</td>\n",
       "      <td>NaN</td>\n",
       "      <td>1</td>\n",
       "      <td>Other businesses throughout Metro Atlanta open...</td>\n",
       "      <td>[1]</td>\n",
       "      <td>1</td>\n",
       "    </tr>\n",
       "    <tr>\n",
       "      <th>13</th>\n",
       "      <td>679455666</td>\n",
       "      <td>False</td>\n",
       "      <td>finalized</td>\n",
       "      <td>3</td>\n",
       "      <td>2/21/15 0:15</td>\n",
       "      <td>SlowService</td>\n",
       "      <td>1</td>\n",
       "      <td>Atlanta</td>\n",
       "      <td>NaN</td>\n",
       "      <td>Believe it or not, this used to be q really go...</td>\n",
       "      <td>NaN</td>\n",
       "      <td>0</td>\n",
       "      <td>Believe it or not, this used to be q really go...</td>\n",
       "      <td>[1]</td>\n",
       "      <td>1</td>\n",
       "    </tr>\n",
       "    <tr>\n",
       "      <th>16</th>\n",
       "      <td>679455669</td>\n",
       "      <td>False</td>\n",
       "      <td>finalized</td>\n",
       "      <td>3</td>\n",
       "      <td>2/21/15 2:30</td>\n",
       "      <td>SlowService\\nMissingFood\\nBadFood</td>\n",
       "      <td>1.0\\n1.0\\n1.0</td>\n",
       "      <td>Atlanta</td>\n",
       "      <td>NaN</td>\n",
       "      <td>Super slow service, food's terrible like its b...</td>\n",
       "      <td>NaN</td>\n",
       "      <td>0</td>\n",
       "      <td>Super slow service, food's terrible like its b...</td>\n",
       "      <td>[1.0, 1.0, 1.0]</td>\n",
       "      <td>1</td>\n",
       "    </tr>\n",
       "    <tr>\n",
       "      <th>17</th>\n",
       "      <td>679455670</td>\n",
       "      <td>False</td>\n",
       "      <td>finalized</td>\n",
       "      <td>3</td>\n",
       "      <td>2/21/15 0:15</td>\n",
       "      <td>SlowService</td>\n",
       "      <td>1</td>\n",
       "      <td>Atlanta</td>\n",
       "      <td>NaN</td>\n",
       "      <td>SLOW-SLOW-SLOW! ŒæDon't go here if you have a ...</td>\n",
       "      <td>NaN</td>\n",
       "      <td>0</td>\n",
       "      <td>SLOW-SLOW-SLOW! ŒæDon't go here if you have a ...</td>\n",
       "      <td>[1]</td>\n",
       "      <td>1</td>\n",
       "    </tr>\n",
       "    <tr>\n",
       "      <th>19</th>\n",
       "      <td>679455672</td>\n",
       "      <td>False</td>\n",
       "      <td>finalized</td>\n",
       "      <td>3</td>\n",
       "      <td>2/21/15 0:45</td>\n",
       "      <td>RudeService</td>\n",
       "      <td>1</td>\n",
       "      <td>Atlanta</td>\n",
       "      <td>NaN</td>\n",
       "      <td>This is the worst McDonalds I have ever seen. ...</td>\n",
       "      <td>NaN</td>\n",
       "      <td>1</td>\n",
       "      <td>This is the worst McDonalds I have ever seen. ...</td>\n",
       "      <td>[1]</td>\n",
       "      <td>1</td>\n",
       "    </tr>\n",
       "    <tr>\n",
       "      <th>23</th>\n",
       "      <td>679455676</td>\n",
       "      <td>False</td>\n",
       "      <td>finalized</td>\n",
       "      <td>3</td>\n",
       "      <td>2/21/15 0:28</td>\n",
       "      <td>BadFood</td>\n",
       "      <td>1</td>\n",
       "      <td>Atlanta</td>\n",
       "      <td>NaN</td>\n",
       "      <td>I usually hit the drive thru once or twice a w...</td>\n",
       "      <td>NaN</td>\n",
       "      <td>0</td>\n",
       "      <td>I usually hit the drive thru once or twice a w...</td>\n",
       "      <td>[1]</td>\n",
       "      <td>1</td>\n",
       "    </tr>\n",
       "    <tr>\n",
       "      <th>25</th>\n",
       "      <td>679455678</td>\n",
       "      <td>False</td>\n",
       "      <td>finalized</td>\n",
       "      <td>3</td>\n",
       "      <td>2/21/15 0:13</td>\n",
       "      <td>BadFood</td>\n",
       "      <td>1</td>\n",
       "      <td>Atlanta</td>\n",
       "      <td>NaN</td>\n",
       "      <td>I wish I can give zero stars. Freezing cold re...</td>\n",
       "      <td>NaN</td>\n",
       "      <td>0</td>\n",
       "      <td>I wish I can give zero stars. Freezing cold re...</td>\n",
       "      <td>[1]</td>\n",
       "      <td>1</td>\n",
       "    </tr>\n",
       "    <tr>\n",
       "      <th>28</th>\n",
       "      <td>679455681</td>\n",
       "      <td>False</td>\n",
       "      <td>finalized</td>\n",
       "      <td>3</td>\n",
       "      <td>2/21/15 0:13</td>\n",
       "      <td>SlowService\\nRudeService</td>\n",
       "      <td>1.0\\n1.0</td>\n",
       "      <td>Atlanta</td>\n",
       "      <td>NaN</td>\n",
       "      <td>This is one rude Mcdonalds! The food takes lon...</td>\n",
       "      <td>NaN</td>\n",
       "      <td>1</td>\n",
       "      <td>This is one rude Mcdonalds! The food takes lon...</td>\n",
       "      <td>[1.0, 1.0]</td>\n",
       "      <td>1</td>\n",
       "    </tr>\n",
       "    <tr>\n",
       "      <th>38</th>\n",
       "      <td>679455691</td>\n",
       "      <td>False</td>\n",
       "      <td>finalized</td>\n",
       "      <td>3</td>\n",
       "      <td>2/21/15 1:03</td>\n",
       "      <td>na</td>\n",
       "      <td>1</td>\n",
       "      <td>Atlanta</td>\n",
       "      <td>NaN</td>\n",
       "      <td>I highly recommend this McDonalds!******if and...</td>\n",
       "      <td>NaN</td>\n",
       "      <td>0</td>\n",
       "      <td>I highly recommend this McDonalds!******if and...</td>\n",
       "      <td>[1]</td>\n",
       "      <td>1</td>\n",
       "    </tr>\n",
       "    <tr>\n",
       "      <th>40</th>\n",
       "      <td>679455693</td>\n",
       "      <td>False</td>\n",
       "      <td>finalized</td>\n",
       "      <td>3</td>\n",
       "      <td>2/21/15 1:02</td>\n",
       "      <td>BadFood</td>\n",
       "      <td>1</td>\n",
       "      <td>Atlanta</td>\n",
       "      <td>NaN</td>\n",
       "      <td>I know i shouldn't need to ask but experience ...</td>\n",
       "      <td>NaN</td>\n",
       "      <td>0</td>\n",
       "      <td>I know i shouldn't need to ask but experience ...</td>\n",
       "      <td>[1]</td>\n",
       "      <td>1</td>\n",
       "    </tr>\n",
       "    <tr>\n",
       "      <th>41</th>\n",
       "      <td>679455694</td>\n",
       "      <td>False</td>\n",
       "      <td>finalized</td>\n",
       "      <td>3</td>\n",
       "      <td>2/21/15 0:09</td>\n",
       "      <td>SlowService</td>\n",
       "      <td>1</td>\n",
       "      <td>Atlanta</td>\n",
       "      <td>NaN</td>\n",
       "      <td>I don't often eat at McDonald's, or ever in fa...</td>\n",
       "      <td>NaN</td>\n",
       "      <td>0</td>\n",
       "      <td>I don't often eat at McDonald's, or ever in fa...</td>\n",
       "      <td>[1]</td>\n",
       "      <td>1</td>\n",
       "    </tr>\n",
       "    <tr>\n",
       "      <th>42</th>\n",
       "      <td>679455695</td>\n",
       "      <td>False</td>\n",
       "      <td>finalized</td>\n",
       "      <td>3</td>\n",
       "      <td>2/21/15 0:36</td>\n",
       "      <td>SlowService\\nCost</td>\n",
       "      <td>1.0\\n1.0</td>\n",
       "      <td>Atlanta</td>\n",
       "      <td>NaN</td>\n",
       "      <td>Little bit more expensive than other Mickey De...</td>\n",
       "      <td>NaN</td>\n",
       "      <td>0</td>\n",
       "      <td>Little bit more expensive than other Mickey De...</td>\n",
       "      <td>[1.0, 1.0]</td>\n",
       "      <td>1</td>\n",
       "    </tr>\n",
       "    <tr>\n",
       "      <th>46</th>\n",
       "      <td>679455699</td>\n",
       "      <td>False</td>\n",
       "      <td>finalized</td>\n",
       "      <td>3</td>\n",
       "      <td>2/21/15 0:13</td>\n",
       "      <td>BadFood</td>\n",
       "      <td>1</td>\n",
       "      <td>Atlanta</td>\n",
       "      <td>NaN</td>\n",
       "      <td>AND STILL FRENCH FRY CHAMP.........The burger ...</td>\n",
       "      <td>NaN</td>\n",
       "      <td>0</td>\n",
       "      <td>AND STILL FRENCH FRY CHAMP.........The burger ...</td>\n",
       "      <td>[1]</td>\n",
       "      <td>1</td>\n",
       "    </tr>\n",
       "    <tr>\n",
       "      <th>48</th>\n",
       "      <td>679455701</td>\n",
       "      <td>False</td>\n",
       "      <td>finalized</td>\n",
       "      <td>3</td>\n",
       "      <td>2/21/15 0:21</td>\n",
       "      <td>SlowService</td>\n",
       "      <td>1</td>\n",
       "      <td>Atlanta</td>\n",
       "      <td>NaN</td>\n",
       "      <td>Worst Mc Donalds in all of Atlanta... 15-25 mi...</td>\n",
       "      <td>NaN</td>\n",
       "      <td>0</td>\n",
       "      <td>Worst Mc Donalds in all of Atlanta... 15-25 mi...</td>\n",
       "      <td>[1]</td>\n",
       "      <td>1</td>\n",
       "    </tr>\n",
       "    <tr>\n",
       "      <th>49</th>\n",
       "      <td>679455702</td>\n",
       "      <td>False</td>\n",
       "      <td>finalized</td>\n",
       "      <td>3</td>\n",
       "      <td>2/21/15 0:13</td>\n",
       "      <td>na</td>\n",
       "      <td>1</td>\n",
       "      <td>Atlanta</td>\n",
       "      <td>NaN</td>\n",
       "      <td>Its good. 24hr</td>\n",
       "      <td>NaN</td>\n",
       "      <td>0</td>\n",
       "      <td>Its good. 24hr Atlanta</td>\n",
       "      <td>[1]</td>\n",
       "      <td>1</td>\n",
       "    </tr>\n",
       "    <tr>\n",
       "      <th>50</th>\n",
       "      <td>679455703</td>\n",
       "      <td>False</td>\n",
       "      <td>finalized</td>\n",
       "      <td>3</td>\n",
       "      <td>2/21/15 0:12</td>\n",
       "      <td>OrderProblem</td>\n",
       "      <td>1</td>\n",
       "      <td>Atlanta</td>\n",
       "      <td>NaN</td>\n",
       "      <td>What the freak-nik is this?There are 25 cars i...</td>\n",
       "      <td>NaN</td>\n",
       "      <td>0</td>\n",
       "      <td>What the freak-nik is this?There are 25 cars i...</td>\n",
       "      <td>[1]</td>\n",
       "      <td>1</td>\n",
       "    </tr>\n",
       "    <tr>\n",
       "      <th>51</th>\n",
       "      <td>679455704</td>\n",
       "      <td>False</td>\n",
       "      <td>finalized</td>\n",
       "      <td>3</td>\n",
       "      <td>2/21/15 0:17</td>\n",
       "      <td>BadFood</td>\n",
       "      <td>1</td>\n",
       "      <td>Atlanta</td>\n",
       "      <td>NaN</td>\n",
       "      <td>I've enjoyed a couple eggwhite delights here, ...</td>\n",
       "      <td>NaN</td>\n",
       "      <td>0</td>\n",
       "      <td>I've enjoyed a couple eggwhite delights here, ...</td>\n",
       "      <td>[1]</td>\n",
       "      <td>1</td>\n",
       "    </tr>\n",
       "    <tr>\n",
       "      <th>52</th>\n",
       "      <td>679455705</td>\n",
       "      <td>False</td>\n",
       "      <td>finalized</td>\n",
       "      <td>3</td>\n",
       "      <td>2/21/15 0:21</td>\n",
       "      <td>na</td>\n",
       "      <td>1</td>\n",
       "      <td>Atlanta</td>\n",
       "      <td>NaN</td>\n",
       "      <td>Sometimes, you just need a Mickey D's fix. Usu...</td>\n",
       "      <td>NaN</td>\n",
       "      <td>0</td>\n",
       "      <td>Sometimes, you just need a Mickey D's fix. Usu...</td>\n",
       "      <td>[1]</td>\n",
       "      <td>1</td>\n",
       "    </tr>\n",
       "    <tr>\n",
       "      <th>53</th>\n",
       "      <td>679455706</td>\n",
       "      <td>False</td>\n",
       "      <td>finalized</td>\n",
       "      <td>3</td>\n",
       "      <td>2/21/15 0:46</td>\n",
       "      <td>na</td>\n",
       "      <td>1</td>\n",
       "      <td>Atlanta</td>\n",
       "      <td>NaN</td>\n",
       "      <td>My order was fresh and prepared correctly. The...</td>\n",
       "      <td>NaN</td>\n",
       "      <td>0</td>\n",
       "      <td>My order was fresh and prepared correctly. The...</td>\n",
       "      <td>[1]</td>\n",
       "      <td>1</td>\n",
       "    </tr>\n",
       "    <tr>\n",
       "      <th>56</th>\n",
       "      <td>679455709</td>\n",
       "      <td>False</td>\n",
       "      <td>finalized</td>\n",
       "      <td>3</td>\n",
       "      <td>2/21/15 0:46</td>\n",
       "      <td>Filthy</td>\n",
       "      <td>1</td>\n",
       "      <td>Atlanta</td>\n",
       "      <td>NaN</td>\n",
       "      <td>This is the most disgusting McDonalds on the p...</td>\n",
       "      <td>NaN</td>\n",
       "      <td>0</td>\n",
       "      <td>This is the most disgusting McDonalds on the p...</td>\n",
       "      <td>[1]</td>\n",
       "      <td>1</td>\n",
       "    </tr>\n",
       "    <tr>\n",
       "      <th>57</th>\n",
       "      <td>679455710</td>\n",
       "      <td>False</td>\n",
       "      <td>finalized</td>\n",
       "      <td>3</td>\n",
       "      <td>2/21/15 0:20</td>\n",
       "      <td>na</td>\n",
       "      <td>1</td>\n",
       "      <td>Atlanta</td>\n",
       "      <td>NaN</td>\n",
       "      <td>\"I gotta wake my ass up at six AM every day of...</td>\n",
       "      <td>NaN</td>\n",
       "      <td>0</td>\n",
       "      <td>\"I gotta wake my ass up at six AM every day of...</td>\n",
       "      <td>[1]</td>\n",
       "      <td>1</td>\n",
       "    </tr>\n",
       "    <tr>\n",
       "      <th>59</th>\n",
       "      <td>679455712</td>\n",
       "      <td>False</td>\n",
       "      <td>finalized</td>\n",
       "      <td>3</td>\n",
       "      <td>2/21/15 0:13</td>\n",
       "      <td>RudeService</td>\n",
       "      <td>1</td>\n",
       "      <td>Atlanta</td>\n",
       "      <td>NaN</td>\n",
       "      <td>Food is what you would expect from McDonald's ...</td>\n",
       "      <td>NaN</td>\n",
       "      <td>1</td>\n",
       "      <td>Food is what you would expect from McDonald's ...</td>\n",
       "      <td>[1]</td>\n",
       "      <td>1</td>\n",
       "    </tr>\n",
       "    <tr>\n",
       "      <th>61</th>\n",
       "      <td>679455714</td>\n",
       "      <td>False</td>\n",
       "      <td>finalized</td>\n",
       "      <td>3</td>\n",
       "      <td>2/21/15 0:43</td>\n",
       "      <td>na</td>\n",
       "      <td>1</td>\n",
       "      <td>Atlanta</td>\n",
       "      <td>NaN</td>\n",
       "      <td>Before a morning round of golf, I needed a qui...</td>\n",
       "      <td>NaN</td>\n",
       "      <td>0</td>\n",
       "      <td>Before a morning round of golf, I needed a qui...</td>\n",
       "      <td>[1]</td>\n",
       "      <td>1</td>\n",
       "    </tr>\n",
       "    <tr>\n",
       "      <th>62</th>\n",
       "      <td>679455715</td>\n",
       "      <td>False</td>\n",
       "      <td>finalized</td>\n",
       "      <td>3</td>\n",
       "      <td>2/21/15 0:36</td>\n",
       "      <td>OrderProblem</td>\n",
       "      <td>1</td>\n",
       "      <td>Atlanta</td>\n",
       "      <td>NaN</td>\n",
       "      <td>My Wife and I have been to this McDonalds abou...</td>\n",
       "      <td>NaN</td>\n",
       "      <td>0</td>\n",
       "      <td>My Wife and I have been to this McDonalds abou...</td>\n",
       "      <td>[1]</td>\n",
       "      <td>1</td>\n",
       "    </tr>\n",
       "    <tr>\n",
       "      <th>67</th>\n",
       "      <td>679455720</td>\n",
       "      <td>False</td>\n",
       "      <td>finalized</td>\n",
       "      <td>3</td>\n",
       "      <td>2/21/15 0:57</td>\n",
       "      <td>na</td>\n",
       "      <td>1</td>\n",
       "      <td>Atlanta</td>\n",
       "      <td>NaN</td>\n",
       "      <td>Holy crap dudes, this is the fastest McDonald'...</td>\n",
       "      <td>NaN</td>\n",
       "      <td>0</td>\n",
       "      <td>Holy crap dudes, this is the fastest McDonald'...</td>\n",
       "      <td>[1]</td>\n",
       "      <td>1</td>\n",
       "    </tr>\n",
       "    <tr>\n",
       "      <th>68</th>\n",
       "      <td>679455721</td>\n",
       "      <td>False</td>\n",
       "      <td>finalized</td>\n",
       "      <td>3</td>\n",
       "      <td>2/21/15 0:15</td>\n",
       "      <td>OrderProblem</td>\n",
       "      <td>1</td>\n",
       "      <td>Atlanta</td>\n",
       "      <td>NaN</td>\n",
       "      <td>I purchased a specialty coffee in the drive th...</td>\n",
       "      <td>NaN</td>\n",
       "      <td>0</td>\n",
       "      <td>I purchased a specialty coffee in the drive th...</td>\n",
       "      <td>[1]</td>\n",
       "      <td>1</td>\n",
       "    </tr>\n",
       "    <tr>\n",
       "      <th>69</th>\n",
       "      <td>679455722</td>\n",
       "      <td>False</td>\n",
       "      <td>finalized</td>\n",
       "      <td>3</td>\n",
       "      <td>2/21/15 2:30</td>\n",
       "      <td>OrderProblem</td>\n",
       "      <td>1</td>\n",
       "      <td>Atlanta</td>\n",
       "      <td>NaN</td>\n",
       "      <td>the last 20 times we been to this McDonald's t...</td>\n",
       "      <td>NaN</td>\n",
       "      <td>0</td>\n",
       "      <td>the last 20 times we been to this McDonald's t...</td>\n",
       "      <td>[1]</td>\n",
       "      <td>1</td>\n",
       "    </tr>\n",
       "    <tr>\n",
       "      <th>71</th>\n",
       "      <td>679455724</td>\n",
       "      <td>False</td>\n",
       "      <td>finalized</td>\n",
       "      <td>3</td>\n",
       "      <td>2/21/15 0:54</td>\n",
       "      <td>na</td>\n",
       "      <td>1</td>\n",
       "      <td>Atlanta</td>\n",
       "      <td>NaN</td>\n",
       "      <td>Hot fries i like.</td>\n",
       "      <td>NaN</td>\n",
       "      <td>0</td>\n",
       "      <td>Hot fries i like. Atlanta</td>\n",
       "      <td>[1]</td>\n",
       "      <td>1</td>\n",
       "    </tr>\n",
       "    <tr>\n",
       "      <th>72</th>\n",
       "      <td>679455725</td>\n",
       "      <td>False</td>\n",
       "      <td>finalized</td>\n",
       "      <td>3</td>\n",
       "      <td>2/21/15 0:29</td>\n",
       "      <td>RudeService\\nFilthy</td>\n",
       "      <td>1.0\\n1.0</td>\n",
       "      <td>Atlanta</td>\n",
       "      <td>NaN</td>\n",
       "      <td>The customer service was HORRIBLE! ŒæThey seem...</td>\n",
       "      <td>NaN</td>\n",
       "      <td>1</td>\n",
       "      <td>The customer service was HORRIBLE! ŒæThey seem...</td>\n",
       "      <td>[1.0, 1.0]</td>\n",
       "      <td>1</td>\n",
       "    </tr>\n",
       "    <tr>\n",
       "      <th>73</th>\n",
       "      <td>679455726</td>\n",
       "      <td>False</td>\n",
       "      <td>finalized</td>\n",
       "      <td>3</td>\n",
       "      <td>2/21/15 0:20</td>\n",
       "      <td>RudeService</td>\n",
       "      <td>1</td>\n",
       "      <td>Atlanta</td>\n",
       "      <td>NaN</td>\n",
       "      <td>Customer service is well below par here. I pla...</td>\n",
       "      <td>NaN</td>\n",
       "      <td>1</td>\n",
       "      <td>Customer service is well below par here. I pla...</td>\n",
       "      <td>[1]</td>\n",
       "      <td>1</td>\n",
       "    </tr>\n",
       "    <tr>\n",
       "      <th>74</th>\n",
       "      <td>679455727</td>\n",
       "      <td>False</td>\n",
       "      <td>finalized</td>\n",
       "      <td>3</td>\n",
       "      <td>2/21/15 0:34</td>\n",
       "      <td>Filthy</td>\n",
       "      <td>1</td>\n",
       "      <td>Atlanta</td>\n",
       "      <td>NaN</td>\n",
       "      <td>Food is good but what's with all the flies and...</td>\n",
       "      <td>NaN</td>\n",
       "      <td>0</td>\n",
       "      <td>Food is good but what's with all the flies and...</td>\n",
       "      <td>[1]</td>\n",
       "      <td>1</td>\n",
       "    </tr>\n",
       "    <tr>\n",
       "      <th>75</th>\n",
       "      <td>679455728</td>\n",
       "      <td>False</td>\n",
       "      <td>finalized</td>\n",
       "      <td>3</td>\n",
       "      <td>2/21/15 0:29</td>\n",
       "      <td>Filthy</td>\n",
       "      <td>1</td>\n",
       "      <td>Atlanta</td>\n",
       "      <td>NaN</td>\n",
       "      <td>Fruit flies anyone? There is a huge fruit fly ...</td>\n",
       "      <td>NaN</td>\n",
       "      <td>0</td>\n",
       "      <td>Fruit flies anyone? There is a huge fruit fly ...</td>\n",
       "      <td>[1]</td>\n",
       "      <td>1</td>\n",
       "    </tr>\n",
       "    <tr>\n",
       "      <th>76</th>\n",
       "      <td>679455729</td>\n",
       "      <td>False</td>\n",
       "      <td>finalized</td>\n",
       "      <td>3</td>\n",
       "      <td>2/21/15 0:29</td>\n",
       "      <td>na</td>\n",
       "      <td>1</td>\n",
       "      <td>Atlanta</td>\n",
       "      <td>NaN</td>\n",
       "      <td>Best McDonalds ice cream is here!</td>\n",
       "      <td>NaN</td>\n",
       "      <td>0</td>\n",
       "      <td>Best McDonalds ice cream is here! Atlanta</td>\n",
       "      <td>[1]</td>\n",
       "      <td>1</td>\n",
       "    </tr>\n",
       "    <tr>\n",
       "      <th>77</th>\n",
       "      <td>679455730</td>\n",
       "      <td>False</td>\n",
       "      <td>finalized</td>\n",
       "      <td>3</td>\n",
       "      <td>2/21/15 0:18</td>\n",
       "      <td>na</td>\n",
       "      <td>1</td>\n",
       "      <td>Atlanta</td>\n",
       "      <td>NaN</td>\n",
       "      <td>This is a busy Mcdonalds at all times even lat...</td>\n",
       "      <td>NaN</td>\n",
       "      <td>0</td>\n",
       "      <td>This is a busy Mcdonalds at all times even lat...</td>\n",
       "      <td>[1]</td>\n",
       "      <td>1</td>\n",
       "    </tr>\n",
       "    <tr>\n",
       "      <th>78</th>\n",
       "      <td>679455731</td>\n",
       "      <td>False</td>\n",
       "      <td>finalized</td>\n",
       "      <td>3</td>\n",
       "      <td>2/21/15 0:36</td>\n",
       "      <td>OrderProblem\\nBadFood</td>\n",
       "      <td>1.0\\n1.0</td>\n",
       "      <td>Atlanta</td>\n",
       "      <td>NaN</td>\n",
       "      <td>I would honestly not normally take the time to...</td>\n",
       "      <td>NaN</td>\n",
       "      <td>0</td>\n",
       "      <td>I would honestly not normally take the time to...</td>\n",
       "      <td>[1.0, 1.0]</td>\n",
       "      <td>1</td>\n",
       "    </tr>\n",
       "    <tr>\n",
       "      <th>79</th>\n",
       "      <td>679455732</td>\n",
       "      <td>False</td>\n",
       "      <td>finalized</td>\n",
       "      <td>3</td>\n",
       "      <td>2/21/15 0:12</td>\n",
       "      <td>OrderProblem</td>\n",
       "      <td>1</td>\n",
       "      <td>Atlanta</td>\n",
       "      <td>NaN</td>\n",
       "      <td>Came here for a quick to go lunch. First my ch...</td>\n",
       "      <td>NaN</td>\n",
       "      <td>0</td>\n",
       "      <td>Came here for a quick to go lunch. First my ch...</td>\n",
       "      <td>[1]</td>\n",
       "      <td>1</td>\n",
       "    </tr>\n",
       "    <tr>\n",
       "      <th>80</th>\n",
       "      <td>679455733</td>\n",
       "      <td>False</td>\n",
       "      <td>finalized</td>\n",
       "      <td>3</td>\n",
       "      <td>2/21/15 0:31</td>\n",
       "      <td>BadFood</td>\n",
       "      <td>1</td>\n",
       "      <td>Atlanta</td>\n",
       "      <td>NaN</td>\n",
       "      <td>The first time I went here they smothered my b...</td>\n",
       "      <td>NaN</td>\n",
       "      <td>0</td>\n",
       "      <td>The first time I went here they smothered my b...</td>\n",
       "      <td>[1]</td>\n",
       "      <td>1</td>\n",
       "    </tr>\n",
       "    <tr>\n",
       "      <th>81</th>\n",
       "      <td>679455734</td>\n",
       "      <td>False</td>\n",
       "      <td>finalized</td>\n",
       "      <td>3</td>\n",
       "      <td>2/21/15 0:25</td>\n",
       "      <td>SlowService</td>\n",
       "      <td>1</td>\n",
       "      <td>Atlanta</td>\n",
       "      <td>NaN</td>\n",
       "      <td>the worst mcd's I've ever been to. tried to ge...</td>\n",
       "      <td>NaN</td>\n",
       "      <td>0</td>\n",
       "      <td>the worst mcd's I've ever been to. tried to ge...</td>\n",
       "      <td>[1]</td>\n",
       "      <td>1</td>\n",
       "    </tr>\n",
       "    <tr>\n",
       "      <th>84</th>\n",
       "      <td>679455737</td>\n",
       "      <td>False</td>\n",
       "      <td>finalized</td>\n",
       "      <td>3</td>\n",
       "      <td>2/21/15 0:42</td>\n",
       "      <td>na</td>\n",
       "      <td>1</td>\n",
       "      <td>Atlanta</td>\n",
       "      <td>NaN</td>\n",
       "      <td>Good job guys, love the friendly staff. ŒæDt h...</td>\n",
       "      <td>NaN</td>\n",
       "      <td>0</td>\n",
       "      <td>Good job guys, love the friendly staff. ŒæDt h...</td>\n",
       "      <td>[1]</td>\n",
       "      <td>1</td>\n",
       "    </tr>\n",
       "    <tr>\n",
       "      <th>87</th>\n",
       "      <td>679455740</td>\n",
       "      <td>False</td>\n",
       "      <td>finalized</td>\n",
       "      <td>3</td>\n",
       "      <td>2/21/15 0:42</td>\n",
       "      <td>RudeService\\nBadFood</td>\n",
       "      <td>1.0\\n1.0</td>\n",
       "      <td>Atlanta</td>\n",
       "      <td>NaN</td>\n",
       "      <td>This is the worst McDonald's I have ever visit...</td>\n",
       "      <td>NaN</td>\n",
       "      <td>1</td>\n",
       "      <td>This is the worst McDonald's I have ever visit...</td>\n",
       "      <td>[1.0, 1.0]</td>\n",
       "      <td>1</td>\n",
       "    </tr>\n",
       "    <tr>\n",
       "      <th>91</th>\n",
       "      <td>679455744</td>\n",
       "      <td>False</td>\n",
       "      <td>finalized</td>\n",
       "      <td>3</td>\n",
       "      <td>2/21/15 0:12</td>\n",
       "      <td>na</td>\n",
       "      <td>1</td>\n",
       "      <td>Atlanta</td>\n",
       "      <td>NaN</td>\n",
       "      <td>I'm hooked on the McDonald's Oatmeal!When I wa...</td>\n",
       "      <td>NaN</td>\n",
       "      <td>0</td>\n",
       "      <td>I'm hooked on the McDonald's Oatmeal!When I wa...</td>\n",
       "      <td>[1]</td>\n",
       "      <td>1</td>\n",
       "    </tr>\n",
       "    <tr>\n",
       "      <th>94</th>\n",
       "      <td>679455747</td>\n",
       "      <td>False</td>\n",
       "      <td>finalized</td>\n",
       "      <td>3</td>\n",
       "      <td>2/21/15 0:36</td>\n",
       "      <td>RudeService</td>\n",
       "      <td>1</td>\n",
       "      <td>Atlanta</td>\n",
       "      <td>NaN</td>\n",
       "      <td>I have to say, this McDonald's sucks. Don't ge...</td>\n",
       "      <td>NaN</td>\n",
       "      <td>1</td>\n",
       "      <td>I have to say, this McDonald's sucks. Don't ge...</td>\n",
       "      <td>[1]</td>\n",
       "      <td>1</td>\n",
       "    </tr>\n",
       "    <tr>\n",
       "      <th>95</th>\n",
       "      <td>679455748</td>\n",
       "      <td>False</td>\n",
       "      <td>finalized</td>\n",
       "      <td>3</td>\n",
       "      <td>2/21/15 0:09</td>\n",
       "      <td>na</td>\n",
       "      <td>1</td>\n",
       "      <td>Atlanta</td>\n",
       "      <td>NaN</td>\n",
       "      <td>Never thought I would write a review about McD...</td>\n",
       "      <td>NaN</td>\n",
       "      <td>0</td>\n",
       "      <td>Never thought I would write a review about McD...</td>\n",
       "      <td>[1]</td>\n",
       "      <td>1</td>\n",
       "    </tr>\n",
       "    <tr>\n",
       "      <th>96</th>\n",
       "      <td>679455749</td>\n",
       "      <td>False</td>\n",
       "      <td>finalized</td>\n",
       "      <td>3</td>\n",
       "      <td>2/21/15 0:36</td>\n",
       "      <td>BadFood</td>\n",
       "      <td>1</td>\n",
       "      <td>Atlanta</td>\n",
       "      <td>NaN</td>\n",
       "      <td>This location has the new strawberry creme pie...</td>\n",
       "      <td>NaN</td>\n",
       "      <td>0</td>\n",
       "      <td>This location has the new strawberry creme pie...</td>\n",
       "      <td>[1]</td>\n",
       "      <td>1</td>\n",
       "    </tr>\n",
       "    <tr>\n",
       "      <th>100</th>\n",
       "      <td>679455754</td>\n",
       "      <td>False</td>\n",
       "      <td>finalized</td>\n",
       "      <td>3</td>\n",
       "      <td>2/21/15 0:09</td>\n",
       "      <td>Filthy</td>\n",
       "      <td>1</td>\n",
       "      <td>Atlanta</td>\n",
       "      <td>NaN</td>\n",
       "      <td>Dirty - dirty &amp; Œædirty. The Resturant was so ...</td>\n",
       "      <td>NaN</td>\n",
       "      <td>0</td>\n",
       "      <td>Dirty - dirty &amp; Œædirty. The Resturant was so ...</td>\n",
       "      <td>[1]</td>\n",
       "      <td>1</td>\n",
       "    </tr>\n",
       "  </tbody>\n",
       "</table>\n",
       "</div>"
      ],
      "text/plain": [
       "      _unit_id _golden _unit_state  _trusted_judgments _last_judgment_at  \\\n",
       "1    679455654   False   finalized                   3      2/21/15 0:27   \n",
       "2    679455655   False   finalized                   3      2/21/15 0:26   \n",
       "4    679455657   False   finalized                   3      2/21/15 0:27   \n",
       "9    679455662   False   finalized                   3      2/21/15 0:12   \n",
       "10   679455663   False   finalized                   3      2/21/15 0:38   \n",
       "11   679455664   False   finalized                   3      2/21/15 0:40   \n",
       "13   679455666   False   finalized                   3      2/21/15 0:15   \n",
       "16   679455669   False   finalized                   3      2/21/15 2:30   \n",
       "17   679455670   False   finalized                   3      2/21/15 0:15   \n",
       "19   679455672   False   finalized                   3      2/21/15 0:45   \n",
       "23   679455676   False   finalized                   3      2/21/15 0:28   \n",
       "25   679455678   False   finalized                   3      2/21/15 0:13   \n",
       "28   679455681   False   finalized                   3      2/21/15 0:13   \n",
       "38   679455691   False   finalized                   3      2/21/15 1:03   \n",
       "40   679455693   False   finalized                   3      2/21/15 1:02   \n",
       "41   679455694   False   finalized                   3      2/21/15 0:09   \n",
       "42   679455695   False   finalized                   3      2/21/15 0:36   \n",
       "46   679455699   False   finalized                   3      2/21/15 0:13   \n",
       "48   679455701   False   finalized                   3      2/21/15 0:21   \n",
       "49   679455702   False   finalized                   3      2/21/15 0:13   \n",
       "50   679455703   False   finalized                   3      2/21/15 0:12   \n",
       "51   679455704   False   finalized                   3      2/21/15 0:17   \n",
       "52   679455705   False   finalized                   3      2/21/15 0:21   \n",
       "53   679455706   False   finalized                   3      2/21/15 0:46   \n",
       "56   679455709   False   finalized                   3      2/21/15 0:46   \n",
       "57   679455710   False   finalized                   3      2/21/15 0:20   \n",
       "59   679455712   False   finalized                   3      2/21/15 0:13   \n",
       "61   679455714   False   finalized                   3      2/21/15 0:43   \n",
       "62   679455715   False   finalized                   3      2/21/15 0:36   \n",
       "67   679455720   False   finalized                   3      2/21/15 0:57   \n",
       "68   679455721   False   finalized                   3      2/21/15 0:15   \n",
       "69   679455722   False   finalized                   3      2/21/15 2:30   \n",
       "71   679455724   False   finalized                   3      2/21/15 0:54   \n",
       "72   679455725   False   finalized                   3      2/21/15 0:29   \n",
       "73   679455726   False   finalized                   3      2/21/15 0:20   \n",
       "74   679455727   False   finalized                   3      2/21/15 0:34   \n",
       "75   679455728   False   finalized                   3      2/21/15 0:29   \n",
       "76   679455729   False   finalized                   3      2/21/15 0:29   \n",
       "77   679455730   False   finalized                   3      2/21/15 0:18   \n",
       "78   679455731   False   finalized                   3      2/21/15 0:36   \n",
       "79   679455732   False   finalized                   3      2/21/15 0:12   \n",
       "80   679455733   False   finalized                   3      2/21/15 0:31   \n",
       "81   679455734   False   finalized                   3      2/21/15 0:25   \n",
       "84   679455737   False   finalized                   3      2/21/15 0:42   \n",
       "87   679455740   False   finalized                   3      2/21/15 0:42   \n",
       "91   679455744   False   finalized                   3      2/21/15 0:12   \n",
       "94   679455747   False   finalized                   3      2/21/15 0:36   \n",
       "95   679455748   False   finalized                   3      2/21/15 0:09   \n",
       "96   679455749   False   finalized                   3      2/21/15 0:36   \n",
       "100  679455754   False   finalized                   3      2/21/15 0:09   \n",
       "\n",
       "                     policies_violated policies_violated:confidence     city  \\\n",
       "1                          RudeService                            1  Atlanta   \n",
       "2            SlowService\\nOrderProblem                     1.0\\n1.0  Atlanta   \n",
       "4                          RudeService                            1  Atlanta   \n",
       "9                                   na                            1  Atlanta   \n",
       "10                         SlowService                            1  Atlanta   \n",
       "11                         RudeService                            1  Atlanta   \n",
       "13                         SlowService                            1  Atlanta   \n",
       "16   SlowService\\nMissingFood\\nBadFood                1.0\\n1.0\\n1.0  Atlanta   \n",
       "17                         SlowService                            1  Atlanta   \n",
       "19                         RudeService                            1  Atlanta   \n",
       "23                             BadFood                            1  Atlanta   \n",
       "25                             BadFood                            1  Atlanta   \n",
       "28            SlowService\\nRudeService                     1.0\\n1.0  Atlanta   \n",
       "38                                  na                            1  Atlanta   \n",
       "40                             BadFood                            1  Atlanta   \n",
       "41                         SlowService                            1  Atlanta   \n",
       "42                   SlowService\\nCost                     1.0\\n1.0  Atlanta   \n",
       "46                             BadFood                            1  Atlanta   \n",
       "48                         SlowService                            1  Atlanta   \n",
       "49                                  na                            1  Atlanta   \n",
       "50                        OrderProblem                            1  Atlanta   \n",
       "51                             BadFood                            1  Atlanta   \n",
       "52                                  na                            1  Atlanta   \n",
       "53                                  na                            1  Atlanta   \n",
       "56                              Filthy                            1  Atlanta   \n",
       "57                                  na                            1  Atlanta   \n",
       "59                         RudeService                            1  Atlanta   \n",
       "61                                  na                            1  Atlanta   \n",
       "62                        OrderProblem                            1  Atlanta   \n",
       "67                                  na                            1  Atlanta   \n",
       "68                        OrderProblem                            1  Atlanta   \n",
       "69                        OrderProblem                            1  Atlanta   \n",
       "71                                  na                            1  Atlanta   \n",
       "72                 RudeService\\nFilthy                     1.0\\n1.0  Atlanta   \n",
       "73                         RudeService                            1  Atlanta   \n",
       "74                              Filthy                            1  Atlanta   \n",
       "75                              Filthy                            1  Atlanta   \n",
       "76                                  na                            1  Atlanta   \n",
       "77                                  na                            1  Atlanta   \n",
       "78               OrderProblem\\nBadFood                     1.0\\n1.0  Atlanta   \n",
       "79                        OrderProblem                            1  Atlanta   \n",
       "80                             BadFood                            1  Atlanta   \n",
       "81                         SlowService                            1  Atlanta   \n",
       "84                                  na                            1  Atlanta   \n",
       "87                RudeService\\nBadFood                     1.0\\n1.0  Atlanta   \n",
       "91                                  na                            1  Atlanta   \n",
       "94                         RudeService                            1  Atlanta   \n",
       "95                                  na                            1  Atlanta   \n",
       "96                             BadFood                            1  Atlanta   \n",
       "100                             Filthy                            1  Atlanta   \n",
       "\n",
       "     policies_violated_gold  \\\n",
       "1                       NaN   \n",
       "2                       NaN   \n",
       "4                       NaN   \n",
       "9                       NaN   \n",
       "10                      NaN   \n",
       "11                      NaN   \n",
       "13                      NaN   \n",
       "16                      NaN   \n",
       "17                      NaN   \n",
       "19                      NaN   \n",
       "23                      NaN   \n",
       "25                      NaN   \n",
       "28                      NaN   \n",
       "38                      NaN   \n",
       "40                      NaN   \n",
       "41                      NaN   \n",
       "42                      NaN   \n",
       "46                      NaN   \n",
       "48                      NaN   \n",
       "49                      NaN   \n",
       "50                      NaN   \n",
       "51                      NaN   \n",
       "52                      NaN   \n",
       "53                      NaN   \n",
       "56                      NaN   \n",
       "57                      NaN   \n",
       "59                      NaN   \n",
       "61                      NaN   \n",
       "62                      NaN   \n",
       "67                      NaN   \n",
       "68                      NaN   \n",
       "69                      NaN   \n",
       "71                      NaN   \n",
       "72                      NaN   \n",
       "73                      NaN   \n",
       "74                      NaN   \n",
       "75                      NaN   \n",
       "76                      NaN   \n",
       "77                      NaN   \n",
       "78                      NaN   \n",
       "79                      NaN   \n",
       "80                      NaN   \n",
       "81                      NaN   \n",
       "84                      NaN   \n",
       "87                      NaN   \n",
       "91                      NaN   \n",
       "94                      NaN   \n",
       "95                      NaN   \n",
       "96                      NaN   \n",
       "100                     NaN   \n",
       "\n",
       "                                                review  Unnamed: 10  rude  \\\n",
       "1    Terrible customer service. ŒæI came in at 9:30...          NaN     1   \n",
       "2    First they \"lost\" my order, actually they gave...          NaN     0   \n",
       "4    Well, it's McDonald's, so you know what the fo...          NaN     1   \n",
       "9    This McDonald's has gotten much better. Usuall...          NaN     0   \n",
       "10   Let's start here only reason I came into McDon...          NaN     0   \n",
       "11   Other businesses throughout Metro Atlanta open...          NaN     1   \n",
       "13   Believe it or not, this used to be q really go...          NaN     0   \n",
       "16   Super slow service, food's terrible like its b...          NaN     0   \n",
       "17   SLOW-SLOW-SLOW! ŒæDon't go here if you have a ...          NaN     0   \n",
       "19   This is the worst McDonalds I have ever seen. ...          NaN     1   \n",
       "23   I usually hit the drive thru once or twice a w...          NaN     0   \n",
       "25   I wish I can give zero stars. Freezing cold re...          NaN     0   \n",
       "28   This is one rude Mcdonalds! The food takes lon...          NaN     1   \n",
       "38   I highly recommend this McDonalds!******if and...          NaN     0   \n",
       "40   I know i shouldn't need to ask but experience ...          NaN     0   \n",
       "41   I don't often eat at McDonald's, or ever in fa...          NaN     0   \n",
       "42   Little bit more expensive than other Mickey De...          NaN     0   \n",
       "46   AND STILL FRENCH FRY CHAMP.........The burger ...          NaN     0   \n",
       "48   Worst Mc Donalds in all of Atlanta... 15-25 mi...          NaN     0   \n",
       "49                                      Its good. 24hr          NaN     0   \n",
       "50   What the freak-nik is this?There are 25 cars i...          NaN     0   \n",
       "51   I've enjoyed a couple eggwhite delights here, ...          NaN     0   \n",
       "52   Sometimes, you just need a Mickey D's fix. Usu...          NaN     0   \n",
       "53   My order was fresh and prepared correctly. The...          NaN     0   \n",
       "56   This is the most disgusting McDonalds on the p...          NaN     0   \n",
       "57   \"I gotta wake my ass up at six AM every day of...          NaN     0   \n",
       "59   Food is what you would expect from McDonald's ...          NaN     1   \n",
       "61   Before a morning round of golf, I needed a qui...          NaN     0   \n",
       "62   My Wife and I have been to this McDonalds abou...          NaN     0   \n",
       "67   Holy crap dudes, this is the fastest McDonald'...          NaN     0   \n",
       "68   I purchased a specialty coffee in the drive th...          NaN     0   \n",
       "69   the last 20 times we been to this McDonald's t...          NaN     0   \n",
       "71                                   Hot fries i like.          NaN     0   \n",
       "72   The customer service was HORRIBLE! ŒæThey seem...          NaN     1   \n",
       "73   Customer service is well below par here. I pla...          NaN     1   \n",
       "74   Food is good but what's with all the flies and...          NaN     0   \n",
       "75   Fruit flies anyone? There is a huge fruit fly ...          NaN     0   \n",
       "76                   Best McDonalds ice cream is here!          NaN     0   \n",
       "77   This is a busy Mcdonalds at all times even lat...          NaN     0   \n",
       "78   I would honestly not normally take the time to...          NaN     0   \n",
       "79   Came here for a quick to go lunch. First my ch...          NaN     0   \n",
       "80   The first time I went here they smothered my b...          NaN     0   \n",
       "81   the worst mcd's I've ever been to. tried to ge...          NaN     0   \n",
       "84   Good job guys, love the friendly staff. ŒæDt h...          NaN     0   \n",
       "87   This is the worst McDonald's I have ever visit...          NaN     1   \n",
       "91   I'm hooked on the McDonald's Oatmeal!When I wa...          NaN     0   \n",
       "94   I have to say, this McDonald's sucks. Don't ge...          NaN     1   \n",
       "95   Never thought I would write a review about McD...          NaN     0   \n",
       "96   This location has the new strawberry creme pie...          NaN     0   \n",
       "100  Dirty - dirty & Œædirty. The Resturant was so ...          NaN     0   \n",
       "\n",
       "                                           review_city  confidence_list  \\\n",
       "1    Terrible customer service. ŒæI came in at 9:30...              [1]   \n",
       "2    First they \"lost\" my order, actually they gave...       [1.0, 1.0]   \n",
       "4    Well, it's McDonald's, so you know what the fo...              [1]   \n",
       "9    This McDonald's has gotten much better. Usuall...              [1]   \n",
       "10   Let's start here only reason I came into McDon...              [1]   \n",
       "11   Other businesses throughout Metro Atlanta open...              [1]   \n",
       "13   Believe it or not, this used to be q really go...              [1]   \n",
       "16   Super slow service, food's terrible like its b...  [1.0, 1.0, 1.0]   \n",
       "17   SLOW-SLOW-SLOW! ŒæDon't go here if you have a ...              [1]   \n",
       "19   This is the worst McDonalds I have ever seen. ...              [1]   \n",
       "23   I usually hit the drive thru once or twice a w...              [1]   \n",
       "25   I wish I can give zero stars. Freezing cold re...              [1]   \n",
       "28   This is one rude Mcdonalds! The food takes lon...       [1.0, 1.0]   \n",
       "38   I highly recommend this McDonalds!******if and...              [1]   \n",
       "40   I know i shouldn't need to ask but experience ...              [1]   \n",
       "41   I don't often eat at McDonald's, or ever in fa...              [1]   \n",
       "42   Little bit more expensive than other Mickey De...       [1.0, 1.0]   \n",
       "46   AND STILL FRENCH FRY CHAMP.........The burger ...              [1]   \n",
       "48   Worst Mc Donalds in all of Atlanta... 15-25 mi...              [1]   \n",
       "49                              Its good. 24hr Atlanta              [1]   \n",
       "50   What the freak-nik is this?There are 25 cars i...              [1]   \n",
       "51   I've enjoyed a couple eggwhite delights here, ...              [1]   \n",
       "52   Sometimes, you just need a Mickey D's fix. Usu...              [1]   \n",
       "53   My order was fresh and prepared correctly. The...              [1]   \n",
       "56   This is the most disgusting McDonalds on the p...              [1]   \n",
       "57   \"I gotta wake my ass up at six AM every day of...              [1]   \n",
       "59   Food is what you would expect from McDonald's ...              [1]   \n",
       "61   Before a morning round of golf, I needed a qui...              [1]   \n",
       "62   My Wife and I have been to this McDonalds abou...              [1]   \n",
       "67   Holy crap dudes, this is the fastest McDonald'...              [1]   \n",
       "68   I purchased a specialty coffee in the drive th...              [1]   \n",
       "69   the last 20 times we been to this McDonald's t...              [1]   \n",
       "71                           Hot fries i like. Atlanta              [1]   \n",
       "72   The customer service was HORRIBLE! ŒæThey seem...       [1.0, 1.0]   \n",
       "73   Customer service is well below par here. I pla...              [1]   \n",
       "74   Food is good but what's with all the flies and...              [1]   \n",
       "75   Fruit flies anyone? There is a huge fruit fly ...              [1]   \n",
       "76           Best McDonalds ice cream is here! Atlanta              [1]   \n",
       "77   This is a busy Mcdonalds at all times even lat...              [1]   \n",
       "78   I would honestly not normally take the time to...       [1.0, 1.0]   \n",
       "79   Came here for a quick to go lunch. First my ch...              [1]   \n",
       "80   The first time I went here they smothered my b...              [1]   \n",
       "81   the worst mcd's I've ever been to. tried to ge...              [1]   \n",
       "84   Good job guys, love the friendly staff. ŒæDt h...              [1]   \n",
       "87   This is the worst McDonald's I have ever visit...       [1.0, 1.0]   \n",
       "91   I'm hooked on the McDonald's Oatmeal!When I wa...              [1]   \n",
       "94   I have to say, this McDonald's sucks. Don't ge...              [1]   \n",
       "95   Never thought I would write a review about McD...              [1]   \n",
       "96   This location has the new strawberry creme pie...              [1]   \n",
       "100  Dirty - dirty & Œædirty. The Resturant was so ...              [1]   \n",
       "\n",
       "     confidence_mean  \n",
       "1                  1  \n",
       "2                  1  \n",
       "4                  1  \n",
       "9                  1  \n",
       "10                 1  \n",
       "11                 1  \n",
       "13                 1  \n",
       "16                 1  \n",
       "17                 1  \n",
       "19                 1  \n",
       "23                 1  \n",
       "25                 1  \n",
       "28                 1  \n",
       "38                 1  \n",
       "40                 1  \n",
       "41                 1  \n",
       "42                 1  \n",
       "46                 1  \n",
       "48                 1  \n",
       "49                 1  \n",
       "50                 1  \n",
       "51                 1  \n",
       "52                 1  \n",
       "53                 1  \n",
       "56                 1  \n",
       "57                 1  \n",
       "59                 1  \n",
       "61                 1  \n",
       "62                 1  \n",
       "67                 1  \n",
       "68                 1  \n",
       "69                 1  \n",
       "71                 1  \n",
       "72                 1  \n",
       "73                 1  \n",
       "74                 1  \n",
       "75                 1  \n",
       "76                 1  \n",
       "77                 1  \n",
       "78                 1  \n",
       "79                 1  \n",
       "80                 1  \n",
       "81                 1  \n",
       "84                 1  \n",
       "87                 1  \n",
       "91                 1  \n",
       "94                 1  \n",
       "95                 1  \n",
       "96                 1  \n",
       "100                1  "
      ]
     },
     "execution_count": 44,
     "metadata": {},
     "output_type": "execute_result"
    }
   ],
   "source": [
    "data_with_confidence.head(50)"
   ]
  },
  {
   "cell_type": "code",
   "execution_count": 45,
   "metadata": {
    "collapsed": true
   },
   "outputs": [],
   "source": [
    "X = data_with_confidence[\"review\"]\n",
    "y = data_with_confidence[\"rude\"]"
   ]
  },
  {
   "cell_type": "code",
   "execution_count": 46,
   "metadata": {
    "collapsed": true
   },
   "outputs": [],
   "source": [
    "X_train, X_test, y_train, y_test = train_test_split(X, y, random_state=1)"
   ]
  },
  {
   "cell_type": "code",
   "execution_count": 47,
   "metadata": {
    "collapsed": false
   },
   "outputs": [
    {
     "name": "stdout",
     "output_type": "stream",
     "text": [
      "4894\n",
      "AUC:  0.855154105154\n"
     ]
    }
   ],
   "source": [
    "tokenize_test(CountVectorizer())"
   ]
  },
  {
   "cell_type": "code",
   "execution_count": 48,
   "metadata": {
    "collapsed": false
   },
   "outputs": [
    {
     "name": "stdout",
     "output_type": "stream",
     "text": [
      "4761\n",
      "AUC:  0.842268842269\n"
     ]
    }
   ],
   "source": [
    "tokenize_test(CountVectorizer(token_pattern='(?u)\\\\b\\\\w\\\\w\\\\w+\\\\b', max_df=0.5))"
   ]
  },
  {
   "cell_type": "code",
   "execution_count": 49,
   "metadata": {
    "collapsed": false
   },
   "outputs": [
    {
     "name": "stdout",
     "output_type": "stream",
     "text": [
      "4885\n",
      "AUC:  0.855736855737\n"
     ]
    }
   ],
   "source": [
    "tokenize_test(CountVectorizer(max_df=0.5))"
   ]
  },
  {
   "cell_type": "code",
   "execution_count": 50,
   "metadata": {
    "collapsed": false
   },
   "outputs": [
    {
     "name": "stdout",
     "output_type": "stream",
     "text": [
      "4893\n",
      "AUC:  0.855089355089\n"
     ]
    }
   ],
   "source": [
    "tokenize_test(CountVectorizer(max_df=0.8))"
   ]
  },
  {
   "cell_type": "code",
   "execution_count": 51,
   "metadata": {
    "collapsed": false
   },
   "outputs": [
    {
     "name": "stdout",
     "output_type": "stream",
     "text": [
      "2217\n",
      "AUC:  0.855218855219\n"
     ]
    }
   ],
   "source": [
    "tokenize_test(CountVectorizer(min_df=2, max_df=0.5))"
   ]
  },
  {
   "cell_type": "markdown",
   "metadata": {},
   "source": [
    "**Reducing training set to highest-quality data increased AUC but more tunning didn't**"
   ]
  },
  {
   "cell_type": "markdown",
   "metadata": {},
   "source": [
    "## Task 9"
   ]
  },
  {
   "cell_type": "code",
   "execution_count": 52,
   "metadata": {
    "collapsed": true
   },
   "outputs": [],
   "source": [
    "X = data_with_confidence[\"review\"]\n",
    "y = data_with_confidence[\"rude\"]"
   ]
  },
  {
   "cell_type": "code",
   "execution_count": 64,
   "metadata": {
    "collapsed": true
   },
   "outputs": [],
   "source": [
    "vect = CountVectorizer(min_df=2, max_df=0.5)"
   ]
  },
  {
   "cell_type": "code",
   "execution_count": 65,
   "metadata": {
    "collapsed": false
   },
   "outputs": [],
   "source": [
    "X_dtm = vect.fit_transform(X)"
   ]
  },
  {
   "cell_type": "code",
   "execution_count": 66,
   "metadata": {
    "collapsed": true
   },
   "outputs": [],
   "source": [
    "new_comments = pd.read_csv(\"./mcdonalds_new.csv\")"
   ]
  },
  {
   "cell_type": "code",
   "execution_count": 67,
   "metadata": {
    "collapsed": false
   },
   "outputs": [
    {
     "data": {
      "text/html": [
       "<div>\n",
       "<table border=\"1\" class=\"dataframe\">\n",
       "  <thead>\n",
       "    <tr style=\"text-align: right;\">\n",
       "      <th></th>\n",
       "      <th>city</th>\n",
       "      <th>review</th>\n",
       "    </tr>\n",
       "  </thead>\n",
       "  <tbody>\n",
       "    <tr>\n",
       "      <th>0</th>\n",
       "      <td>Las Vegas</td>\n",
       "      <td>Went through the drive through and ordered a #10 (cripsy sweet chili chicken wrap) without fries- the lady couldn't understand that I did not want fries and charged me for them anyways. I got the wrong order- a chicken sandwich and a large fries- my boyfriend took it back inside to get the correct order. The gentleman that ordered the chicken sandwich was standing there as well and she took the bag from my bf- glanced at the insides and handed it to the man without even offering to replace. I mean with all the scares about viruses going around... ugh DISGUSTING SERVICE. Then when she gave him the correct order my wrap not only had the sweet chili sauce on it, but the nasty (just not my first choice) ranch dressing on it!!!! I mean seriously... how lazy can you get!!!! I worked at McDonalds in Texas when I was 17 for about 8 months and I guess I was spoiled with good management. This was absolutely ridiculous. I was beyond disappointed.</td>\n",
       "    </tr>\n",
       "    <tr>\n",
       "      <th>1</th>\n",
       "      <td>Chicago</td>\n",
       "      <td>Phenomenal experience. Efficient and friendly staff. Clean restrooms, good, fast service and bilingual staff. One of the best restaurants in the chain.</td>\n",
       "    </tr>\n",
       "    <tr>\n",
       "      <th>2</th>\n",
       "      <td>Los Angeles</td>\n",
       "      <td>Ghetto lady helped me at the drive thru. Very rude and disrespectful to the co workers. Never coming back. Yuck!</td>\n",
       "    </tr>\n",
       "    <tr>\n",
       "      <th>3</th>\n",
       "      <td>New York</td>\n",
       "      <td>Close to my workplace. It was well manged before. Now it's OK. The parking can be tight sometimes. Like all McDonald's, prices are getting expensive.</td>\n",
       "    </tr>\n",
       "    <tr>\n",
       "      <th>4</th>\n",
       "      <td>Portland</td>\n",
       "      <td>I've made at least 3 visits to this particular location just because it's right next to my office building.. and all my experience have been consistently bad.  There are a few helpers taking your orders throughout the drive-thru route and they are the worst. They rush you in placing an order and gets impatient once the order gets a tad bit complicated.  Don't even bother changing your mind oh NO! They will glare at you and snap at you if you want to change something.  I understand its FAST food, but I want my order placed right.  Not going back if I can help it.</td>\n",
       "    </tr>\n",
       "    <tr>\n",
       "      <th>5</th>\n",
       "      <td>Houston</td>\n",
       "      <td>Why did I revisited this McDonald's  again.  I needed to use the restroom  facilities  and the women's bathroom didn't have soap, the floor was wet,  the bathroom stink, and the toilets were nasty. This McDonald's is very nasty.</td>\n",
       "    </tr>\n",
       "    <tr>\n",
       "      <th>6</th>\n",
       "      <td>Atlanta</td>\n",
       "      <td>This specific McDonald's is the bar I hold all other fast food joints to now. Been working in this area for 3 years now and gone to this location many times for drive-through pickup. Service is always fast, food comes out right, and the staff is extremely warm and polite.</td>\n",
       "    </tr>\n",
       "    <tr>\n",
       "      <th>7</th>\n",
       "      <td>Dallas</td>\n",
       "      <td>My friend and I stopped in to get a late night snack and we were refused service. The store claimed to be 24 hours and the manager was standing right there doing paper work but would not help us. The cashier was only concerned with doing things for the drive thru and said that the manager said he wasn't allowed to help us. We thought it was a joke at first but when realized it wasn't we said goodbye and they just let us leave. I work in a restaurant and this is by far the worst service I have ever seen. I know it was late and maybe they didn't want to be there but it was completely ridiculous. I think the manager should be fired.</td>\n",
       "    </tr>\n",
       "    <tr>\n",
       "      <th>8</th>\n",
       "      <td>Cleveland</td>\n",
       "      <td>Friendly people but completely unable to deliver what was ordered at the drive through.  Out of my last 6 orders they got it right 3 times.  Incidentally, the billing was always correct - they just could not read the order and deliver.  Very frustrating!</td>\n",
       "    </tr>\n",
       "    <tr>\n",
       "      <th>9</th>\n",
       "      <td>NaN</td>\n",
       "      <td>Having visited many McDonald's over the years, I have to say that this one is the most efficient one ever! Even though it is still fast food, the service at the drive-thru is the best. They rarely make a mistake and I never see anyone parked in the drive-thru slots where they bring food out because they don't have it ready. So, if you like McDonald's fast food, it doesn't get any better than this.</td>\n",
       "    </tr>\n",
       "  </tbody>\n",
       "</table>\n",
       "</div>"
      ],
      "text/plain": [
       "          city  \\\n",
       "0  Las Vegas     \n",
       "1  Chicago       \n",
       "2  Los Angeles   \n",
       "3  New York      \n",
       "4  Portland      \n",
       "5  Houston       \n",
       "6  Atlanta       \n",
       "7  Dallas        \n",
       "8  Cleveland     \n",
       "9  NaN           \n",
       "\n",
       "                                                                                                                                                                                                                                                                                                                                                                                                                                                                                                                                                                                                                                                                                                                                                                                                                                                                                                                                                                                  review  \n",
       "0  Went through the drive through and ordered a #10 (cripsy sweet chili chicken wrap) without fries- the lady couldn't understand that I did not want fries and charged me for them anyways. I got the wrong order- a chicken sandwich and a large fries- my boyfriend took it back inside to get the correct order. The gentleman that ordered the chicken sandwich was standing there as well and she took the bag from my bf- glanced at the insides and handed it to the man without even offering to replace. I mean with all the scares about viruses going around... ugh DISGUSTING SERVICE. Then when she gave him the correct order my wrap not only had the sweet chili sauce on it, but the nasty (just not my first choice) ranch dressing on it!!!! I mean seriously... how lazy can you get!!!! I worked at McDonalds in Texas when I was 17 for about 8 months and I guess I was spoiled with good management. This was absolutely ridiculous. I was beyond disappointed.  \n",
       "1  Phenomenal experience. Efficient and friendly staff. Clean restrooms, good, fast service and bilingual staff. One of the best restaurants in the chain.                                                                                                                                                                                                                                                                                                                                                                                                                                                                                                                                                                                                                                                                                                                                                                                                                                \n",
       "2  Ghetto lady helped me at the drive thru. Very rude and disrespectful to the co workers. Never coming back. Yuck!                                                                                                                                                                                                                                                                                                                                                                                                                                                                                                                                                                                                                                                                                                                                                                                                                                                                       \n",
       "3  Close to my workplace. It was well manged before. Now it's OK. The parking can be tight sometimes. Like all McDonald's, prices are getting expensive.                                                                                                                                                                                                                                                                                                                                                                                                                                                                                                                                                                                                                                                                                                                                                                                                                                  \n",
       "4  I've made at least 3 visits to this particular location just because it's right next to my office building.. and all my experience have been consistently bad.  There are a few helpers taking your orders throughout the drive-thru route and they are the worst. They rush you in placing an order and gets impatient once the order gets a tad bit complicated.  Don't even bother changing your mind oh NO! They will glare at you and snap at you if you want to change something.  I understand its FAST food, but I want my order placed right.  Not going back if I can help it.                                                                                                                                                                                                                                                                                                                                                                                               \n",
       "5  Why did I revisited this McDonald's  again.  I needed to use the restroom  facilities  and the women's bathroom didn't have soap, the floor was wet,  the bathroom stink, and the toilets were nasty. This McDonald's is very nasty.                                                                                                                                                                                                                                                                                                                                                                                                                                                                                                                                                                                                                                                                                                                                                   \n",
       "6  This specific McDonald's is the bar I hold all other fast food joints to now. Been working in this area for 3 years now and gone to this location many times for drive-through pickup. Service is always fast, food comes out right, and the staff is extremely warm and polite.                                                                                                                                                                                                                                                                                                                                                                                                                                                                                                                                                                                                                                                                                                       \n",
       "7  My friend and I stopped in to get a late night snack and we were refused service. The store claimed to be 24 hours and the manager was standing right there doing paper work but would not help us. The cashier was only concerned with doing things for the drive thru and said that the manager said he wasn't allowed to help us. We thought it was a joke at first but when realized it wasn't we said goodbye and they just let us leave. I work in a restaurant and this is by far the worst service I have ever seen. I know it was late and maybe they didn't want to be there but it was completely ridiculous. I think the manager should be fired.                                                                                                                                                                                                                                                                                                                          \n",
       "8  Friendly people but completely unable to deliver what was ordered at the drive through.  Out of my last 6 orders they got it right 3 times.  Incidentally, the billing was always correct - they just could not read the order and deliver.  Very frustrating!                                                                                                                                                                                                                                                                                                                                                                                                                                                                                                                                                                                                                                                                                                                         \n",
       "9  Having visited many McDonald's over the years, I have to say that this one is the most efficient one ever! Even though it is still fast food, the service at the drive-thru is the best. They rarely make a mistake and I never see anyone parked in the drive-thru slots where they bring food out because they don't have it ready. So, if you like McDonald's fast food, it doesn't get any better than this.                                                                                                                                                                                                                                                                                                                                                                                                                                                                                                                                                                       "
      ]
     },
     "execution_count": 67,
     "metadata": {},
     "output_type": "execute_result"
    }
   ],
   "source": [
    "new_comments"
   ]
  },
  {
   "cell_type": "code",
   "execution_count": 68,
   "metadata": {
    "collapsed": false
   },
   "outputs": [],
   "source": [
    "new_comments_dtm = vect.transform(new_comments[\"review\"])"
   ]
  },
  {
   "cell_type": "code",
   "execution_count": 69,
   "metadata": {
    "collapsed": false
   },
   "outputs": [
    {
     "data": {
      "text/plain": [
       "(10, 2596)"
      ]
     },
     "execution_count": 69,
     "metadata": {},
     "output_type": "execute_result"
    }
   ],
   "source": [
    "new_comments_dtm.shape"
   ]
  },
  {
   "cell_type": "code",
   "execution_count": 70,
   "metadata": {
    "collapsed": false
   },
   "outputs": [
    {
     "data": {
      "text/plain": [
       "MultinomialNB(alpha=1.0, class_prior=None, fit_prior=True)"
      ]
     },
     "execution_count": 70,
     "metadata": {},
     "output_type": "execute_result"
    }
   ],
   "source": [
    "nb = MultinomialNB()\n",
    "nb.fit(X_dtm, y)"
   ]
  },
  {
   "cell_type": "code",
   "execution_count": 71,
   "metadata": {
    "collapsed": true
   },
   "outputs": [],
   "source": [
    "new_pred_prob = nb.predict_proba(new_comments_dtm)"
   ]
  },
  {
   "cell_type": "code",
   "execution_count": 72,
   "metadata": {
    "collapsed": false
   },
   "outputs": [],
   "source": [
    "df = pd.DataFrame({\"review\": new_comments[\"review\"], \"rude probaility\": new_pred_prob[:, 1]})"
   ]
  },
  {
   "cell_type": "code",
   "execution_count": 73,
   "metadata": {
    "collapsed": false
   },
   "outputs": [],
   "source": [
    "pd.set_option('display.max_colwidth', -1)"
   ]
  },
  {
   "cell_type": "code",
   "execution_count": 74,
   "metadata": {
    "collapsed": false
   },
   "outputs": [
    {
     "data": {
      "text/html": [
       "<div>\n",
       "<table border=\"1\" class=\"dataframe\">\n",
       "  <thead>\n",
       "    <tr style=\"text-align: right;\">\n",
       "      <th></th>\n",
       "      <th>review</th>\n",
       "      <th>rude probaility</th>\n",
       "    </tr>\n",
       "  </thead>\n",
       "  <tbody>\n",
       "    <tr>\n",
       "      <th>0</th>\n",
       "      <td>Went through the drive through and ordered a #10 (cripsy sweet chili chicken wrap) without fries- the lady couldn't understand that I did not want fries and charged me for them anyways. I got the wrong order- a chicken sandwich and a large fries- my boyfriend took it back inside to get the correct order. The gentleman that ordered the chicken sandwich was standing there as well and she took the bag from my bf- glanced at the insides and handed it to the man without even offering to replace. I mean with all the scares about viruses going around... ugh DISGUSTING SERVICE. Then when she gave him the correct order my wrap not only had the sweet chili sauce on it, but the nasty (just not my first choice) ranch dressing on it!!!! I mean seriously... how lazy can you get!!!! I worked at McDonalds in Texas when I was 17 for about 8 months and I guess I was spoiled with good management. This was absolutely ridiculous. I was beyond disappointed.</td>\n",
       "      <td>0.875167</td>\n",
       "    </tr>\n",
       "    <tr>\n",
       "      <th>1</th>\n",
       "      <td>Phenomenal experience. Efficient and friendly staff. Clean restrooms, good, fast service and bilingual staff. One of the best restaurants in the chain.</td>\n",
       "      <td>0.006100</td>\n",
       "    </tr>\n",
       "    <tr>\n",
       "      <th>2</th>\n",
       "      <td>Ghetto lady helped me at the drive thru. Very rude and disrespectful to the co workers. Never coming back. Yuck!</td>\n",
       "      <td>0.994579</td>\n",
       "    </tr>\n",
       "    <tr>\n",
       "      <th>3</th>\n",
       "      <td>Close to my workplace. It was well manged before. Now it's OK. The parking can be tight sometimes. Like all McDonald's, prices are getting expensive.</td>\n",
       "      <td>0.000088</td>\n",
       "    </tr>\n",
       "    <tr>\n",
       "      <th>4</th>\n",
       "      <td>I've made at least 3 visits to this particular location just because it's right next to my office building.. and all my experience have been consistently bad.  There are a few helpers taking your orders throughout the drive-thru route and they are the worst. They rush you in placing an order and gets impatient once the order gets a tad bit complicated.  Don't even bother changing your mind oh NO! They will glare at you and snap at you if you want to change something.  I understand its FAST food, but I want my order placed right.  Not going back if I can help it.</td>\n",
       "      <td>0.011205</td>\n",
       "    </tr>\n",
       "    <tr>\n",
       "      <th>5</th>\n",
       "      <td>Why did I revisited this McDonald's  again.  I needed to use the restroom  facilities  and the women's bathroom didn't have soap, the floor was wet,  the bathroom stink, and the toilets were nasty. This McDonald's is very nasty.</td>\n",
       "      <td>0.002499</td>\n",
       "    </tr>\n",
       "    <tr>\n",
       "      <th>6</th>\n",
       "      <td>This specific McDonald's is the bar I hold all other fast food joints to now. Been working in this area for 3 years now and gone to this location many times for drive-through pickup. Service is always fast, food comes out right, and the staff is extremely warm and polite.</td>\n",
       "      <td>0.061714</td>\n",
       "    </tr>\n",
       "    <tr>\n",
       "      <th>7</th>\n",
       "      <td>My friend and I stopped in to get a late night snack and we were refused service. The store claimed to be 24 hours and the manager was standing right there doing paper work but would not help us. The cashier was only concerned with doing things for the drive thru and said that the manager said he wasn't allowed to help us. We thought it was a joke at first but when realized it wasn't we said goodbye and they just let us leave. I work in a restaurant and this is by far the worst service I have ever seen. I know it was late and maybe they didn't want to be there but it was completely ridiculous. I think the manager should be fired.</td>\n",
       "      <td>0.999998</td>\n",
       "    </tr>\n",
       "    <tr>\n",
       "      <th>8</th>\n",
       "      <td>Friendly people but completely unable to deliver what was ordered at the drive through.  Out of my last 6 orders they got it right 3 times.  Incidentally, the billing was always correct - they just could not read the order and deliver.  Very frustrating!</td>\n",
       "      <td>0.031593</td>\n",
       "    </tr>\n",
       "    <tr>\n",
       "      <th>9</th>\n",
       "      <td>Having visited many McDonald's over the years, I have to say that this one is the most efficient one ever! Even though it is still fast food, the service at the drive-thru is the best. They rarely make a mistake and I never see anyone parked in the drive-thru slots where they bring food out because they don't have it ready. So, if you like McDonald's fast food, it doesn't get any better than this.</td>\n",
       "      <td>0.003719</td>\n",
       "    </tr>\n",
       "  </tbody>\n",
       "</table>\n",
       "</div>"
      ],
      "text/plain": [
       "                                                                                                                                                                                                                                                                                                                                                                                                                                                                                                                                                                                                                                                                                                                                                                                                                                                                                                                                                                                  review  \\\n",
       "0  Went through the drive through and ordered a #10 (cripsy sweet chili chicken wrap) without fries- the lady couldn't understand that I did not want fries and charged me for them anyways. I got the wrong order- a chicken sandwich and a large fries- my boyfriend took it back inside to get the correct order. The gentleman that ordered the chicken sandwich was standing there as well and she took the bag from my bf- glanced at the insides and handed it to the man without even offering to replace. I mean with all the scares about viruses going around... ugh DISGUSTING SERVICE. Then when she gave him the correct order my wrap not only had the sweet chili sauce on it, but the nasty (just not my first choice) ranch dressing on it!!!! I mean seriously... how lazy can you get!!!! I worked at McDonalds in Texas when I was 17 for about 8 months and I guess I was spoiled with good management. This was absolutely ridiculous. I was beyond disappointed.   \n",
       "1  Phenomenal experience. Efficient and friendly staff. Clean restrooms, good, fast service and bilingual staff. One of the best restaurants in the chain.                                                                                                                                                                                                                                                                                                                                                                                                                                                                                                                                                                                                                                                                                                                                                                                                                                 \n",
       "2  Ghetto lady helped me at the drive thru. Very rude and disrespectful to the co workers. Never coming back. Yuck!                                                                                                                                                                                                                                                                                                                                                                                                                                                                                                                                                                                                                                                                                                                                                                                                                                                                        \n",
       "3  Close to my workplace. It was well manged before. Now it's OK. The parking can be tight sometimes. Like all McDonald's, prices are getting expensive.                                                                                                                                                                                                                                                                                                                                                                                                                                                                                                                                                                                                                                                                                                                                                                                                                                   \n",
       "4  I've made at least 3 visits to this particular location just because it's right next to my office building.. and all my experience have been consistently bad.  There are a few helpers taking your orders throughout the drive-thru route and they are the worst. They rush you in placing an order and gets impatient once the order gets a tad bit complicated.  Don't even bother changing your mind oh NO! They will glare at you and snap at you if you want to change something.  I understand its FAST food, but I want my order placed right.  Not going back if I can help it.                                                                                                                                                                                                                                                                                                                                                                                                \n",
       "5  Why did I revisited this McDonald's  again.  I needed to use the restroom  facilities  and the women's bathroom didn't have soap, the floor was wet,  the bathroom stink, and the toilets were nasty. This McDonald's is very nasty.                                                                                                                                                                                                                                                                                                                                                                                                                                                                                                                                                                                                                                                                                                                                                    \n",
       "6  This specific McDonald's is the bar I hold all other fast food joints to now. Been working in this area for 3 years now and gone to this location many times for drive-through pickup. Service is always fast, food comes out right, and the staff is extremely warm and polite.                                                                                                                                                                                                                                                                                                                                                                                                                                                                                                                                                                                                                                                                                                        \n",
       "7  My friend and I stopped in to get a late night snack and we were refused service. The store claimed to be 24 hours and the manager was standing right there doing paper work but would not help us. The cashier was only concerned with doing things for the drive thru and said that the manager said he wasn't allowed to help us. We thought it was a joke at first but when realized it wasn't we said goodbye and they just let us leave. I work in a restaurant and this is by far the worst service I have ever seen. I know it was late and maybe they didn't want to be there but it was completely ridiculous. I think the manager should be fired.                                                                                                                                                                                                                                                                                                                           \n",
       "8  Friendly people but completely unable to deliver what was ordered at the drive through.  Out of my last 6 orders they got it right 3 times.  Incidentally, the billing was always correct - they just could not read the order and deliver.  Very frustrating!                                                                                                                                                                                                                                                                                                                                                                                                                                                                                                                                                                                                                                                                                                                          \n",
       "9  Having visited many McDonald's over the years, I have to say that this one is the most efficient one ever! Even though it is still fast food, the service at the drive-thru is the best. They rarely make a mistake and I never see anyone parked in the drive-thru slots where they bring food out because they don't have it ready. So, if you like McDonald's fast food, it doesn't get any better than this.                                                                                                                                                                                                                                                                                                                                                                                                                                                                                                                                                                        \n",
       "\n",
       "   rude probaility  \n",
       "0  0.875167         \n",
       "1  0.006100         \n",
       "2  0.994579         \n",
       "3  0.000088         \n",
       "4  0.011205         \n",
       "5  0.002499         \n",
       "6  0.061714         \n",
       "7  0.999998         \n",
       "8  0.031593         \n",
       "9  0.003719         "
      ]
     },
     "execution_count": 74,
     "metadata": {},
     "output_type": "execute_result"
    }
   ],
   "source": [
    "df"
   ]
  },
  {
   "cell_type": "markdown",
   "metadata": {},
   "source": [
    "Hmm, 2/10 are incorect so we have about 80% accuracy (like in tests). "
   ]
  },
  {
   "cell_type": "code",
   "execution_count": null,
   "metadata": {
    "collapsed": true
   },
   "outputs": [],
   "source": []
  }
 ],
 "metadata": {
  "kernelspec": {
   "display_name": "Python 3",
   "language": "python",
   "name": "python3"
  },
  "language_info": {
   "codemirror_mode": {
    "name": "ipython",
    "version": 3
   },
   "file_extension": ".py",
   "mimetype": "text/x-python",
   "name": "python",
   "nbconvert_exporter": "python",
   "pygments_lexer": "ipython3",
   "version": "3.4.3"
  }
 },
 "nbformat": 4,
 "nbformat_minor": 0
}
